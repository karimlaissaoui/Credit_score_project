{
 "cells": [
  {
   "cell_type": "markdown",
   "metadata": {},
   "source": [
    "## Business Context"
   ]
  },
  {
   "cell_type": "markdown",
   "metadata": {},
   "source": [
    "### Business Context for the Dataset Variables\n",
    "\n",
    "#### Objective\n",
    "This dataset is designed to analyze customer financial behavior, assess credit risk, and optimize financial decision-making. It helps financial institutions determine creditworthiness, detect fraud, and provide personalized financial services based on individual customer profiles.\n",
    "\n",
    "#### Unique Identifiers\n",
    "- **ID**: Unique identifier for each record.\n",
    "- **Customer_ID**: Unique identifier for each customer.\n",
    "\n",
    "#### Time-related Information\n",
    "- **Month**: Month associated with the financial data.\n",
    "\n",
    "#### Personal Information\n",
    "- **Name**: Customer's name.\n",
    "- **Age**: Customer's age, relevant for creditworthiness.\n",
    "- **SSN**: Social Security Number, used for identity verification.\n",
    "- **Occupation**: Customer's profession, impacting income stability.\n",
    "\n",
    "#### Income and Salary Details\n",
    "- **Annual_Income**: Total yearly income of the customer.\n",
    "- **Monthly_Inhand_Salary**: Take-home salary after deductions.\n",
    "\n",
    "####  Bank and Credit Information\n",
    "- **Num_Bank_Accounts**: Number of active bank accounts held.\n",
    "- **Num_Credit_Card**: Total number of credit cards.\n",
    "- **Interest_Rate**: Interest rate applied to loans.\n",
    "- **Num_of_Loan**: Total number of loans currently active.\n",
    "- **Type_of_Loan**: Types of loans taken (e.g., personal, mortgage).\n",
    "\n",
    "#### Payment and Credit Behavior\n",
    "- **Delay_from_due_date**: Average number of days payments are delayed.\n",
    "- **Num_of_Delayed_Payment**: Total number of delayed payments.\n",
    "- **Changed_Credit_Limit**: Records if and how credit limit changed.\n",
    "- **Num_Credit_Inquiries**: Number of credit checks requested.\n",
    "- **Credit_Mix**: Diversity of credit accounts (loans, credit cards, mortgages).\n",
    "- **Outstanding_Debt**: Total unpaid debt balance.\n",
    "- **Credit_Utilization_Ratio**: Percentage of available credit used.\n",
    "- **Credit_History_Age**: Length of time with active credit accounts.\n",
    "- **Payment_of_Min_Amount**: Indicates if only the minimum amount is paid on credit.\n",
    "\n",
    "#### Financial Health Indicators\n",
    "- **Total_EMI_per_month**: Total monthly Equated Monthly Installments (EMIs).\n",
    "- **Amount_invested_monthly**: Amount invested per month.\n",
    "- **Payment_Behaviour**: Patterns of how the customer makes payments.\n",
    "- **Monthly_Balance**: Remaining balance after all expenses and payments.\n",
    "- **Credit_Score**: Customer's final credit rating (e.g., Excellent, Good, Poor).\n",
    "\n",
    "#### Use Cases\n",
    "This dataset can be used for:\n",
    "- **Credit Risk Assessment**: Evaluating a customer's creditworthiness to determine loan eligibility and interest rates.\n",
    "- **Fraud Detection**: Identifying suspicious financial behavior and preventing fraudulent activities.\n",
    "- **Customer Segmentation**: Grouping customers based on financial behavior for personalized marketing strategies.\n",
    "- **Predictive Modeling**: Using machine learning to forecast credit defaults, payment behavior, and financial risks.\n",
    "- **Financial Advisory Services**: Providing data-driven recommendations to customers on managing loans, credit cards, and investments.\n",
    "\n",
    "**Summary:**\n",
    "This dataset is useful for analyzing customer credit behavior, identifying financial risks, and optimizing financial decision-making for banks and financial institutions.\n",
    "```\n"
   ]
  },
  {
   "cell_type": "markdown",
   "metadata": {},
   "source": [
    "## import package \n"
   ]
  },
  {
   "cell_type": "code",
   "execution_count": 5,
   "metadata": {},
   "outputs": [],
   "source": [
    "import pandas as pd \n",
    "import pathlib\n",
    "import os\n",
    "import seaborn as sns\n",
    "import matplotlib.pyplot as plt\n",
    "from scipy.stats import pearsonr\n",
    "import numpy as np\n",
    "from sklearn.preprocessing import LabelEncoder\n",
    "from sklearn.pipeline import Pipeline\n",
    "from sklearn.preprocessing import StandardScaler,MinMaxScaler\n",
    "from sklearn.impute import SimpleImputer\n",
    "from sklearn.preprocessing import OneHotEncoder,OrdinalEncoder\n",
    "from sklearn.decomposition import PCA\n",
    "from sklearn.tree import DecisionTreeRegressor\n",
    "from xgboost import XGBRegressor\n",
    "from sklearn.impute import KNNImputer\n",
    "from sklearn.experimental import enable_iterative_imputer\n",
    "from sklearn.impute import IterativeImputer\n",
    "from sklearn.linear_model import LinearRegression\n",
    "from sklearn.model_selection import train_test_split\n",
    "from sklearn.linear_model import LinearRegression\n",
    "from sklearn.metrics import mean_squared_error, mean_absolute_error, r2_score\n",
    "from sklearn.preprocessing import StandardScaler\n",
    "import time"
   ]
  },
  {
   "cell_type": "markdown",
   "metadata": {},
   "source": [
    "## import data "
   ]
  },
  {
   "cell_type": "code",
   "execution_count": 6,
   "metadata": {},
   "outputs": [
    {
     "name": "stderr",
     "output_type": "stream",
     "text": [
      "C:\\Users\\Client\\AppData\\Local\\Temp\\ipykernel_19700\\2394148567.py:1: DtypeWarning: Columns (26) have mixed types. Specify dtype option on import or set low_memory=False.\n",
      "  data_train= pd.read_csv(\"C:/Users/Client/Desktop/R studio project/credit_score_project/train.csv\")\n"
     ]
    },
    {
     "data": {
      "text/html": [
       "<div>\n",
       "<style scoped>\n",
       "    .dataframe tbody tr th:only-of-type {\n",
       "        vertical-align: middle;\n",
       "    }\n",
       "\n",
       "    .dataframe tbody tr th {\n",
       "        vertical-align: top;\n",
       "    }\n",
       "\n",
       "    .dataframe thead th {\n",
       "        text-align: right;\n",
       "    }\n",
       "</style>\n",
       "<table border=\"1\" class=\"dataframe\">\n",
       "  <thead>\n",
       "    <tr style=\"text-align: right;\">\n",
       "      <th></th>\n",
       "      <th>ID</th>\n",
       "      <th>Customer_ID</th>\n",
       "      <th>Month</th>\n",
       "      <th>Name</th>\n",
       "      <th>Age</th>\n",
       "      <th>SSN</th>\n",
       "      <th>Occupation</th>\n",
       "      <th>Annual_Income</th>\n",
       "      <th>Monthly_Inhand_Salary</th>\n",
       "      <th>Num_Bank_Accounts</th>\n",
       "      <th>...</th>\n",
       "      <th>Num_Credit_Inquiries</th>\n",
       "      <th>Credit_Mix</th>\n",
       "      <th>Outstanding_Debt</th>\n",
       "      <th>Credit_Utilization_Ratio</th>\n",
       "      <th>Credit_History_Age</th>\n",
       "      <th>Payment_of_Min_Amount</th>\n",
       "      <th>Total_EMI_per_month</th>\n",
       "      <th>Amount_invested_monthly</th>\n",
       "      <th>Payment_Behaviour</th>\n",
       "      <th>Monthly_Balance</th>\n",
       "    </tr>\n",
       "  </thead>\n",
       "  <tbody>\n",
       "    <tr>\n",
       "      <th>0</th>\n",
       "      <td>0x160a</td>\n",
       "      <td>CUS_0xd40</td>\n",
       "      <td>September</td>\n",
       "      <td>Aaron Maashoh</td>\n",
       "      <td>23</td>\n",
       "      <td>821-00-0265</td>\n",
       "      <td>Scientist</td>\n",
       "      <td>19114.12</td>\n",
       "      <td>1824.843333</td>\n",
       "      <td>3</td>\n",
       "      <td>...</td>\n",
       "      <td>2022.0</td>\n",
       "      <td>Good</td>\n",
       "      <td>809.98</td>\n",
       "      <td>35.030402</td>\n",
       "      <td>22 Years and 9 Months</td>\n",
       "      <td>No</td>\n",
       "      <td>49.574949</td>\n",
       "      <td>236.64268203272135</td>\n",
       "      <td>Low_spent_Small_value_payments</td>\n",
       "      <td>186.26670208571772</td>\n",
       "    </tr>\n",
       "    <tr>\n",
       "      <th>1</th>\n",
       "      <td>0x160b</td>\n",
       "      <td>CUS_0xd40</td>\n",
       "      <td>October</td>\n",
       "      <td>Aaron Maashoh</td>\n",
       "      <td>24</td>\n",
       "      <td>821-00-0265</td>\n",
       "      <td>Scientist</td>\n",
       "      <td>19114.12</td>\n",
       "      <td>1824.843333</td>\n",
       "      <td>3</td>\n",
       "      <td>...</td>\n",
       "      <td>4.0</td>\n",
       "      <td>Good</td>\n",
       "      <td>809.98</td>\n",
       "      <td>33.053114</td>\n",
       "      <td>22 Years and 10 Months</td>\n",
       "      <td>No</td>\n",
       "      <td>49.574949</td>\n",
       "      <td>21.465380264657146</td>\n",
       "      <td>High_spent_Medium_value_payments</td>\n",
       "      <td>361.44400385378196</td>\n",
       "    </tr>\n",
       "    <tr>\n",
       "      <th>2</th>\n",
       "      <td>0x160c</td>\n",
       "      <td>CUS_0xd40</td>\n",
       "      <td>November</td>\n",
       "      <td>Aaron Maashoh</td>\n",
       "      <td>24</td>\n",
       "      <td>821-00-0265</td>\n",
       "      <td>Scientist</td>\n",
       "      <td>19114.12</td>\n",
       "      <td>1824.843333</td>\n",
       "      <td>3</td>\n",
       "      <td>...</td>\n",
       "      <td>4.0</td>\n",
       "      <td>Good</td>\n",
       "      <td>809.98</td>\n",
       "      <td>33.811894</td>\n",
       "      <td>NaN</td>\n",
       "      <td>No</td>\n",
       "      <td>49.574949</td>\n",
       "      <td>148.23393788500925</td>\n",
       "      <td>Low_spent_Medium_value_payments</td>\n",
       "      <td>264.67544623342997</td>\n",
       "    </tr>\n",
       "    <tr>\n",
       "      <th>3</th>\n",
       "      <td>0x160d</td>\n",
       "      <td>CUS_0xd40</td>\n",
       "      <td>December</td>\n",
       "      <td>Aaron Maashoh</td>\n",
       "      <td>24_</td>\n",
       "      <td>821-00-0265</td>\n",
       "      <td>Scientist</td>\n",
       "      <td>19114.12</td>\n",
       "      <td>NaN</td>\n",
       "      <td>3</td>\n",
       "      <td>...</td>\n",
       "      <td>4.0</td>\n",
       "      <td>Good</td>\n",
       "      <td>809.98</td>\n",
       "      <td>32.430559</td>\n",
       "      <td>23 Years and 0 Months</td>\n",
       "      <td>No</td>\n",
       "      <td>49.574949</td>\n",
       "      <td>39.08251089460281</td>\n",
       "      <td>High_spent_Medium_value_payments</td>\n",
       "      <td>343.82687322383634</td>\n",
       "    </tr>\n",
       "    <tr>\n",
       "      <th>4</th>\n",
       "      <td>0x1616</td>\n",
       "      <td>CUS_0x21b1</td>\n",
       "      <td>September</td>\n",
       "      <td>Rick Rothackerj</td>\n",
       "      <td>28</td>\n",
       "      <td>004-07-5839</td>\n",
       "      <td>_______</td>\n",
       "      <td>34847.84</td>\n",
       "      <td>3037.986667</td>\n",
       "      <td>2</td>\n",
       "      <td>...</td>\n",
       "      <td>5.0</td>\n",
       "      <td>Good</td>\n",
       "      <td>605.03</td>\n",
       "      <td>25.926822</td>\n",
       "      <td>27 Years and 3 Months</td>\n",
       "      <td>No</td>\n",
       "      <td>18.816215</td>\n",
       "      <td>39.684018417945296</td>\n",
       "      <td>High_spent_Large_value_payments</td>\n",
       "      <td>485.2984336755923</td>\n",
       "    </tr>\n",
       "  </tbody>\n",
       "</table>\n",
       "<p>5 rows × 27 columns</p>\n",
       "</div>"
      ],
      "text/plain": [
       "       ID Customer_ID      Month             Name  Age          SSN  \\\n",
       "0  0x160a   CUS_0xd40  September    Aaron Maashoh   23  821-00-0265   \n",
       "1  0x160b   CUS_0xd40    October    Aaron Maashoh   24  821-00-0265   \n",
       "2  0x160c   CUS_0xd40   November    Aaron Maashoh   24  821-00-0265   \n",
       "3  0x160d   CUS_0xd40   December    Aaron Maashoh  24_  821-00-0265   \n",
       "4  0x1616  CUS_0x21b1  September  Rick Rothackerj   28  004-07-5839   \n",
       "\n",
       "  Occupation Annual_Income  Monthly_Inhand_Salary  Num_Bank_Accounts  ...  \\\n",
       "0  Scientist      19114.12            1824.843333                  3  ...   \n",
       "1  Scientist      19114.12            1824.843333                  3  ...   \n",
       "2  Scientist      19114.12            1824.843333                  3  ...   \n",
       "3  Scientist      19114.12                    NaN                  3  ...   \n",
       "4    _______      34847.84            3037.986667                  2  ...   \n",
       "\n",
       "   Num_Credit_Inquiries  Credit_Mix Outstanding_Debt Credit_Utilization_Ratio  \\\n",
       "0                2022.0        Good           809.98                35.030402   \n",
       "1                   4.0        Good           809.98                33.053114   \n",
       "2                   4.0        Good           809.98                33.811894   \n",
       "3                   4.0        Good           809.98                32.430559   \n",
       "4                   5.0        Good           605.03                25.926822   \n",
       "\n",
       "       Credit_History_Age Payment_of_Min_Amount Total_EMI_per_month  \\\n",
       "0   22 Years and 9 Months                    No           49.574949   \n",
       "1  22 Years and 10 Months                    No           49.574949   \n",
       "2                     NaN                    No           49.574949   \n",
       "3   23 Years and 0 Months                    No           49.574949   \n",
       "4   27 Years and 3 Months                    No           18.816215   \n",
       "\n",
       "   Amount_invested_monthly                 Payment_Behaviour  \\\n",
       "0       236.64268203272135    Low_spent_Small_value_payments   \n",
       "1       21.465380264657146  High_spent_Medium_value_payments   \n",
       "2       148.23393788500925   Low_spent_Medium_value_payments   \n",
       "3        39.08251089460281  High_spent_Medium_value_payments   \n",
       "4       39.684018417945296   High_spent_Large_value_payments   \n",
       "\n",
       "      Monthly_Balance  \n",
       "0  186.26670208571772  \n",
       "1  361.44400385378196  \n",
       "2  264.67544623342997  \n",
       "3  343.82687322383634  \n",
       "4   485.2984336755923  \n",
       "\n",
       "[5 rows x 27 columns]"
      ]
     },
     "execution_count": 6,
     "metadata": {},
     "output_type": "execute_result"
    }
   ],
   "source": [
    "data_train= pd.read_csv(\"C:/Users/Client/Desktop/R studio project/credit_score_project/train.csv\")\n",
    "data_test= pd.read_csv(\"C:/Users/Client/Desktop/R studio project/credit_score_project/test.csv\")\n",
    "df_test=pd.DataFrame(data_test)\n",
    "df_train=pd.DataFrame(data_train)\n",
    "df_train.head()\n",
    "df_test.head()"
   ]
  },
  {
   "cell_type": "markdown",
   "metadata": {},
   "source": [
    "## merge data "
   ]
  },
  {
   "cell_type": "code",
   "execution_count": 7,
   "metadata": {},
   "outputs": [
    {
     "name": "stdout",
     "output_type": "stream",
     "text": [
      "(150000, 28)\n"
     ]
    }
   ],
   "source": [
    "data_new = pd.concat([data_train, data_test], axis=0)\n",
    "\n",
    "data_new.reset_index(drop=True, inplace=True)\n",
    "data_new.to_csv(\"webesite_data.csv\", index=False)\n",
    "print(data_new.shape)"
   ]
  },
  {
   "cell_type": "code",
   "execution_count": 8,
   "metadata": {},
   "outputs": [
    {
     "data": {
      "text/plain": [
       "Index(['ID', 'Customer_ID', 'Month', 'Name', 'Age', 'SSN', 'Occupation',\n",
       "       'Annual_Income', 'Monthly_Inhand_Salary', 'Num_Bank_Accounts',\n",
       "       'Num_Credit_Card', 'Interest_Rate', 'Num_of_Loan', 'Type_of_Loan',\n",
       "       'Delay_from_due_date', 'Num_of_Delayed_Payment', 'Changed_Credit_Limit',\n",
       "       'Num_Credit_Inquiries', 'Credit_Mix', 'Outstanding_Debt',\n",
       "       'Credit_Utilization_Ratio', 'Credit_History_Age',\n",
       "       'Payment_of_Min_Amount', 'Total_EMI_per_month',\n",
       "       'Amount_invested_monthly', 'Payment_Behaviour', 'Monthly_Balance',\n",
       "       'Credit_Score'],\n",
       "      dtype='object')"
      ]
     },
     "execution_count": 8,
     "metadata": {},
     "output_type": "execute_result"
    }
   ],
   "source": [
    "df=data_new\n",
    "df.columns"
   ]
  },
  {
   "cell_type": "code",
   "execution_count": 9,
   "metadata": {},
   "outputs": [
    {
     "data": {
      "text/plain": [
       "ID                           object\n",
       "Customer_ID                  object\n",
       "Month                        object\n",
       "Name                         object\n",
       "Age                          object\n",
       "SSN                          object\n",
       "Occupation                   object\n",
       "Annual_Income                object\n",
       "Monthly_Inhand_Salary       float64\n",
       "Num_Bank_Accounts             int64\n",
       "Num_Credit_Card               int64\n",
       "Interest_Rate                 int64\n",
       "Num_of_Loan                  object\n",
       "Type_of_Loan                 object\n",
       "Delay_from_due_date           int64\n",
       "Num_of_Delayed_Payment       object\n",
       "Changed_Credit_Limit         object\n",
       "Num_Credit_Inquiries        float64\n",
       "Credit_Mix                   object\n",
       "Outstanding_Debt             object\n",
       "Credit_Utilization_Ratio    float64\n",
       "Credit_History_Age           object\n",
       "Payment_of_Min_Amount        object\n",
       "Total_EMI_per_month         float64\n",
       "Amount_invested_monthly      object\n",
       "Payment_Behaviour            object\n",
       "Monthly_Balance              object\n",
       "Credit_Score                 object\n",
       "dtype: object"
      ]
     },
     "execution_count": 9,
     "metadata": {},
     "output_type": "execute_result"
    }
   ],
   "source": [
    "df.dtypes"
   ]
  },
  {
   "cell_type": "code",
   "execution_count": 10,
   "metadata": {},
   "outputs": [
    {
     "data": {
      "text/plain": [
       "ID                              0\n",
       "Customer_ID                     0\n",
       "Month                           0\n",
       "Name                        15000\n",
       "Age                             0\n",
       "SSN                             0\n",
       "Occupation                      0\n",
       "Annual_Income                   0\n",
       "Monthly_Inhand_Salary       22500\n",
       "Num_Bank_Accounts               0\n",
       "Num_Credit_Card                 0\n",
       "Interest_Rate                   0\n",
       "Num_of_Loan                     0\n",
       "Type_of_Loan                17112\n",
       "Delay_from_due_date             0\n",
       "Num_of_Delayed_Payment      10500\n",
       "Changed_Credit_Limit            0\n",
       "Num_Credit_Inquiries         3000\n",
       "Credit_Mix                      0\n",
       "Outstanding_Debt                0\n",
       "Credit_Utilization_Ratio        0\n",
       "Credit_History_Age          13500\n",
       "Payment_of_Min_Amount           0\n",
       "Total_EMI_per_month             0\n",
       "Amount_invested_monthly      6750\n",
       "Payment_Behaviour               0\n",
       "Monthly_Balance              1762\n",
       "Credit_Score                50000\n",
       "dtype: int64"
      ]
     },
     "execution_count": 10,
     "metadata": {},
     "output_type": "execute_result"
    }
   ],
   "source": [
    "df.isna().sum()"
   ]
  },
  {
   "cell_type": "markdown",
   "metadata": {},
   "source": [
    "## data structure "
   ]
  },
  {
   "cell_type": "code",
   "execution_count": 11,
   "metadata": {},
   "outputs": [
    {
     "name": "stdout",
     "output_type": "stream",
     "text": [
      "############################################################\n",
      "Data Overview\n",
      "\n",
      " Total Rows: 150,000\n",
      "Total Columns: 28\n",
      "Column Names:\n",
      "['ID', 'Customer_ID', 'Month', 'Name', 'Age', 'SSN', 'Occupation', 'Annual_Income', 'Monthly_Inhand_Salary', 'Num_Bank_Accounts', 'Num_Credit_Card', 'Interest_Rate', 'Num_of_Loan', 'Type_of_Loan', 'Delay_from_due_date', 'Num_of_Delayed_Payment', 'Changed_Credit_Limit', 'Num_Credit_Inquiries', 'Credit_Mix', 'Outstanding_Debt', 'Credit_Utilization_Ratio', 'Credit_History_Age', 'Payment_of_Min_Amount', 'Total_EMI_per_month', 'Amount_invested_monthly', 'Payment_Behaviour', 'Monthly_Balance', 'Credit_Score']\n",
      "############################################################\n",
      "\n",
      " Data Types Overview\n",
      "object     20\n",
      "float64     4\n",
      "int64       4\n",
      "Name: count, dtype: int64\n",
      "\n",
      "Qualitative Variables:\n",
      "['ID', 'Customer_ID', 'Month', 'Name', 'Age', 'SSN', 'Occupation', 'Annual_Income', 'Num_of_Loan', 'Type_of_Loan', 'Num_of_Delayed_Payment', 'Changed_Credit_Limit', 'Credit_Mix', 'Outstanding_Debt', 'Credit_History_Age', 'Payment_of_Min_Amount', 'Amount_invested_monthly', 'Payment_Behaviour', 'Monthly_Balance', 'Credit_Score']\n",
      "\n",
      " Quantitative Variables:\n",
      "['Monthly_Inhand_Salary', 'Num_Bank_Accounts', 'Num_Credit_Card', 'Interest_Rate', 'Delay_from_due_date', 'Num_Credit_Inquiries', 'Credit_Utilization_Ratio', 'Total_EMI_per_month']\n",
      "\n",
      " Missing Values Summary:\n",
      "Name                       15000\n",
      "Monthly_Inhand_Salary      22500\n",
      "Type_of_Loan               17112\n",
      "Num_of_Delayed_Payment     10500\n",
      "Num_Credit_Inquiries        3000\n",
      "Credit_History_Age         13500\n",
      "Amount_invested_monthly     6750\n",
      "Monthly_Balance             1762\n",
      "Credit_Score               50000\n",
      "dtype: int64\n",
      "############################################################\n"
     ]
    }
   ],
   "source": [
    "import pandas as pd\n",
    "\n",
    "def data_summary(df):\n",
    "    print(\"#\" * 60)\n",
    "    print(f\"Data Overview\\n\")\n",
    "    print(f\" Total Rows: {df.shape[0]:,}\")\n",
    "    print(f\"Total Columns: {df.shape[1]:,}\")\n",
    "    print(f\"Column Names:\\n{list(df.columns)}\")\n",
    "    \n",
    "    print(\"#\" * 60)\n",
    "    print(\"\\n Data Types Overview\")\n",
    "    print(df.dtypes.value_counts())\n",
    "    \n",
    "    # Séparer les colonnes qualitatives et quantitatives\n",
    "    qualitative_columns = df.select_dtypes(include=[\"object\"]).columns.tolist()\n",
    "    quantitative_columns = df.select_dtypes(include=[\"number\"]).columns.tolist()\n",
    "    \n",
    "    print(\"\\nQualitative Variables:\")\n",
    "    print(qualitative_columns if qualitative_columns else \"None\")\n",
    "    \n",
    "    print(\"\\n Quantitative Variables:\")\n",
    "    print(quantitative_columns if quantitative_columns else \"None\")\n",
    "    \n",
    "    print(\"\\n Missing Values Summary:\")\n",
    "    missing_values = df.isnull().sum()\n",
    "    missing_values = missing_values[missing_values > 0]\n",
    "    if missing_values.empty:\n",
    "        print(\"No missing values 🎉\")\n",
    "    else:\n",
    "        print(missing_values)\n",
    "    \n",
    "    print(\"#\" * 60)\n",
    "data_summary(df)"
   ]
  },
  {
   "cell_type": "code",
   "execution_count": 12,
   "metadata": {},
   "outputs": [
    {
     "name": "stdout",
     "output_type": "stream",
     "text": [
      "# of NaNs in df:\n"
     ]
    },
    {
     "data": {
      "text/plain": [
       "Credit_Score               50000\n",
       "Monthly_Inhand_Salary      22500\n",
       "Type_of_Loan               17112\n",
       "Name                       15000\n",
       "Credit_History_Age         13500\n",
       "Num_of_Delayed_Payment     10500\n",
       "Amount_invested_monthly     6750\n",
       "Num_Credit_Inquiries        3000\n",
       "Monthly_Balance             1762\n",
       "dtype: int64"
      ]
     },
     "execution_count": 12,
     "metadata": {},
     "output_type": "execute_result"
    }
   ],
   "source": [
    "def na(df, percent = True):\n",
    "    srs = df.isna().sum()[df.isna().sum() > 0]\n",
    "    srs = srs.sort_values(ascending=False)\n",
    "    if percent:\n",
    "        print('% of NaNs in df:')\n",
    "        return srs / df.shape[0]\n",
    "    else:\n",
    "        print('# of NaNs in df:')\n",
    "        return srs\n",
    "\n",
    "na(df, False)"
   ]
  },
  {
   "cell_type": "code",
   "execution_count": 13,
   "metadata": {},
   "outputs": [
    {
     "name": "stdout",
     "output_type": "stream",
     "text": [
      "Credit_Score               33.333333\n",
      "Monthly_Inhand_Salary      15.000000\n",
      "Type_of_Loan               11.408000\n",
      "Name                       10.000000\n",
      "Credit_History_Age          9.000000\n",
      "Num_of_Delayed_Payment      7.000000\n",
      "Amount_invested_monthly     4.500000\n",
      "Num_Credit_Inquiries        2.000000\n",
      "Monthly_Balance             1.174667\n",
      "dtype: float64\n"
     ]
    },
    {
     "data": {
      "image/png": "[encoded data removed]",
      "text/plain": [
       "<Figure size 1500x800 with 1 Axes>"
      ]
     },
     "metadata": {},
     "output_type": "display_data"
    }
   ],
   "source": [
    "#Calculate the percentage of NaNs per column\n",
    "na_percentage = (df.isna().sum() / len(df)) * 100\n",
    "\n",
    "# Filter out columns with no missing values\n",
    "na_percentage = na_percentage[na_percentage > 0]\n",
    "\n",
    "# Sort by the percentage of missing values\n",
    "na_percentage = na_percentage.sort_values(ascending=False)\n",
    "print(na_percentage)\n",
    "# Plot the percentage of missing values\n",
    "plt.figure(figsize=(15, 8))\n",
    "na_percentage.plot(kind='bar', color='orange')\n",
    "plt.title('Percentage of Missing Values per Column')\n",
    "plt.xlabel('Columns')\n",
    "plt.ylabel('Percentage of Missing Values')\n",
    "plt.xticks(rotation=90)\n",
    "plt.grid(axis='y', linestyle='--', alpha=0.7)\n",
    "plt.show()"
   ]
  },
  {
   "cell_type": "markdown",
   "metadata": {},
   "source": [
    "## Cleaning data "
   ]
  },
  {
   "cell_type": "markdown",
   "metadata": {},
   "source": [
    "### data issues "
   ]
  },
  {
   "cell_type": "code",
   "execution_count": 14,
   "metadata": {},
   "outputs": [
    {
     "data": {
      "text/plain": [
       "Index(['ID', 'Customer_ID', 'Month', 'Name', 'Age', 'SSN', 'Occupation',\n",
       "       'Annual_Income', 'Monthly_Inhand_Salary', 'Num_Bank_Accounts',\n",
       "       'Num_Credit_Card', 'Interest_Rate', 'Num_of_Loan', 'Type_of_Loan',\n",
       "       'Delay_from_due_date', 'Num_of_Delayed_Payment', 'Changed_Credit_Limit',\n",
       "       'Num_Credit_Inquiries', 'Credit_Mix', 'Outstanding_Debt',\n",
       "       'Credit_Utilization_Ratio', 'Credit_History_Age',\n",
       "       'Payment_of_Min_Amount', 'Total_EMI_per_month',\n",
       "       'Amount_invested_monthly', 'Payment_Behaviour', 'Monthly_Balance',\n",
       "       'Credit_Score'],\n",
       "      dtype='object')"
      ]
     },
     "execution_count": 14,
     "metadata": {},
     "output_type": "execute_result"
    }
   ],
   "source": [
    "df.columns "
   ]
  },
  {
   "cell_type": "code",
   "execution_count": 15,
   "metadata": {},
   "outputs": [
    {
     "name": "stdout",
     "output_type": "stream",
     "text": [
      "             id customer_id      month            name   age          ssn  \\\n",
      "0        0x1602   CUS_0xd40    January   Aaron Maashoh    23  821-00-0265   \n",
      "1        0x1603   CUS_0xd40   February   Aaron Maashoh    23  821-00-0265   \n",
      "2        0x1604   CUS_0xd40      March   Aaron Maashoh  -500  821-00-0265   \n",
      "3        0x1605   CUS_0xd40      April   Aaron Maashoh    23  821-00-0265   \n",
      "4        0x1606   CUS_0xd40        May   Aaron Maashoh    23  821-00-0265   \n",
      "...         ...         ...        ...             ...   ...          ...   \n",
      "149995  0x25fe5  CUS_0x8600   December  Sarah McBridec  4975  031-35-0942   \n",
      "149996  0x25fee  CUS_0x942c  September           Nicks    25  078-73-5990   \n",
      "149997  0x25fef  CUS_0x942c    October           Nicks    25  078-73-5990   \n",
      "149998  0x25ff0  CUS_0x942c   November           Nicks    25  078-73-5990   \n",
      "149999  0x25ff1  CUS_0x942c   December           Nicks    25  078-73-5990   \n",
      "\n",
      "       occupation  annual_income  monthly_inhand_salary  num_bank_accounts  \\\n",
      "0       Scientist       19114.12            1824.843333                  3   \n",
      "1       Scientist       19114.12                    NaN                  3   \n",
      "2       Scientist       19114.12                    NaN                  3   \n",
      "3       Scientist       19114.12                    NaN                  3   \n",
      "4       Scientist       19114.12            1824.843333                  3   \n",
      "...           ...            ...                    ...                ...   \n",
      "149995  Architect       20002.88            1929.906667                 10   \n",
      "149996   Mechanic       39628.99                    NaN                  4   \n",
      "149997   Mechanic       39628.99            3359.415833                  4   \n",
      "149998   Mechanic       39628.99                    NaN                  4   \n",
      "149999   Mechanic       39628.99            3359.415833                  4   \n",
      "\n",
      "        ...  credit_mix  outstanding_debt  credit_utilization_ratio  \\\n",
      "0       ...           _            809.98                 26.822620   \n",
      "1       ...        Good            809.98                 31.944960   \n",
      "2       ...        Good            809.98                 28.609352   \n",
      "3       ...        Good            809.98                 31.377862   \n",
      "4       ...        Good            809.98                 24.797347   \n",
      "...     ...         ...               ...                       ...   \n",
      "149995  ...           _           3571.70                 34.780553   \n",
      "149996  ...        Good            502.38                 27.758522   \n",
      "149997  ...        Good            502.38                 36.858542   \n",
      "149998  ...        Good            502.38                 39.139840   \n",
      "149999  ...           _            502.38                 34.108530   \n",
      "\n",
      "       credit_history_age  payment_of_min_amount  total_emi_per_month  \\\n",
      "0                   221.0                     No            49.574949   \n",
      "1                     NaN                     No            49.574949   \n",
      "2                   223.0                     No            49.574949   \n",
      "3                   224.0                     No            49.574949   \n",
      "4                   225.0                     No            49.574949   \n",
      "...                   ...                    ...                  ...   \n",
      "149995                NaN                    Yes            60.964772   \n",
      "149996             3111.0                     NM            35.104023   \n",
      "149997              320.0                     No            35.104023   \n",
      "149998              321.0                     No            35.104023   \n",
      "149999              322.0                     No            35.104023   \n",
      "\n",
      "        amount_invested_monthly                 payment_behaviour  \\\n",
      "0                     80.415295   High_spent_Small_value_payments   \n",
      "1                    118.280222    Low_spent_Large_value_payments   \n",
      "2                     81.699521   Low_spent_Medium_value_payments   \n",
      "3                    199.458074    Low_spent_Small_value_payments   \n",
      "4                     41.420153  High_spent_Medium_value_payments   \n",
      "...                         ...                               ...   \n",
      "149995               146.486325    Low_spent_Small_value_payments   \n",
      "149996               181.442999    Low_spent_Small_value_payments   \n",
      "149997             10000.000000    Low_spent_Large_value_payments   \n",
      "149998                97.598580   High_spent_Small_value_payments   \n",
      "149999               220.457878   Low_spent_Medium_value_payments   \n",
      "\n",
      "       monthly_balance  credit_score  \n",
      "0           312.494089          Good  \n",
      "1           284.629162          Good  \n",
      "2           331.209863          Good  \n",
      "3           223.451310          Good  \n",
      "4           341.489231          Good  \n",
      "...                ...           ...  \n",
      "149995      275.539570           NaN  \n",
      "149996      409.394562           NaN  \n",
      "149997      349.726332           NaN  \n",
      "149998      463.238981           NaN  \n",
      "149999      360.379683           NaN  \n",
      "\n",
      "[150000 rows x 28 columns]\n"
     ]
    }
   ],
   "source": [
    "import pandas as pd\n",
    "import re\n",
    "\n",
    "class DataCleaner:\n",
    "    def __init__(self, df):\n",
    "        self.df = df\n",
    "\n",
    "    def clean_column_names(self):\n",
    "        \"\"\"Nettoie les noms de colonnes en remplaçant espaces et caractères spéciaux.\"\"\"\n",
    "        self.df.columns = (\n",
    "            self.df.columns.str.strip()\n",
    "            .str.lower()\n",
    "            .str.replace(r'[^a-z0-9_]', '_', regex=True)\n",
    "        )\n",
    "        return self\n",
    "\n",
    "    def clean_numeric_columns(self, numeric_columns):\n",
    "        \"\"\"Nettoie uniquement les colonnes qui peuvent contenir des chiffres.\"\"\"\n",
    "        for col in numeric_columns:\n",
    "            if col in self.df.columns and self.df[col].dtype == object:  # Vérifie si la colonne existe et contient du texte\n",
    "                # Supprime caractères spéciaux et espaces\n",
    "                self.df[col] = (\n",
    "                    self.df[col]\n",
    "                    .astype(str)\n",
    "                    .str.replace(r'[^0-9.,-]', '', regex=True)  # Garde les nombres négatifs\n",
    "                    .str.replace(',', '.', regex=True)  # Convertit les virgules en points\n",
    "                )\n",
    "                # Convertit en float/int\n",
    "                self.df[col] = pd.to_numeric(self.df[col], errors='coerce')\n",
    "        return self \n",
    "    def clean_data(self, numeric_columns):\n",
    "        \"\"\"Applique les corrections uniquement sur les colonnes numériques spécifiées.\"\"\"\n",
    "        return (\n",
    "            self.clean_column_names()\n",
    "            .clean_numeric_columns(numeric_columns)\n",
    "            .df\n",
    "        )\n",
    "# Liste des colonnes à traiter\n",
    "numeric_columns = [\n",
    "    'age', 'annual_income', 'monthly_inhand_salary',\n",
    "    'num_bank_accounts', 'num_credit_card', 'interest_rate', 'num_of_loan', 'delay_from_due_date',\n",
    "    'num_of_delayed_payment', 'changed_credit_limit', 'num_credit_inquiries', 'outstanding_debt',\n",
    "    'credit_utilization_ratio', 'credit_history_age', 'total_emi_per_month',\n",
    "    'amount_invested_monthly', 'monthly_balance'\n",
    "]\n",
    "# Nettoyage\n",
    "cleaner = DataCleaner(df)\n",
    "df = cleaner.clean_data(numeric_columns)\n",
    "print(df) "
   ]
  },
  {
   "cell_type": "code",
   "execution_count": 16,
   "metadata": {},
   "outputs": [],
   "source": [
    "import pandas as pd\n",
    "import numpy as np\n",
    "\n",
    "def clean_invalid_values(df):\n",
    "    \"\"\"\n",
    "    Nettoie les colonnes `ssn` et `occupation` en supprimant les valeurs illogiques.\n",
    "    \n",
    "    - `ssn`: Doit être un format numérique valide (ex: 123-45-6789)\n",
    "    - `occupation`: Doit contenir uniquement des lettres (ex: 'Doctor', 'Engineer')\n",
    "    \n",
    "    Paramètre:\n",
    "    df (pd.DataFrame): DataFrame contenant les données à nettoyer.\n",
    "    \n",
    "    Retourne:\n",
    "    df (pd.DataFrame): DataFrame avec les valeurs corrigées.\n",
    "    \"\"\"\n",
    "    \n",
    "    # --- Nettoyage de la colonne `ssn` ---\n",
    "    # Vérifier si `ssn` est une série de chiffres valides (on suppose un format XXX-XX-XXXX)\n",
    "    ssn_pattern = r'^\\d{3}-\\d{2}-\\d{4}$'  \n",
    "    df['ssn'] = df['ssn'].astype(str)  # Convertir en string si nécessaire\n",
    "    df.loc[~df['ssn'].str.match(ssn_pattern, na=False), 'ssn'] = np.nan  # Remplacer les valeurs invalides par NaN\n",
    "\n",
    "    # --- Nettoyage de la colonne `occupation` ---\n",
    "    # Vérifier si `occupation` contient uniquement des lettres\n",
    "    occupation_pattern = r'^[A-Za-z\\s]+$'  # Seules les lettres et espaces sont autorisés\n",
    "    df['occupation'] = df['occupation'].astype(str)  # Convertir en string si nécessaire\n",
    "    df.loc[~df['occupation'].str.match(occupation_pattern, na=False), 'occupation'] = np.nan  # Remplacer les valeurs invalides\n",
    "\n",
    "    return df\n",
    "df = clean_invalid_values(df)\n"
   ]
  },
  {
   "cell_type": "code",
   "execution_count": 17,
   "metadata": {},
   "outputs": [
    {
     "name": "stdout",
     "output_type": "stream",
     "text": [
      "             id customer_id      month            name   age          ssn  \\\n",
      "0        0x1602   CUS_0xd40    January   Aaron Maashoh  23.0  821-00-0265   \n",
      "1        0x1603   CUS_0xd40   February   Aaron Maashoh  23.0  821-00-0265   \n",
      "2        0x1604   CUS_0xd40      March   Aaron Maashoh  34.0  821-00-0265   \n",
      "3        0x1605   CUS_0xd40      April   Aaron Maashoh  23.0  821-00-0265   \n",
      "4        0x1606   CUS_0xd40        May   Aaron Maashoh  23.0  821-00-0265   \n",
      "...         ...         ...        ...             ...   ...          ...   \n",
      "149995  0x25fe5  CUS_0x8600   December  Sarah McBridec  34.0  031-35-0942   \n",
      "149996  0x25fee  CUS_0x942c  September           Nicks  25.0  078-73-5990   \n",
      "149997  0x25fef  CUS_0x942c    October           Nicks  25.0  078-73-5990   \n",
      "149998  0x25ff0  CUS_0x942c   November           Nicks  25.0  078-73-5990   \n",
      "149999  0x25ff1  CUS_0x942c   December           Nicks  25.0  078-73-5990   \n",
      "\n",
      "       occupation  annual_income  monthly_inhand_salary  num_bank_accounts  \\\n",
      "0       Scientist       19114.12            1824.843333                3.0   \n",
      "1       Scientist       19114.12            3119.696667                3.0   \n",
      "2       Scientist       19114.12            3119.696667                3.0   \n",
      "3       Scientist       19114.12            3119.696667                3.0   \n",
      "4       Scientist       19114.12            1824.843333                3.0   \n",
      "...           ...            ...                    ...                ...   \n",
      "149995  Architect       20002.88            1929.906667               10.0   \n",
      "149996   Mechanic       39628.99            3119.696667                4.0   \n",
      "149997   Mechanic       39628.99            3359.415833                4.0   \n",
      "149998   Mechanic       39628.99            3119.696667                4.0   \n",
      "149999   Mechanic       39628.99            3359.415833                4.0   \n",
      "\n",
      "        ...  credit_mix  outstanding_debt  credit_utilization_ratio  \\\n",
      "0       ...           _            809.98                 26.822620   \n",
      "1       ...        Good            809.98                 31.944960   \n",
      "2       ...        Good            809.98                 28.609352   \n",
      "3       ...        Good            809.98                 31.377862   \n",
      "4       ...        Good            809.98                 24.797347   \n",
      "...     ...         ...               ...                       ...   \n",
      "149995  ...           _           3571.70                 34.780553   \n",
      "149996  ...        Good            502.38                 27.758522   \n",
      "149997  ...        Good            502.38                 36.858542   \n",
      "149998  ...        Good            502.38                 39.139840   \n",
      "149999  ...           _            502.38                 34.108530   \n",
      "\n",
      "       credit_history_age  payment_of_min_amount  total_emi_per_month  \\\n",
      "0                    26.0                     No            49.574949   \n",
      "1                    26.0                     No            49.574949   \n",
      "2                    26.0                     No            49.574949   \n",
      "3                    26.0                     No            49.574949   \n",
      "4                    26.0                     No            49.574949   \n",
      "...                   ...                    ...                  ...   \n",
      "149995               26.0                    Yes            60.964772   \n",
      "149996               26.0                     NM            35.104023   \n",
      "149997               26.0                     No            35.104023   \n",
      "149998               26.0                     No            35.104023   \n",
      "149999               26.0                     No            35.104023   \n",
      "\n",
      "        amount_invested_monthly                 payment_behaviour  \\\n",
      "0                     80.415295   High_spent_Small_value_payments   \n",
      "1                    118.280222    Low_spent_Large_value_payments   \n",
      "2                     81.699521   Low_spent_Medium_value_payments   \n",
      "3                    199.458074    Low_spent_Small_value_payments   \n",
      "4                     41.420153  High_spent_Medium_value_payments   \n",
      "...                         ...                               ...   \n",
      "149995               146.486325    Low_spent_Small_value_payments   \n",
      "149996               181.442999    Low_spent_Small_value_payments   \n",
      "149997             10000.000000    Low_spent_Large_value_payments   \n",
      "149998                97.598580   High_spent_Small_value_payments   \n",
      "149999               220.457878   Low_spent_Medium_value_payments   \n",
      "\n",
      "       monthly_balance  credit_score  \n",
      "0           312.494089          Good  \n",
      "1           284.629162          Good  \n",
      "2           331.209863          Good  \n",
      "3           223.451310          Good  \n",
      "4           341.489231          Good  \n",
      "...                ...           ...  \n",
      "149995      275.539570           NaN  \n",
      "149996      409.394562           NaN  \n",
      "149997      349.726332           NaN  \n",
      "149998      463.238981           NaN  \n",
      "149999      360.379683           NaN  \n",
      "\n",
      "[150000 rows x 28 columns]\n"
     ]
    }
   ],
   "source": [
    "import pandas as pd\n",
    "import numpy as np\n",
    "\n",
    "class FinancialDataCleaner:\n",
    "    def __init__(self, df):\n",
    "        self.df = df.copy()\n",
    "\n",
    "    def correct_financial_values(self):\n",
    "        \"\"\"Corrige les valeurs illogiques en se basant sur des règles financières.\"\"\"\n",
    "        # Définition des seuils financiers logiques\n",
    "        rules = {\n",
    "            \"age\": (18, 100),  # Âge réaliste entre 18 et 100 ans\n",
    "            \"annual_income\": (5000, 1000000),  # Salaire annuel entre 5k et 1M\n",
    "            \"monthly_inhand_salary\": (500, 50000),  # Salaire mensuel entre 500 et 50k\n",
    "            \"num_bank_accounts\": (0, 20),  # Nombre de comptes bancaires réaliste\n",
    "            \"num_credit_card\": (0, 15),  # Nombre de cartes de crédit max 15\n",
    "            \"interest_rate\": (0, 100),  # Taux d’intérêt entre 0% et 100%\n",
    "            \"num_of_loan\": (0, 10),  # Nombre de prêts max 10\n",
    "            \"delay_from_due_date\": (0, 365),  # Retard max d'un an\n",
    "            \"num_of_delayed_payment\": (0, 50),  # Nombre max de paiements en retard\n",
    "            \"changed_credit_limit\": (-50000, 50000),  # Changement de crédit max +/- 50k\n",
    "            \"num_credit_inquiries\": (0, 50),  # Nombre d'enquêtes de crédit\n",
    "            \"outstanding_debt\": (0, 1000000),  # Dette max de 1M\n",
    "            \"credit_utilization_ratio\": (0, 100),  # Ratio entre 0% et 100%\n",
    "            \"credit_history_age\": (0, 50),  # Historique de crédit max 50 ans\n",
    "            \"total_emi_per_month\": (0, 50000),  # Paiement EMI mensuel max 50k\n",
    "            \"amount_invested_monthly\": (0, 50000),  # Investissement mensuel max 50k\n",
    "            \"monthly_balance\": (-10000, 100000)  # Balance mensuelle réaliste\n",
    "        }\n",
    "\n",
    "        for col, (min_val, max_val) in rules.items():\n",
    "            if col in self.df.columns:\n",
    "                # Supprime les valeurs négatives impossibles (comme un âge < 0)\n",
    "                self.df[col] = np.where(self.df[col] < min_val, np.nan, self.df[col])\n",
    "                self.df[col] = np.where(self.df[col] > max_val, np.nan, self.df[col])\n",
    "\n",
    "                # Remplace les valeurs aberrantes par la médiane\n",
    "                median_value = self.df[col].median(skipna=True)\n",
    "                self.df[col].fillna(median_value, inplace=True)\n",
    "\n",
    "        return self\n",
    "\n",
    "    def clean_data(self):\n",
    "        \"\"\"Applique toutes les corrections.\"\"\"\n",
    "        return (\n",
    "            self.correct_financial_values()\n",
    "            .df\n",
    "        )\n",
    "# Nettoyage\n",
    "cleaner = FinancialDataCleaner(df)\n",
    "df = cleaner.clean_data()\n",
    "\n",
    "print(df)\n"
   ]
  },
  {
   "cell_type": "code",
   "execution_count": 18,
   "metadata": {},
   "outputs": [],
   "source": [
    "import pandas as pd\n",
    "\n",
    "class DataCleaner:\n",
    "    def __init__(self, df):\n",
    "        \"\"\"\n",
    "        Initialise la classe avec le DataFrame à nettoyer.\n",
    "        \n",
    "        Paramètres :\n",
    "        df (pd.DataFrame) : Le DataFrame contenant les données à nettoyer.\n",
    "        \"\"\"\n",
    "        self.df = df\n",
    "\n",
    "    def replace_invalid_values(self, column_name, valid_values, replacement_method='mode', custom_value=None):\n",
    "        \"\"\"\n",
    "        Remplace les valeurs invalides dans une colonne par le mode ou une valeur spécifiée.\n",
    "        \n",
    "        Paramètres :\n",
    "        column_name (str) : Le nom de la colonne à nettoyer.\n",
    "        valid_values (list) : Liste des valeurs considérées comme valides.\n",
    "        replacement_method (str) : Méthode de remplacement des valeurs invalides ('mode' ou 'custom').\n",
    "        custom_value (str, optionnel) : Valeur personnalisée pour remplacer les valeurs invalides si 'custom' est choisi.\n",
    "        \n",
    "        Retourne :\n",
    "        None : Met à jour le DataFrame en place.\n",
    "        \"\"\"\n",
    "        if column_name not in self.df.columns:\n",
    "            print(f\"[WARNING] La colonne '{column_name}' n'existe pas dans le DataFrame.\")\n",
    "            return\n",
    "\n",
    "        # Identifier les valeurs invalides\n",
    "        invalid_mask = ~self.df[column_name].isin(valid_values)\n",
    "\n",
    "        if replacement_method == 'mode':\n",
    "            # Remplacer par la valeur la plus fréquente (mode)\n",
    "            mode_value = self.df.loc[~invalid_mask, column_name].mode()[0]\n",
    "            self.df.loc[invalid_mask, column_name] = mode_value\n",
    "            print(f\"[INFO] Les valeurs invalides de '{column_name}' ont été remplacées par le mode : {mode_value}.\")\n",
    "        elif replacement_method == 'custom':\n",
    "            if custom_value is not None:\n",
    "                self.df.loc[invalid_mask, column_name] = custom_value\n",
    "                print(f\"[INFO] Les valeurs invalides de '{column_name}' ont été remplacées par la valeur personnalisée : {custom_value}.\")\n",
    "            else:\n",
    "                print(\"[ERROR] Veuillez fournir une valeur personnalisée pour le remplacement.\")\n",
    "        else:\n",
    "            print(\"[ERROR] Méthode de remplacement non reconnue. Utilisez 'mode' ou 'custom'.\")\n",
    "\n",
    "    def fill_missing_values(self, column_name, method='mode', custom_value=None):\n",
    "        \"\"\"\n",
    "        Remplit les valeurs manquantes dans une colonne par le mode ou une valeur spécifiée.\n",
    "        \n",
    "        Paramètres :\n",
    "        column_name (str) : Le nom de la colonne à traiter.\n",
    "        method (str) : Méthode de remplissage des valeurs manquantes ('mode' ou 'custom').\n",
    "        custom_value (str, optionnel) : Valeur personnalisée pour le remplissage si 'custom' est choisi.\n",
    "        \n",
    "        Retourne :\n",
    "        None : Met à jour le DataFrame en place.\n",
    "        \"\"\"\n",
    "        if column_name not in self.df.columns:\n",
    "            print(f\"[WARNING] La colonne '{column_name}' n'existe pas dans le DataFrame.\")\n",
    "            return\n",
    "\n",
    "        if method == 'mode':\n",
    "            # Remplir avec la valeur la plus fréquente (mode)\n",
    "            mode_value = self.df[column_name].mode()[0]\n",
    "            self.df[column_name].fillna(mode_value, inplace=True)\n",
    "            print(f\"[INFO] Les valeurs manquantes de '{column_name}' ont été remplies avec le mode : {mode_value}.\")\n",
    "        elif method == 'custom':\n",
    "            if custom_value is not None:\n",
    "                self.df[column_name].fillna(custom_value, inplace=True)\n",
    "                print(f\"[INFO] Les valeurs manquantes de '{column_name}' ont été remplies avec la valeur personnalisée : {custom_value}.\")\n",
    "            else:\n",
    "                print(\"[ERROR] Veuillez fournir une valeur personnalisée pour le remplissage.\")\n",
    "        else:\n",
    "            print(\"[ERROR] Méthode de remplissage non reconnue. Utilisez 'mode' ou 'custom'.\")\n",
    "\n",
    "    def clean_column(self, column_name, valid_values, invalid_replacement_method='mode', missing_value_method='mode', custom_invalid_value=None, custom_missing_value=None):\n",
    "        \"\"\"\n",
    "        Nettoie une colonne en remplaçant les valeurs invalides et en remplissant les valeurs manquantes.\n",
    "        \n",
    "        Paramètres :\n",
    "        column_name (str) : Le nom de la colonne à nettoyer.\n",
    "        valid_values (list) : Liste des valeurs considérées comme valides.\n",
    "        invalid_replacement_method (str) : Méthode pour remplacer les valeurs invalides ('mode' ou 'custom').\n",
    "        missing_value_method (str) : Méthode pour remplir les valeurs manquantes ('mode' ou 'custom').\n",
    "        custom_invalid_value (str, optionnel) : Valeur personnalisée pour remplacer les valeurs invalides si 'custom' est choisi.\n",
    "        custom_missing_value (str, optionnel) : Valeur personnalisée pour remplir les valeurs manquantes si 'custom' est choisi.\n",
    "        \n",
    "        Retourne :\n",
    "        None : Met à jour le DataFrame en place.\n",
    "        \"\"\"\n",
    "        self.replace_invalid_values(column_name, valid_values, invalid_replacement_method, custom_invalid_value)\n",
    "        self.fill_missing_values(column_name, missing_value_method, custom_missing_value)\n",
    "\n",
    "    def get_cleaned_data(self):\n",
    "        \"\"\"\n",
    "        Retourne le DataFrame nettoyé.\n",
    "        \n",
    "        Retourne :\n",
    "        pd.DataFrame : Le DataFrame après nettoyage.\n",
    "        \"\"\"\n",
    "        return self.df\n",
    "cleaner = DataCleaner(df)\n",
    "df = cleaner.get_cleaned_data()\n"
   ]
  },
  {
   "cell_type": "markdown",
   "metadata": {},
   "source": [
    "###  missing values "
   ]
  },
  {
   "cell_type": "code",
   "execution_count": 19,
   "metadata": {},
   "outputs": [
    {
     "data": {
      "text/plain": [
       "id                              0\n",
       "customer_id                     0\n",
       "month                           0\n",
       "name                        15000\n",
       "age                             0\n",
       "ssn                          8400\n",
       "occupation                  19862\n",
       "annual_income                   0\n",
       "monthly_inhand_salary           0\n",
       "num_bank_accounts               0\n",
       "num_credit_card                 0\n",
       "interest_rate                   0\n",
       "num_of_loan                     0\n",
       "type_of_loan                17112\n",
       "delay_from_due_date             0\n",
       "num_of_delayed_payment          0\n",
       "changed_credit_limit            0\n",
       "num_credit_inquiries            0\n",
       "credit_mix                      0\n",
       "outstanding_debt                0\n",
       "credit_utilization_ratio        0\n",
       "credit_history_age              0\n",
       "payment_of_min_amount           0\n",
       "total_emi_per_month             0\n",
       "amount_invested_monthly         0\n",
       "payment_behaviour               0\n",
       "monthly_balance                 0\n",
       "credit_score                50000\n",
       "dtype: int64"
      ]
     },
     "execution_count": 19,
     "metadata": {},
     "output_type": "execute_result"
    }
   ],
   "source": [
    "df.isna().sum() "
   ]
  },
  {
   "cell_type": "code",
   "execution_count": 20,
   "metadata": {},
   "outputs": [],
   "source": [
    "class MissingDataHandler:\n",
    "    def __init__(self, df):\n",
    "        self.df = df  # Appliquer les changements directement sur le DataFrame original\n",
    "    # 1. Supprimer les colonnes avec trop de valeurs manquantes\n",
    "    def drop_column(self, threshold=0.5):\n",
    "        \"\"\"Drop columns with more than threshold% missing values.\"\"\"\n",
    "        self.df.dropna(thresh=len(self.df) * (1 - threshold), axis=1, inplace=True)\n",
    "    # 2. Supprimer les lignes avec des valeurs manquantes\n",
    "    def drop_row(self):\n",
    "        \"\"\"Drop rows with any missing values.\"\"\"\n",
    "        self.df.dropna(inplace=True)\n",
    "    # 3. Imputation avec la moyenne ou la médiane\n",
    "    def impute_mean_median(self, strategy='mean'):\n",
    "        \"\"\"Impute missing values in all numerical columns with mean or median.\"\"\"\n",
    "        num_cols = self.df.select_dtypes(include=[np.number]).columns\n",
    "        for col in num_cols:\n",
    "            imputer = SimpleImputer(strategy=strategy)\n",
    "            self.df[col] = imputer.fit_transform(self.df[[col]])\n",
    "    \n",
    "    def group_imputation(self, group_by, strategy='mean'):\n",
    "        \"\"\"Group-wise imputation using mean or median for all numerical columns.\"\"\"\n",
    "        num_cols = self.df.select_dtypes(include=[np.number]).columns\n",
    "        for col in num_cols:\n",
    "            self.df[col].fillna(self.df.groupby(group_by)[col].transform(strategy), inplace=True)\n",
    "    # 4. Remplir par la valeur la plus fréquente (catégories)\n",
    "    def impute_categorical(self, strategy='most_frequent', fill_value=None):\n",
    "        \"\"\"Impute missing values in all categorical columns.\"\"\"\n",
    "        cat_cols = self.df.select_dtypes(exclude=[np.number]).columns\n",
    "        for col in cat_cols:\n",
    "            if strategy == 'constant' and fill_value is not None:\n",
    "                self.df[col].fillna(fill_value, inplace=True)\n",
    "            else:\n",
    "                imputer = SimpleImputer(strategy=strategy)\n",
    "                self.df[col] = imputer.fit_transform(self.df[[col]]).ravel()\n",
    "    # 5. Remplissage en avant et en arrière\n",
    "    def forward_fill(self):\n",
    "        \"\"\"Forward fill missing values for all columns.\"\"\"\n",
    "        self.df.fillna(method='ffill', inplace=True)\n",
    "    \n",
    "    def backward_fill(self):\n",
    "        \"\"\"Backward fill missing values for all columns.\"\"\"\n",
    "        self.df.fillna(method='bfill', inplace=True)\n",
    "    # 6. Interpolation (utile pour les séries temporelles)\n",
    "    def interpolate(self, method='linear'):\n",
    "        \"\"\"Interpolate missing values for all numerical columns.\"\"\"\n",
    "        num_cols = self.df.select_dtypes(include=[np.number]).columns\n",
    "        for col in num_cols:\n",
    "            self.df[col].interpolate(method=method, inplace=True)\n",
    "    # using KNN for all numerical columns\n",
    "    def knn_imputation(self, n_neighbors=5):\n",
    "        \"\"\"Impute missing values using KNN for all numerical columns.\"\"\"\n",
    "        imputer = KNNImputer(n_neighbors=n_neighbors)\n",
    "        self.df[:] = imputer.fit_transform(self.df)\n",
    "    # using Iterative Imputer (MICE)\n",
    "    def iterative_imputation(self):\n",
    "        \"\"\"Impute missing values using Iterative Imputer (MICE) for all numerical columns.\"\"\"\n",
    "        imputer = IterativeImputer()\n",
    "        self.df[:] = imputer.fit_transform(self.df)\n",
    "    \n",
    "    def get_dataframe(self):\n",
    "        \"\"\"Return the processed DataFrame.\"\"\"\n",
    "        return self.df"
   ]
  },
  {
   "cell_type": "code",
   "execution_count": 21,
   "metadata": {},
   "outputs": [
    {
     "name": "stderr",
     "output_type": "stream",
     "text": [
      "C:\\Users\\Client\\AppData\\Local\\Temp\\ipykernel_19700\\2129737926.py:38: FutureWarning: DataFrame.fillna with 'method' is deprecated and will raise in a future version. Use obj.ffill() or obj.bfill() instead.\n",
      "  self.df.fillna(method='ffill', inplace=True)\n"
     ]
    },
    {
     "name": "stdout",
     "output_type": "stream",
     "text": [
      "\n",
      "DataFrame après traitement :\n",
      "<class 'pandas.core.frame.DataFrame'>\n",
      "RangeIndex: 150000 entries, 0 to 149999\n",
      "Data columns (total 28 columns):\n",
      " #   Column                    Non-Null Count   Dtype  \n",
      "---  ------                    --------------   -----  \n",
      " 0   id                        150000 non-null  object \n",
      " 1   customer_id               150000 non-null  object \n",
      " 2   month                     150000 non-null  object \n",
      " 3   name                      150000 non-null  object \n",
      " 4   age                       150000 non-null  float64\n",
      " 5   ssn                       150000 non-null  object \n",
      " 6   occupation                150000 non-null  object \n",
      " 7   annual_income             150000 non-null  float64\n",
      " 8   monthly_inhand_salary     150000 non-null  float64\n",
      " 9   num_bank_accounts         150000 non-null  float64\n",
      " 10  num_credit_card           150000 non-null  float64\n",
      " 11  interest_rate             150000 non-null  float64\n",
      " 12  num_of_loan               150000 non-null  float64\n",
      " 13  type_of_loan              150000 non-null  object \n",
      " 14  delay_from_due_date       150000 non-null  float64\n",
      " 15  num_of_delayed_payment    150000 non-null  float64\n",
      " 16  changed_credit_limit      150000 non-null  float64\n",
      " 17  num_credit_inquiries      150000 non-null  float64\n",
      " 18  credit_mix                150000 non-null  object \n",
      " 19  outstanding_debt          150000 non-null  float64\n",
      " 20  credit_utilization_ratio  150000 non-null  float64\n",
      " 21  credit_history_age        150000 non-null  float64\n",
      " 22  payment_of_min_amount     150000 non-null  object \n",
      " 23  total_emi_per_month       150000 non-null  float64\n",
      " 24  amount_invested_monthly   150000 non-null  float64\n",
      " 25  payment_behaviour         150000 non-null  object \n",
      " 26  monthly_balance           150000 non-null  float64\n",
      " 27  credit_score              150000 non-null  object \n",
      "dtypes: float64(17), object(11)\n",
      "memory usage: 32.0+ MB\n"
     ]
    },
    {
     "data": {
      "text/html": [
       "<div>\n",
       "<style scoped>\n",
       "    .dataframe tbody tr th:only-of-type {\n",
       "        vertical-align: middle;\n",
       "    }\n",
       "\n",
       "    .dataframe tbody tr th {\n",
       "        vertical-align: top;\n",
       "    }\n",
       "\n",
       "    .dataframe thead th {\n",
       "        text-align: right;\n",
       "    }\n",
       "</style>\n",
       "<table border=\"1\" class=\"dataframe\">\n",
       "  <thead>\n",
       "    <tr style=\"text-align: right;\">\n",
       "      <th></th>\n",
       "      <th>age</th>\n",
       "      <th>annual_income</th>\n",
       "      <th>monthly_inhand_salary</th>\n",
       "      <th>num_bank_accounts</th>\n",
       "      <th>num_credit_card</th>\n",
       "      <th>interest_rate</th>\n",
       "      <th>num_of_loan</th>\n",
       "      <th>delay_from_due_date</th>\n",
       "      <th>num_of_delayed_payment</th>\n",
       "      <th>changed_credit_limit</th>\n",
       "      <th>num_credit_inquiries</th>\n",
       "      <th>outstanding_debt</th>\n",
       "      <th>credit_utilization_ratio</th>\n",
       "      <th>credit_history_age</th>\n",
       "      <th>total_emi_per_month</th>\n",
       "      <th>amount_invested_monthly</th>\n",
       "      <th>monthly_balance</th>\n",
       "    </tr>\n",
       "  </thead>\n",
       "  <tbody>\n",
       "    <tr>\n",
       "      <th>count</th>\n",
       "      <td>150000.000000</td>\n",
       "      <td>150000.000000</td>\n",
       "      <td>150000.000000</td>\n",
       "      <td>150000.000000</td>\n",
       "      <td>150000.000000</td>\n",
       "      <td>150000.00000</td>\n",
       "      <td>150000.000000</td>\n",
       "      <td>150000.000000</td>\n",
       "      <td>150000.00000</td>\n",
       "      <td>150000.000000</td>\n",
       "      <td>150000.000000</td>\n",
       "      <td>150000.000000</td>\n",
       "      <td>150000.000000</td>\n",
       "      <td>150000.000000</td>\n",
       "      <td>150000.000000</td>\n",
       "      <td>150000.000000</td>\n",
       "      <td>150000.000000</td>\n",
       "    </tr>\n",
       "    <tr>\n",
       "      <th>mean</th>\n",
       "      <td>34.509120</td>\n",
       "      <td>50560.604699</td>\n",
       "      <td>4045.532853</td>\n",
       "      <td>5.364347</td>\n",
       "      <td>5.521033</td>\n",
       "      <td>14.51234</td>\n",
       "      <td>3.510880</td>\n",
       "      <td>21.183540</td>\n",
       "      <td>13.46826</td>\n",
       "      <td>10.363839</td>\n",
       "      <td>6.276913</td>\n",
       "      <td>1426.220376</td>\n",
       "      <td>32.283309</td>\n",
       "      <td>26.023987</td>\n",
       "      <td>601.666931</td>\n",
       "      <td>616.189740</td>\n",
       "      <td>401.942229</td>\n",
       "    </tr>\n",
       "    <tr>\n",
       "      <th>std</th>\n",
       "      <td>9.720988</td>\n",
       "      <td>39732.444350</td>\n",
       "      <td>2944.813299</td>\n",
       "      <td>2.575995</td>\n",
       "      <td>2.047356</td>\n",
       "      <td>8.70026</td>\n",
       "      <td>2.395156</td>\n",
       "      <td>14.752269</td>\n",
       "      <td>5.94640</td>\n",
       "      <td>6.716338</td>\n",
       "      <td>3.900137</td>\n",
       "      <td>1155.127101</td>\n",
       "      <td>5.113315</td>\n",
       "      <td>2.333125</td>\n",
       "      <td>4007.596827</td>\n",
       "      <td>2002.975098</td>\n",
       "      <td>212.693891</td>\n",
       "    </tr>\n",
       "    <tr>\n",
       "      <th>min</th>\n",
       "      <td>18.000000</td>\n",
       "      <td>7005.930000</td>\n",
       "      <td>500.417917</td>\n",
       "      <td>0.000000</td>\n",
       "      <td>0.000000</td>\n",
       "      <td>1.00000</td>\n",
       "      <td>0.000000</td>\n",
       "      <td>0.000000</td>\n",
       "      <td>0.00000</td>\n",
       "      <td>-6.490000</td>\n",
       "      <td>0.000000</td>\n",
       "      <td>0.230000</td>\n",
       "      <td>20.000000</td>\n",
       "      <td>1.000000</td>\n",
       "      <td>0.000000</td>\n",
       "      <td>0.000000</td>\n",
       "      <td>0.007760</td>\n",
       "    </tr>\n",
       "    <tr>\n",
       "      <th>25%</th>\n",
       "      <td>27.000000</td>\n",
       "      <td>19455.490000</td>\n",
       "      <td>1829.783333</td>\n",
       "      <td>3.000000</td>\n",
       "      <td>4.000000</td>\n",
       "      <td>8.00000</td>\n",
       "      <td>2.000000</td>\n",
       "      <td>10.000000</td>\n",
       "      <td>9.00000</td>\n",
       "      <td>5.420000</td>\n",
       "      <td>3.000000</td>\n",
       "      <td>566.072500</td>\n",
       "      <td>28.054731</td>\n",
       "      <td>26.000000</td>\n",
       "      <td>30.947775</td>\n",
       "      <td>77.018550</td>\n",
       "      <td>270.971064</td>\n",
       "    </tr>\n",
       "    <tr>\n",
       "      <th>50%</th>\n",
       "      <td>34.000000</td>\n",
       "      <td>37002.580000</td>\n",
       "      <td>3119.696667</td>\n",
       "      <td>5.000000</td>\n",
       "      <td>5.000000</td>\n",
       "      <td>13.00000</td>\n",
       "      <td>3.000000</td>\n",
       "      <td>18.000000</td>\n",
       "      <td>14.00000</td>\n",
       "      <td>9.410000</td>\n",
       "      <td>6.000000</td>\n",
       "      <td>1166.155000</td>\n",
       "      <td>32.297058</td>\n",
       "      <td>26.000000</td>\n",
       "      <td>69.700562</td>\n",
       "      <td>135.791445</td>\n",
       "      <td>336.815865</td>\n",
       "    </tr>\n",
       "    <tr>\n",
       "      <th>75%</th>\n",
       "      <td>42.000000</td>\n",
       "      <td>71461.600000</td>\n",
       "      <td>5363.071667</td>\n",
       "      <td>7.000000</td>\n",
       "      <td>7.000000</td>\n",
       "      <td>20.00000</td>\n",
       "      <td>5.000000</td>\n",
       "      <td>28.000000</td>\n",
       "      <td>18.00000</td>\n",
       "      <td>14.640000</td>\n",
       "      <td>9.000000</td>\n",
       "      <td>1945.962500</td>\n",
       "      <td>36.487954</td>\n",
       "      <td>26.000000</td>\n",
       "      <td>158.845578</td>\n",
       "      <td>255.343797</td>\n",
       "      <td>467.988694</td>\n",
       "    </tr>\n",
       "    <tr>\n",
       "      <th>max</th>\n",
       "      <td>100.000000</td>\n",
       "      <td>990970.000000</td>\n",
       "      <td>15204.633333</td>\n",
       "      <td>18.000000</td>\n",
       "      <td>15.000000</td>\n",
       "      <td>100.00000</td>\n",
       "      <td>9.000000</td>\n",
       "      <td>67.000000</td>\n",
       "      <td>49.00000</td>\n",
       "      <td>36.970000</td>\n",
       "      <td>49.000000</td>\n",
       "      <td>4998.070000</td>\n",
       "      <td>50.000000</td>\n",
       "      <td>50.000000</td>\n",
       "      <td>49973.000000</td>\n",
       "      <td>10000.000000</td>\n",
       "      <td>1606.518192</td>\n",
       "    </tr>\n",
       "  </tbody>\n",
       "</table>\n",
       "</div>"
      ],
      "text/plain": [
       "                 age  annual_income  monthly_inhand_salary  num_bank_accounts  \\\n",
       "count  150000.000000  150000.000000          150000.000000      150000.000000   \n",
       "mean       34.509120   50560.604699            4045.532853           5.364347   \n",
       "std         9.720988   39732.444350            2944.813299           2.575995   \n",
       "min        18.000000    7005.930000             500.417917           0.000000   \n",
       "25%        27.000000   19455.490000            1829.783333           3.000000   \n",
       "50%        34.000000   37002.580000            3119.696667           5.000000   \n",
       "75%        42.000000   71461.600000            5363.071667           7.000000   \n",
       "max       100.000000  990970.000000           15204.633333          18.000000   \n",
       "\n",
       "       num_credit_card  interest_rate    num_of_loan  delay_from_due_date  \\\n",
       "count    150000.000000   150000.00000  150000.000000        150000.000000   \n",
       "mean          5.521033       14.51234       3.510880            21.183540   \n",
       "std           2.047356        8.70026       2.395156            14.752269   \n",
       "min           0.000000        1.00000       0.000000             0.000000   \n",
       "25%           4.000000        8.00000       2.000000            10.000000   \n",
       "50%           5.000000       13.00000       3.000000            18.000000   \n",
       "75%           7.000000       20.00000       5.000000            28.000000   \n",
       "max          15.000000      100.00000       9.000000            67.000000   \n",
       "\n",
       "       num_of_delayed_payment  changed_credit_limit  num_credit_inquiries  \\\n",
       "count            150000.00000         150000.000000         150000.000000   \n",
       "mean                 13.46826             10.363839              6.276913   \n",
       "std                   5.94640              6.716338              3.900137   \n",
       "min                   0.00000             -6.490000              0.000000   \n",
       "25%                   9.00000              5.420000              3.000000   \n",
       "50%                  14.00000              9.410000              6.000000   \n",
       "75%                  18.00000             14.640000              9.000000   \n",
       "max                  49.00000             36.970000             49.000000   \n",
       "\n",
       "       outstanding_debt  credit_utilization_ratio  credit_history_age  \\\n",
       "count     150000.000000             150000.000000       150000.000000   \n",
       "mean        1426.220376                 32.283309           26.023987   \n",
       "std         1155.127101                  5.113315            2.333125   \n",
       "min            0.230000                 20.000000            1.000000   \n",
       "25%          566.072500                 28.054731           26.000000   \n",
       "50%         1166.155000                 32.297058           26.000000   \n",
       "75%         1945.962500                 36.487954           26.000000   \n",
       "max         4998.070000                 50.000000           50.000000   \n",
       "\n",
       "       total_emi_per_month  amount_invested_monthly  monthly_balance  \n",
       "count        150000.000000            150000.000000    150000.000000  \n",
       "mean            601.666931               616.189740       401.942229  \n",
       "std            4007.596827              2002.975098       212.693891  \n",
       "min               0.000000                 0.000000         0.007760  \n",
       "25%              30.947775                77.018550       270.971064  \n",
       "50%              69.700562               135.791445       336.815865  \n",
       "75%             158.845578               255.343797       467.988694  \n",
       "max           49973.000000             10000.000000      1606.518192  "
      ]
     },
     "execution_count": 21,
     "metadata": {},
     "output_type": "execute_result"
    }
   ],
   "source": [
    "# Importer la classe\n",
    "handler = MissingDataHandler(df)\n",
    "# Supprimer les colonnes avec plus de 50% de valeurs manquantes\n",
    "handler.drop_column(threshold=0.9)\n",
    "# Imputation des valeurs manquantes\n",
    "handler.impute_mean_median(strategy='median')  # Impute par la moyenne pour les colonnes numériques\n",
    "handler.impute_categorical(strategy='most_frequent')  # Impute par la valeur la plus fréquente pour les catégoriques\n",
    "# Utiliser forward fill ou backward fill si nécessaire\n",
    "handler.forward_fill()\n",
    "# Récupérer le DataFrame traité\n",
    "cleaned_df = handler.get_dataframe()\n",
    "print(\"\\nDataFrame après traitement :\")\n",
    "cleaned_df.info()\n",
    "df=cleaned_df\n",
    "df.describe()"
   ]
  },
  {
   "cell_type": "markdown",
   "metadata": {},
   "source": [
    "###  Removing duplicates rows"
   ]
  },
  {
   "cell_type": "code",
   "execution_count": 22,
   "metadata": {},
   "outputs": [
    {
     "name": "stdout",
     "output_type": "stream",
     "text": [
      "Total Rows: 150000\n",
      "Duplicate Rows: 0 (0.00%)\n",
      "No duplicates found. No rows removed.\n"
     ]
    },
    {
     "data": {
      "text/html": [
       "<div>\n",
       "<style scoped>\n",
       "    .dataframe tbody tr th:only-of-type {\n",
       "        vertical-align: middle;\n",
       "    }\n",
       "\n",
       "    .dataframe tbody tr th {\n",
       "        vertical-align: top;\n",
       "    }\n",
       "\n",
       "    .dataframe thead th {\n",
       "        text-align: right;\n",
       "    }\n",
       "</style>\n",
       "<table border=\"1\" class=\"dataframe\">\n",
       "  <thead>\n",
       "    <tr style=\"text-align: right;\">\n",
       "      <th></th>\n",
       "      <th>id</th>\n",
       "      <th>customer_id</th>\n",
       "      <th>month</th>\n",
       "      <th>name</th>\n",
       "      <th>age</th>\n",
       "      <th>ssn</th>\n",
       "      <th>occupation</th>\n",
       "      <th>annual_income</th>\n",
       "      <th>monthly_inhand_salary</th>\n",
       "      <th>num_bank_accounts</th>\n",
       "      <th>...</th>\n",
       "      <th>credit_mix</th>\n",
       "      <th>outstanding_debt</th>\n",
       "      <th>credit_utilization_ratio</th>\n",
       "      <th>credit_history_age</th>\n",
       "      <th>payment_of_min_amount</th>\n",
       "      <th>total_emi_per_month</th>\n",
       "      <th>amount_invested_monthly</th>\n",
       "      <th>payment_behaviour</th>\n",
       "      <th>monthly_balance</th>\n",
       "      <th>credit_score</th>\n",
       "    </tr>\n",
       "  </thead>\n",
       "  <tbody>\n",
       "    <tr>\n",
       "      <th>0</th>\n",
       "      <td>0x1602</td>\n",
       "      <td>CUS_0xd40</td>\n",
       "      <td>January</td>\n",
       "      <td>Aaron Maashoh</td>\n",
       "      <td>23.0</td>\n",
       "      <td>821-00-0265</td>\n",
       "      <td>Scientist</td>\n",
       "      <td>19114.12</td>\n",
       "      <td>1824.843333</td>\n",
       "      <td>3.0</td>\n",
       "      <td>...</td>\n",
       "      <td>_</td>\n",
       "      <td>809.98</td>\n",
       "      <td>26.822620</td>\n",
       "      <td>26.0</td>\n",
       "      <td>No</td>\n",
       "      <td>49.574949</td>\n",
       "      <td>80.415295</td>\n",
       "      <td>High_spent_Small_value_payments</td>\n",
       "      <td>312.494089</td>\n",
       "      <td>Good</td>\n",
       "    </tr>\n",
       "    <tr>\n",
       "      <th>1</th>\n",
       "      <td>0x1603</td>\n",
       "      <td>CUS_0xd40</td>\n",
       "      <td>February</td>\n",
       "      <td>Aaron Maashoh</td>\n",
       "      <td>23.0</td>\n",
       "      <td>821-00-0265</td>\n",
       "      <td>Scientist</td>\n",
       "      <td>19114.12</td>\n",
       "      <td>3119.696667</td>\n",
       "      <td>3.0</td>\n",
       "      <td>...</td>\n",
       "      <td>Good</td>\n",
       "      <td>809.98</td>\n",
       "      <td>31.944960</td>\n",
       "      <td>26.0</td>\n",
       "      <td>No</td>\n",
       "      <td>49.574949</td>\n",
       "      <td>118.280222</td>\n",
       "      <td>Low_spent_Large_value_payments</td>\n",
       "      <td>284.629162</td>\n",
       "      <td>Good</td>\n",
       "    </tr>\n",
       "    <tr>\n",
       "      <th>2</th>\n",
       "      <td>0x1604</td>\n",
       "      <td>CUS_0xd40</td>\n",
       "      <td>March</td>\n",
       "      <td>Aaron Maashoh</td>\n",
       "      <td>34.0</td>\n",
       "      <td>821-00-0265</td>\n",
       "      <td>Scientist</td>\n",
       "      <td>19114.12</td>\n",
       "      <td>3119.696667</td>\n",
       "      <td>3.0</td>\n",
       "      <td>...</td>\n",
       "      <td>Good</td>\n",
       "      <td>809.98</td>\n",
       "      <td>28.609352</td>\n",
       "      <td>26.0</td>\n",
       "      <td>No</td>\n",
       "      <td>49.574949</td>\n",
       "      <td>81.699521</td>\n",
       "      <td>Low_spent_Medium_value_payments</td>\n",
       "      <td>331.209863</td>\n",
       "      <td>Good</td>\n",
       "    </tr>\n",
       "    <tr>\n",
       "      <th>3</th>\n",
       "      <td>0x1605</td>\n",
       "      <td>CUS_0xd40</td>\n",
       "      <td>April</td>\n",
       "      <td>Aaron Maashoh</td>\n",
       "      <td>23.0</td>\n",
       "      <td>821-00-0265</td>\n",
       "      <td>Scientist</td>\n",
       "      <td>19114.12</td>\n",
       "      <td>3119.696667</td>\n",
       "      <td>3.0</td>\n",
       "      <td>...</td>\n",
       "      <td>Good</td>\n",
       "      <td>809.98</td>\n",
       "      <td>31.377862</td>\n",
       "      <td>26.0</td>\n",
       "      <td>No</td>\n",
       "      <td>49.574949</td>\n",
       "      <td>199.458074</td>\n",
       "      <td>Low_spent_Small_value_payments</td>\n",
       "      <td>223.451310</td>\n",
       "      <td>Good</td>\n",
       "    </tr>\n",
       "    <tr>\n",
       "      <th>4</th>\n",
       "      <td>0x1606</td>\n",
       "      <td>CUS_0xd40</td>\n",
       "      <td>May</td>\n",
       "      <td>Aaron Maashoh</td>\n",
       "      <td>23.0</td>\n",
       "      <td>821-00-0265</td>\n",
       "      <td>Scientist</td>\n",
       "      <td>19114.12</td>\n",
       "      <td>1824.843333</td>\n",
       "      <td>3.0</td>\n",
       "      <td>...</td>\n",
       "      <td>Good</td>\n",
       "      <td>809.98</td>\n",
       "      <td>24.797347</td>\n",
       "      <td>26.0</td>\n",
       "      <td>No</td>\n",
       "      <td>49.574949</td>\n",
       "      <td>41.420153</td>\n",
       "      <td>High_spent_Medium_value_payments</td>\n",
       "      <td>341.489231</td>\n",
       "      <td>Good</td>\n",
       "    </tr>\n",
       "    <tr>\n",
       "      <th>...</th>\n",
       "      <td>...</td>\n",
       "      <td>...</td>\n",
       "      <td>...</td>\n",
       "      <td>...</td>\n",
       "      <td>...</td>\n",
       "      <td>...</td>\n",
       "      <td>...</td>\n",
       "      <td>...</td>\n",
       "      <td>...</td>\n",
       "      <td>...</td>\n",
       "      <td>...</td>\n",
       "      <td>...</td>\n",
       "      <td>...</td>\n",
       "      <td>...</td>\n",
       "      <td>...</td>\n",
       "      <td>...</td>\n",
       "      <td>...</td>\n",
       "      <td>...</td>\n",
       "      <td>...</td>\n",
       "      <td>...</td>\n",
       "      <td>...</td>\n",
       "    </tr>\n",
       "    <tr>\n",
       "      <th>149995</th>\n",
       "      <td>0x25fe5</td>\n",
       "      <td>CUS_0x8600</td>\n",
       "      <td>December</td>\n",
       "      <td>Sarah McBridec</td>\n",
       "      <td>34.0</td>\n",
       "      <td>031-35-0942</td>\n",
       "      <td>Architect</td>\n",
       "      <td>20002.88</td>\n",
       "      <td>1929.906667</td>\n",
       "      <td>10.0</td>\n",
       "      <td>...</td>\n",
       "      <td>_</td>\n",
       "      <td>3571.70</td>\n",
       "      <td>34.780553</td>\n",
       "      <td>26.0</td>\n",
       "      <td>Yes</td>\n",
       "      <td>60.964772</td>\n",
       "      <td>146.486325</td>\n",
       "      <td>Low_spent_Small_value_payments</td>\n",
       "      <td>275.539570</td>\n",
       "      <td>Standard</td>\n",
       "    </tr>\n",
       "    <tr>\n",
       "      <th>149996</th>\n",
       "      <td>0x25fee</td>\n",
       "      <td>CUS_0x942c</td>\n",
       "      <td>September</td>\n",
       "      <td>Nicks</td>\n",
       "      <td>25.0</td>\n",
       "      <td>078-73-5990</td>\n",
       "      <td>Mechanic</td>\n",
       "      <td>39628.99</td>\n",
       "      <td>3119.696667</td>\n",
       "      <td>4.0</td>\n",
       "      <td>...</td>\n",
       "      <td>Good</td>\n",
       "      <td>502.38</td>\n",
       "      <td>27.758522</td>\n",
       "      <td>26.0</td>\n",
       "      <td>NM</td>\n",
       "      <td>35.104023</td>\n",
       "      <td>181.442999</td>\n",
       "      <td>Low_spent_Small_value_payments</td>\n",
       "      <td>409.394562</td>\n",
       "      <td>Standard</td>\n",
       "    </tr>\n",
       "    <tr>\n",
       "      <th>149997</th>\n",
       "      <td>0x25fef</td>\n",
       "      <td>CUS_0x942c</td>\n",
       "      <td>October</td>\n",
       "      <td>Nicks</td>\n",
       "      <td>25.0</td>\n",
       "      <td>078-73-5990</td>\n",
       "      <td>Mechanic</td>\n",
       "      <td>39628.99</td>\n",
       "      <td>3359.415833</td>\n",
       "      <td>4.0</td>\n",
       "      <td>...</td>\n",
       "      <td>Good</td>\n",
       "      <td>502.38</td>\n",
       "      <td>36.858542</td>\n",
       "      <td>26.0</td>\n",
       "      <td>No</td>\n",
       "      <td>35.104023</td>\n",
       "      <td>10000.000000</td>\n",
       "      <td>Low_spent_Large_value_payments</td>\n",
       "      <td>349.726332</td>\n",
       "      <td>Standard</td>\n",
       "    </tr>\n",
       "    <tr>\n",
       "      <th>149998</th>\n",
       "      <td>0x25ff0</td>\n",
       "      <td>CUS_0x942c</td>\n",
       "      <td>November</td>\n",
       "      <td>Nicks</td>\n",
       "      <td>25.0</td>\n",
       "      <td>078-73-5990</td>\n",
       "      <td>Mechanic</td>\n",
       "      <td>39628.99</td>\n",
       "      <td>3119.696667</td>\n",
       "      <td>4.0</td>\n",
       "      <td>...</td>\n",
       "      <td>Good</td>\n",
       "      <td>502.38</td>\n",
       "      <td>39.139840</td>\n",
       "      <td>26.0</td>\n",
       "      <td>No</td>\n",
       "      <td>35.104023</td>\n",
       "      <td>97.598580</td>\n",
       "      <td>High_spent_Small_value_payments</td>\n",
       "      <td>463.238981</td>\n",
       "      <td>Standard</td>\n",
       "    </tr>\n",
       "    <tr>\n",
       "      <th>149999</th>\n",
       "      <td>0x25ff1</td>\n",
       "      <td>CUS_0x942c</td>\n",
       "      <td>December</td>\n",
       "      <td>Nicks</td>\n",
       "      <td>25.0</td>\n",
       "      <td>078-73-5990</td>\n",
       "      <td>Mechanic</td>\n",
       "      <td>39628.99</td>\n",
       "      <td>3359.415833</td>\n",
       "      <td>4.0</td>\n",
       "      <td>...</td>\n",
       "      <td>_</td>\n",
       "      <td>502.38</td>\n",
       "      <td>34.108530</td>\n",
       "      <td>26.0</td>\n",
       "      <td>No</td>\n",
       "      <td>35.104023</td>\n",
       "      <td>220.457878</td>\n",
       "      <td>Low_spent_Medium_value_payments</td>\n",
       "      <td>360.379683</td>\n",
       "      <td>Standard</td>\n",
       "    </tr>\n",
       "  </tbody>\n",
       "</table>\n",
       "<p>150000 rows × 28 columns</p>\n",
       "</div>"
      ],
      "text/plain": [
       "             id customer_id      month            name   age          ssn  \\\n",
       "0        0x1602   CUS_0xd40    January   Aaron Maashoh  23.0  821-00-0265   \n",
       "1        0x1603   CUS_0xd40   February   Aaron Maashoh  23.0  821-00-0265   \n",
       "2        0x1604   CUS_0xd40      March   Aaron Maashoh  34.0  821-00-0265   \n",
       "3        0x1605   CUS_0xd40      April   Aaron Maashoh  23.0  821-00-0265   \n",
       "4        0x1606   CUS_0xd40        May   Aaron Maashoh  23.0  821-00-0265   \n",
       "...         ...         ...        ...             ...   ...          ...   \n",
       "149995  0x25fe5  CUS_0x8600   December  Sarah McBridec  34.0  031-35-0942   \n",
       "149996  0x25fee  CUS_0x942c  September           Nicks  25.0  078-73-5990   \n",
       "149997  0x25fef  CUS_0x942c    October           Nicks  25.0  078-73-5990   \n",
       "149998  0x25ff0  CUS_0x942c   November           Nicks  25.0  078-73-5990   \n",
       "149999  0x25ff1  CUS_0x942c   December           Nicks  25.0  078-73-5990   \n",
       "\n",
       "       occupation  annual_income  monthly_inhand_salary  num_bank_accounts  \\\n",
       "0       Scientist       19114.12            1824.843333                3.0   \n",
       "1       Scientist       19114.12            3119.696667                3.0   \n",
       "2       Scientist       19114.12            3119.696667                3.0   \n",
       "3       Scientist       19114.12            3119.696667                3.0   \n",
       "4       Scientist       19114.12            1824.843333                3.0   \n",
       "...           ...            ...                    ...                ...   \n",
       "149995  Architect       20002.88            1929.906667               10.0   \n",
       "149996   Mechanic       39628.99            3119.696667                4.0   \n",
       "149997   Mechanic       39628.99            3359.415833                4.0   \n",
       "149998   Mechanic       39628.99            3119.696667                4.0   \n",
       "149999   Mechanic       39628.99            3359.415833                4.0   \n",
       "\n",
       "        ...  credit_mix  outstanding_debt  credit_utilization_ratio  \\\n",
       "0       ...           _            809.98                 26.822620   \n",
       "1       ...        Good            809.98                 31.944960   \n",
       "2       ...        Good            809.98                 28.609352   \n",
       "3       ...        Good            809.98                 31.377862   \n",
       "4       ...        Good            809.98                 24.797347   \n",
       "...     ...         ...               ...                       ...   \n",
       "149995  ...           _           3571.70                 34.780553   \n",
       "149996  ...        Good            502.38                 27.758522   \n",
       "149997  ...        Good            502.38                 36.858542   \n",
       "149998  ...        Good            502.38                 39.139840   \n",
       "149999  ...           _            502.38                 34.108530   \n",
       "\n",
       "       credit_history_age  payment_of_min_amount  total_emi_per_month  \\\n",
       "0                    26.0                     No            49.574949   \n",
       "1                    26.0                     No            49.574949   \n",
       "2                    26.0                     No            49.574949   \n",
       "3                    26.0                     No            49.574949   \n",
       "4                    26.0                     No            49.574949   \n",
       "...                   ...                    ...                  ...   \n",
       "149995               26.0                    Yes            60.964772   \n",
       "149996               26.0                     NM            35.104023   \n",
       "149997               26.0                     No            35.104023   \n",
       "149998               26.0                     No            35.104023   \n",
       "149999               26.0                     No            35.104023   \n",
       "\n",
       "        amount_invested_monthly                 payment_behaviour  \\\n",
       "0                     80.415295   High_spent_Small_value_payments   \n",
       "1                    118.280222    Low_spent_Large_value_payments   \n",
       "2                     81.699521   Low_spent_Medium_value_payments   \n",
       "3                    199.458074    Low_spent_Small_value_payments   \n",
       "4                     41.420153  High_spent_Medium_value_payments   \n",
       "...                         ...                               ...   \n",
       "149995               146.486325    Low_spent_Small_value_payments   \n",
       "149996               181.442999    Low_spent_Small_value_payments   \n",
       "149997             10000.000000    Low_spent_Large_value_payments   \n",
       "149998                97.598580   High_spent_Small_value_payments   \n",
       "149999               220.457878   Low_spent_Medium_value_payments   \n",
       "\n",
       "       monthly_balance  credit_score  \n",
       "0           312.494089          Good  \n",
       "1           284.629162          Good  \n",
       "2           331.209863          Good  \n",
       "3           223.451310          Good  \n",
       "4           341.489231          Good  \n",
       "...                ...           ...  \n",
       "149995      275.539570      Standard  \n",
       "149996      409.394562      Standard  \n",
       "149997      349.726332      Standard  \n",
       "149998      463.238981      Standard  \n",
       "149999      360.379683      Standard  \n",
       "\n",
       "[150000 rows x 28 columns]"
      ]
     },
     "execution_count": 22,
     "metadata": {},
     "output_type": "execute_result"
    }
   ],
   "source": [
    "def remove_duplicates(df, subset=None, keep='first', inplace=False):\n",
    "    \"\"\"\n",
    "    Removes duplicate rows from the DataFrame and provides a summary of duplicates.\n",
    "    Parameters:\n",
    "        df (pd.DataFrame): The DataFrame from which to remove duplicates.\n",
    "        subset (list): List of columns to consider for duplicate checking. \n",
    "                    If None, checks all columns.\n",
    "        keep (str): Which duplicates to keep. Options:\n",
    "            - 'first': Keep the first occurrence (default).\n",
    "            - 'last': Keep the last occurrence.\n",
    "            - 'none': Drop all duplicates.\n",
    "        inplace (bool): If True, modifies the original DataFrame. \n",
    "                        If False, returns a new DataFrame.\n",
    "    Returns:\n",
    "        pd.DataFrame: DataFrame with duplicates removed (if inplace=False).\n",
    "    \"\"\"\n",
    "    if keep not in ['first', 'last', 'none']:\n",
    "        raise ValueError(\"keep must be one of 'first', 'last', or 'none'.\")\n",
    "    # Count duplicates before removal\n",
    "    total_rows = len(df)\n",
    "    duplicate_rows = df.duplicated(subset=subset, keep=False).sum()\n",
    "    percentage_duplicates = (duplicate_rows / total_rows) * 100\n",
    "    print(f\"Total Rows: {total_rows}\")\n",
    "    print(f\"Duplicate Rows: {duplicate_rows} ({percentage_duplicates:.2f}%)\")\n",
    "    if duplicate_rows == 0:\n",
    "        print(\"No duplicates found. No rows removed.\")\n",
    "        return df if not inplace else None\n",
    "    # Handle duplicate removal    if keep == 'none':\n",
    "        # Drop all duplicates and keep only unique rows\n",
    "        duplicated_mask = df.duplicated(subset=subset, keep=False)\n",
    "        result = df[~duplicated_mask]\n",
    "    else:\n",
    "        # Use pandas built-in drop_duplicates\n",
    "        result = df.drop_duplicates(subset=subset, keep=keep)\n",
    "    # Count duplicates after removal\n",
    "    remaining_rows = len(result)\n",
    "    rows_removed = total_rows - remaining_rows\n",
    "    print(f\"Rows Removed: {rows_removed}\")\n",
    "    print(f\"Remaining Rows: {remaining_rows}\")\n",
    "    if rows_removed > 0:\n",
    "        print(\"Duplicates successfully removed.\")\n",
    "    else:\n",
    "        print(\"No duplicates were removed.\")\n",
    "    if inplace:\n",
    "        df.drop_duplicates(subset=subset, keep=keep, inplace=True)\n",
    "    else:\n",
    "        return result\n",
    "remove_duplicates(df, subset=None, keep='first', inplace=False)"
   ]
  },
  {
   "cell_type": "markdown",
   "metadata": {},
   "source": [
    "### outliers "
   ]
  },
  {
   "cell_type": "code",
   "execution_count": 23,
   "metadata": {},
   "outputs": [],
   "source": [
    "class DataCleaner:\n",
    "    def __init__(self, df):\n",
    "        \"\"\"\n",
    "        Initializes the class with a DataFrame.\n",
    "        \n",
    "        Parameters:\n",
    "            df (pd.DataFrame): The dataset to be cleaned.\n",
    "        \"\"\"\n",
    "        self.df = df\n",
    "        self.numeric_columns = self.df.select_dtypes(include=['number']).columns.to_list()\n",
    "\n",
    "    def remove_na_inf(self):\n",
    "        \"\"\"Replaces infinite values with NaN and drops rows containing NaN.\"\"\"\n",
    "        self.df[self.numeric_columns] = self.df[self.numeric_columns].replace([np.inf, -np.inf], np.nan).dropna()\n",
    "        print(\" NaN and infinite values removed.\")\n",
    "\n",
    "    def detect_outliers_iqr(self):\n",
    "        \"\"\"\n",
    "        Detects outliers using the Interquartile Range (IQR) method.\n",
    "        \n",
    "        Returns:\n",
    "            A dictionary containing outlier indices for each column.\n",
    "        \"\"\"\n",
    "        outliers_dict = {}\n",
    "\n",
    "        for col in self.numeric_columns:\n",
    "            Q1 = self.df[col].quantile(0.25)\n",
    "            Q3 = self.df[col].quantile(0.75)\n",
    "            IQR = Q3 - Q1\n",
    "            lower_bound = Q1 - 1.5 * IQR\n",
    "            upper_bound = Q3 + 1.5 * IQR\n",
    "\n",
    "            # Find outlier indices\n",
    "            outliers = self.df[(self.df[col] < lower_bound) | (self.df[col] > upper_bound)].index\n",
    "            outliers_dict[col] = outliers\n",
    "\n",
    "        return outliers_dict\n",
    "\n",
    "    def drop_outliers(self):\n",
    "        \"\"\"Drops rows containing outliers based on the IQR method.\"\"\"\n",
    "        outliers_dict = self.detect_outliers_iqr()\n",
    "        outlier_indices = set(index for indices in outliers_dict.values() for index in indices)\n",
    "        self.df = self.df.drop(outlier_indices)\n",
    "        print(\" Outliers removed.\")\n",
    "\n",
    "    def replace_outliers_iqr(self):\n",
    "        \"\"\"Replaces outliers with the lower and upper IQR bounds (Winsorization).\"\"\"\n",
    "        for col in self.numeric_columns:\n",
    "            Q1 = self.df[col].quantile(0.25)\n",
    "            Q3 = self.df[col].quantile(0.75)\n",
    "            IQR = Q3 - Q1\n",
    "            lower_bound = Q1 - 1.5 * IQR\n",
    "            upper_bound = Q3 + 1.5 * IQR\n",
    "\n",
    "            self.df[col] = np.where(self.df[col] < lower_bound, lower_bound, self.df[col])\n",
    "            self.df[col] = np.where(self.df[col] > upper_bound, upper_bound, self.df[col])\n",
    "        \n",
    "        print(\" Outliers replaced using IQR bounds.\")\n",
    "\n",
    "    def replace_outliers_median(self):\n",
    "        \"\"\"Replaces outliers with the column median.\"\"\"\n",
    "        for col in self.numeric_columns:\n",
    "            Q1 = self.df[col].quantile(0.25)\n",
    "            Q3 = self.df[col].quantile(0.75)\n",
    "            IQR = Q3 - Q1\n",
    "            lower_bound = Q1 - 1.5 * IQR\n",
    "            upper_bound = Q3 + 1.5 * IQR\n",
    "            median_value = self.df[col].median()\n",
    "\n",
    "            self.df[col] = np.where((self.df[col] < lower_bound) | (self.df[col] > upper_bound), median_value, self.df[col])\n",
    "        \n",
    "        print(\" Outliers replaced with median.\")\n",
    "\n",
    "    def replace_outliers_knn(self, n_neighbors=5):\n",
    "        \"\"\"Replaces outliers using K-Nearest Neighbors (KNN) imputation.\"\"\"\n",
    "        imputer = KNNImputer(n_neighbors=n_neighbors)\n",
    "        self.df[self.numeric_columns] = imputer.fit_transform(self.df[self.numeric_columns])\n",
    "        print(\" Outliers replaced using KNN imputation.\")\n",
    "\n",
    "    def save_cleaned_data(self, filename=\"cleaned_data.csv\"):\n",
    "        \"\"\"Saves the cleaned DataFrame as a CSV file.\"\"\"\n",
    "        self.df.to_csv(filename, index=False)\n",
    "        print(f\" Cleaned data saved to {filename}.\")\n",
    "\n",
    "    def clean_data(self, method=\"median\"):\n",
    "        \"\"\"\n",
    "        Cleans missing values and applies an outlier handling method.\n",
    "\n",
    "        Parameters:\n",
    "            method (str): The method to handle outliers ('drop', 'winsorization', 'median', 'knn').\n",
    "        \"\"\"\n",
    "        self.remove_na_inf()  # Remove NaN and infinite values\n",
    "\n",
    "        if method == \"drop\":\n",
    "            self.drop_outliers()\n",
    "        elif method == \"winsorization\":\n",
    "            self.replace_outliers_iqr()\n",
    "        elif method == \"median\":\n",
    "            self.replace_outliers_median()\n",
    "        elif method == \"knn\":\n",
    "            self.replace_outliers_knn()\n",
    "        else:\n",
    "            print(\"Invalid method. Choose from 'drop', 'winsorization', 'median', 'knn'.\")\n",
    "\n",
    "        self.save_cleaned_data()\n"
   ]
  },
  {
   "cell_type": "code",
   "execution_count": 24,
   "metadata": {},
   "outputs": [
    {
     "name": "stdout",
     "output_type": "stream",
     "text": [
      " NaN and infinite values removed.\n",
      " Outliers replaced with median.\n",
      " Cleaned data saved to cleaned_data.csv.\n"
     ]
    }
   ],
   "source": [
    "# Initialisation du DataCleaner\n",
    "cleaner = DataCleaner(df)\n",
    "# Nettoyage des données avec la méthode choisie\n",
    "cleaner.clean_data(method=\"median\")  "
   ]
  },
  {
   "cell_type": "markdown",
   "metadata": {},
   "source": [
    "### Data type conversions"
   ]
  },
  {
   "cell_type": "code",
   "execution_count": 25,
   "metadata": {},
   "outputs": [],
   "source": [
    "class DataTypeConverter:\n",
    "    def __init__(self, df):\n",
    "        \"\"\"\n",
    "        Initializes the class with a DataFrame.\n",
    "        \n",
    "        Parameters:\n",
    "            df (pd.DataFrame): The dataset to be converted.\n",
    "        \"\"\"\n",
    "        self.df = df \n",
    "\n",
    "    def convert_data_types(self):\n",
    "        \"\"\"\n",
    "        Converts column data types based on their values:\n",
    "        - Converts strings containing numbers to int/float.\n",
    "        - Converts float columns with only integer values to int.\n",
    "        - Converts boolean-like columns (0/1) to bool.\n",
    "        - Converts date-like columns to datetime.\n",
    "        - Converts categorical columns (few unique values) to category.\n",
    "        \"\"\"\n",
    "        for col in self.df.columns:\n",
    "            # Convert numeric strings to proper numbers\n",
    "            if self.df[col].dtype == 'object':\n",
    "                try:\n",
    "                    self.df[col] = pd.to_numeric(self.df[col])\n",
    "                except ValueError:\n",
    "                    pass  # Keep as object if conversion fails\n",
    "\n",
    "            # Convert float columns with only integer values to int\n",
    "            if self.df[col].dtype == 'float64':\n",
    "                if (self.df[col].dropna() % 1 == 0).all():\n",
    "                    self.df[col] = self.df[col].astype(int)\n",
    "\n",
    "            # Convert boolean-like columns (0/1) to bool\n",
    "            if set(self.df[col].dropna().unique()) == {0, 1}:\n",
    "                self.df[col] = self.df[col].astype(bool)\n",
    "\n",
    "            # Convert date-like columns to datetime\n",
    "            if self.df[col].dtype == 'object':\n",
    "                try:\n",
    "                    self.df[col] = pd.to_datetime(self.df[col])\n",
    "                except ValueError:\n",
    "                    pass  # Keep as object if not a valid date format\n",
    "            \n",
    "            # Convert categorical columns (few unique values) to category\n",
    "            if self.df[col].dtype == 'object' and self.df[col].nunique() / len(self.df) < 0.05:\n",
    "                self.df[col] = self.df[col].astype('category')\n",
    "\n",
    "        print(\" Data types converted successfully.\")\n",
    "\n",
    "    def get_dataframe(self):\n",
    "        \"\"\"Returns the converted DataFrame.\"\"\"\n",
    "        return self.df"
   ]
  },
  {
   "cell_type": "code",
   "execution_count": 26,
   "metadata": {},
   "outputs": [
    {
     "name": "stderr",
     "output_type": "stream",
     "text": [
      "C:\\Users\\Client\\AppData\\Local\\Temp\\ipykernel_19700\\3453405458.py:40: UserWarning: Could not infer format, so each element will be parsed individually, falling back to `dateutil`. To ensure parsing is consistent and as-expected, please specify a format.\n",
      "  self.df[col] = pd.to_datetime(self.df[col])\n",
      "C:\\Users\\Client\\AppData\\Local\\Temp\\ipykernel_19700\\3453405458.py:40: UserWarning: Could not infer format, so each element will be parsed individually, falling back to `dateutil`. To ensure parsing is consistent and as-expected, please specify a format.\n",
      "  self.df[col] = pd.to_datetime(self.df[col])\n",
      "C:\\Users\\Client\\AppData\\Local\\Temp\\ipykernel_19700\\3453405458.py:40: UserWarning: Could not infer format, so each element will be parsed individually, falling back to `dateutil`. To ensure parsing is consistent and as-expected, please specify a format.\n",
      "  self.df[col] = pd.to_datetime(self.df[col])\n",
      "C:\\Users\\Client\\AppData\\Local\\Temp\\ipykernel_19700\\3453405458.py:40: UserWarning: Could not infer format, so each element will be parsed individually, falling back to `dateutil`. To ensure parsing is consistent and as-expected, please specify a format.\n",
      "  self.df[col] = pd.to_datetime(self.df[col])\n",
      "C:\\Users\\Client\\AppData\\Local\\Temp\\ipykernel_19700\\3453405458.py:40: UserWarning: Could not infer format, so each element will be parsed individually, falling back to `dateutil`. To ensure parsing is consistent and as-expected, please specify a format.\n",
      "  self.df[col] = pd.to_datetime(self.df[col])\n",
      "C:\\Users\\Client\\AppData\\Local\\Temp\\ipykernel_19700\\3453405458.py:40: UserWarning: Could not infer format, so each element will be parsed individually, falling back to `dateutil`. To ensure parsing is consistent and as-expected, please specify a format.\n",
      "  self.df[col] = pd.to_datetime(self.df[col])\n",
      "C:\\Users\\Client\\AppData\\Local\\Temp\\ipykernel_19700\\3453405458.py:40: UserWarning: Could not infer format, so each element will be parsed individually, falling back to `dateutil`. To ensure parsing is consistent and as-expected, please specify a format.\n",
      "  self.df[col] = pd.to_datetime(self.df[col])\n",
      "C:\\Users\\Client\\AppData\\Local\\Temp\\ipykernel_19700\\3453405458.py:40: UserWarning: Could not infer format, so each element will be parsed individually, falling back to `dateutil`. To ensure parsing is consistent and as-expected, please specify a format.\n",
      "  self.df[col] = pd.to_datetime(self.df[col])\n",
      "C:\\Users\\Client\\AppData\\Local\\Temp\\ipykernel_19700\\3453405458.py:40: UserWarning: Could not infer format, so each element will be parsed individually, falling back to `dateutil`. To ensure parsing is consistent and as-expected, please specify a format.\n",
      "  self.df[col] = pd.to_datetime(self.df[col])\n",
      "C:\\Users\\Client\\AppData\\Local\\Temp\\ipykernel_19700\\3453405458.py:40: UserWarning: Could not infer format, so each element will be parsed individually, falling back to `dateutil`. To ensure parsing is consistent and as-expected, please specify a format.\n",
      "  self.df[col] = pd.to_datetime(self.df[col])\n",
      "C:\\Users\\Client\\AppData\\Local\\Temp\\ipykernel_19700\\3453405458.py:40: UserWarning: Could not infer format, so each element will be parsed individually, falling back to `dateutil`. To ensure parsing is consistent and as-expected, please specify a format.\n",
      "  self.df[col] = pd.to_datetime(self.df[col])\n"
     ]
    },
    {
     "name": "stdout",
     "output_type": "stream",
     "text": [
      " Data types converted successfully.\n"
     ]
    }
   ],
   "source": [
    "# Initialize DataTypeConverter\n",
    "converter = DataTypeConverter(df)\n",
    "\n",
    "# Convert data types\n",
    "converter.convert_data_types()\n",
    "\n",
    "# Get the transformed DataFrame\n",
    "df_converted = converter.get_dataframe()"
   ]
  },
  {
   "cell_type": "markdown",
   "metadata": {},
   "source": [
    "## Analyse univarie "
   ]
  },
  {
   "cell_type": "markdown",
   "metadata": {},
   "source": [
    "### numerical variables "
   ]
  },
  {
   "cell_type": "code",
   "execution_count": 62,
   "metadata": {},
   "outputs": [
    {
     "name": "stdout",
     "output_type": "stream",
     "text": [
      "Df dtypes:\n",
      "dtype\n",
      "category    7\n",
      "float64     8\n",
      "int32       9\n",
      "object      4\n",
      "dtype: int64\n"
     ]
    }
   ],
   "source": [
    "dtypes['dtype'] = dtypes['dtype'].astype(str)  # Convertit les dtypes en string\n",
    "print('Df dtypes:')\n",
    "print(dtypes.groupby('dtype').size())"
   ]
  },
  {
   "cell_type": "code",
   "execution_count": 63,
   "metadata": {},
   "outputs": [
    {
     "name": "stdout",
     "output_type": "stream",
     "text": [
      "                             count          mean           std          min  \\\n",
      "age                       150000.0     34.506213      9.711813    18.000000   \n",
      "annual_income             150000.0  47775.158117  34369.901183  7005.930000   \n",
      "monthly_inhand_salary     150000.0   3628.638400   2314.484010   500.417917   \n",
      "num_bank_accounts         150000.0      5.364260      2.575788     0.000000   \n",
      "num_credit_card           150000.0      5.520833      2.046918     0.000000   \n",
      "interest_rate             150000.0     14.500953      8.655835     1.000000   \n",
      "num_of_loan               150000.0      3.510880      2.395156     0.000000   \n",
      "delay_from_due_date       150000.0     19.532460     12.530683     0.000000   \n",
      "num_of_delayed_payment    150000.0     13.467593      5.944468     0.000000   \n",
      "changed_credit_limit      150000.0     10.119565      6.364913    -6.490000   \n",
      "num_credit_inquiries      150000.0      6.272713      3.883406     0.000000   \n",
      "outstanding_debt          150000.0   1249.626768    894.063739     0.230000   \n",
      "credit_utilization_ratio  150000.0     32.282848      5.112535    20.000000   \n",
      "credit_history_age        150000.0     26.000000      0.000000    26.000000   \n",
      "total_emi_per_month       150000.0     88.537571     79.179783     0.000000   \n",
      "amount_invested_monthly   150000.0    149.475686    102.875363     0.000000   \n",
      "monthly_balance           150000.0    353.715795    133.706044     0.007760   \n",
      "\n",
      "                                   25%           50%           75%  \\\n",
      "age                          27.000000     34.000000     42.000000   \n",
      "annual_income             19455.490000  37002.580000  68380.020000   \n",
      "monthly_inhand_salary      1829.783333   3119.696667   4792.500000   \n",
      "num_bank_accounts             3.000000      5.000000      7.000000   \n",
      "num_credit_card               4.000000      5.000000      7.000000   \n",
      "interest_rate                 8.000000     13.000000     20.000000   \n",
      "num_of_loan                   2.000000      3.000000      5.000000   \n",
      "delay_from_due_date          10.000000     18.000000     26.000000   \n",
      "num_of_delayed_payment        9.000000     14.000000     18.000000   \n",
      "changed_credit_limit          5.420000      9.410000     14.190000   \n",
      "num_credit_inquiries          3.000000      6.000000      9.000000   \n",
      "outstanding_debt            566.072500   1166.117500   1602.940000   \n",
      "credit_utilization_ratio     28.054731     32.297027     36.487180   \n",
      "credit_history_age           26.000000     26.000000     26.000000   \n",
      "total_emi_per_month          30.947775     69.700562    124.767692   \n",
      "amount_invested_monthly      77.018550    135.791445    182.631923   \n",
      "monthly_balance             270.971064    336.815865    411.785325   \n",
      "\n",
      "                                    max  \n",
      "age                           56.000000  \n",
      "annual_income             149168.880000  \n",
      "monthly_inhand_salary      10653.867500  \n",
      "num_bank_accounts             11.000000  \n",
      "num_credit_card               11.000000  \n",
      "interest_rate                 34.000000  \n",
      "num_of_loan                    9.000000  \n",
      "delay_from_due_date           55.000000  \n",
      "num_of_delayed_payment        28.000000  \n",
      "changed_credit_limit          28.470000  \n",
      "num_credit_inquiries          17.000000  \n",
      "outstanding_debt            4014.350000  \n",
      "credit_utilization_ratio      49.064277  \n",
      "credit_history_age            26.000000  \n",
      "total_emi_per_month          350.455834  \n",
      "amount_invested_monthly      522.785582  \n",
      "monthly_balance              763.512343  \n"
     ]
    }
   ],
   "source": [
    "def numeric_analysis(df):\n",
    "        return print(df.describe().T)\n",
    "numeric_analysis(df)"
   ]
  },
  {
   "cell_type": "code",
   "execution_count": 64,
   "metadata": {},
   "outputs": [],
   "source": [
    "def univariate_analysis(df, base_folder=\"univariate_analysis\"):\n",
    "        # Ensure the base folder exists\n",
    "        if not os.path.exists(base_folder):\n",
    "            os.makedirs(base_folder)\n",
    "        \n",
    "        # Select numeric columns\n",
    "        numeric_cols = df.select_dtypes(include=['number']).columns\n",
    "        \n",
    "        for col in numeric_cols:\n",
    "            # Create a folder for the analysis\n",
    "            col_folder = os.path.join(base_folder, col)\n",
    "            if not os.path.exists(col_folder):\n",
    "                os.makedirs(col_folder)\n",
    "            \n",
    "            print(f\"\\nPerforming Univariate Analysis for: {col}\")\n",
    "            \n",
    "            # Create a single figure with 2x2 layout\n",
    "            fig, axes = plt.subplots(2, 2, figsize=(12, 10))\n",
    "            fig.suptitle(f'Univariate Analysis for {col}', fontsize=16)\n",
    "            \n",
    "            # Bar Chart\n",
    "            sns.barplot(\n",
    "                x=df[col].value_counts().index, \n",
    "                y=df[col].value_counts().values, \n",
    "                palette=\"viridis\", \n",
    "                ax=axes[0, 0]\n",
    "            )\n",
    "            axes[0, 0].set_title('Bar Chart')\n",
    "            axes[0, 0].set_xlabel(col)\n",
    "            axes[0, 0].set_ylabel('Frequency')\n",
    "            \n",
    "            # Box Plot\n",
    "            sns.boxplot(y=df[col], palette=\"viridis\", ax=axes[0, 1])\n",
    "            axes[0, 1].set_title('Box Plot')\n",
    "            axes[0, 1].set_xlabel(col)\n",
    "            \n",
    "            # Density Plot\n",
    "            sns.kdeplot(df[col], fill=True, color=\"blue\", alpha=0.6, ax=axes[1, 0])\n",
    "            axes[1, 0].set_title('Density Plot')\n",
    "            axes[1, 0].set_xlabel(col)\n",
    "            axes[1, 0].set_ylabel('Density')\n",
    "            \n",
    "            # Histogram\n",
    "            sns.histplot(df[col], kde=False, color=\"green\", ax=axes[1, 1])\n",
    "            axes[1, 1].set_title('Histogram')\n",
    "            axes[1, 1].set_xlabel(col)\n",
    "            axes[1, 1].set_ylabel('Frequency')\n",
    "            \n",
    "            # Adjust layout\n",
    "            plt.tight_layout(rect=[0, 0, 1, 0.96])  # Make room for the main title\n",
    "            \n",
    "            # Save the combined plot\n",
    "            combined_plot_path = os.path.join(col_folder, f\"{col}_univariate_analysis.png\")\n",
    "            plt.savefig(combined_plot_path, bbox_inches='tight')\n",
    "            plt.close()\n",
    "            \n",
    "            print(f\"Combined plots for {col} saved in: {combined_plot_path}\")"
   ]
  },
  {
   "cell_type": "code",
   "execution_count": null,
   "metadata": {},
   "outputs": [
    {
     "name": "stdout",
     "output_type": "stream",
     "text": [
      "\n",
      "Performing Univariate Analysis for: age\n"
     ]
    },
    {
     "name": "stderr",
     "output_type": "stream",
     "text": [
      "c:\\Users\\Client\\anaconda3\\Nouveau dossier\\Lib\\site-packages\\seaborn\\_oldcore.py:1119: FutureWarning: use_inf_as_na option is deprecated and will be removed in a future version. Convert inf values to NaN before operating instead.\n",
      "  with pd.option_context('mode.use_inf_as_na', True):\n",
      "c:\\Users\\Client\\anaconda3\\Nouveau dossier\\Lib\\site-packages\\seaborn\\_oldcore.py:1119: FutureWarning: use_inf_as_na option is deprecated and will be removed in a future version. Convert inf values to NaN before operating instead.\n",
      "  with pd.option_context('mode.use_inf_as_na', True):\n"
     ]
    },
    {
     "name": "stdout",
     "output_type": "stream",
     "text": [
      "Combined plots for age saved in: univariate_analysis\\age\\age_univariate_analysis.png\n",
      "\n",
      "Performing Univariate Analysis for: annual_income\n"
     ]
    },
    {
     "name": "stderr",
     "output_type": "stream",
     "text": [
      "c:\\Users\\Client\\anaconda3\\Nouveau dossier\\Lib\\site-packages\\seaborn\\_oldcore.py:1119: FutureWarning: use_inf_as_na option is deprecated and will be removed in a future version. Convert inf values to NaN before operating instead.\n",
      "  with pd.option_context('mode.use_inf_as_na', True):\n",
      "c:\\Users\\Client\\anaconda3\\Nouveau dossier\\Lib\\site-packages\\seaborn\\_oldcore.py:1119: FutureWarning: use_inf_as_na option is deprecated and will be removed in a future version. Convert inf values to NaN before operating instead.\n",
      "  with pd.option_context('mode.use_inf_as_na', True):\n"
     ]
    },
    {
     "name": "stdout",
     "output_type": "stream",
     "text": [
      "Combined plots for annual_income saved in: univariate_analysis\\annual_income\\annual_income_univariate_analysis.png\n",
      "\n",
      "Performing Univariate Analysis for: monthly_inhand_salary\n"
     ]
    },
    {
     "name": "stderr",
     "output_type": "stream",
     "text": [
      "c:\\Users\\Client\\anaconda3\\Nouveau dossier\\Lib\\site-packages\\seaborn\\_oldcore.py:1119: FutureWarning: use_inf_as_na option is deprecated and will be removed in a future version. Convert inf values to NaN before operating instead.\n",
      "  with pd.option_context('mode.use_inf_as_na', True):\n",
      "c:\\Users\\Client\\anaconda3\\Nouveau dossier\\Lib\\site-packages\\seaborn\\_oldcore.py:1119: FutureWarning: use_inf_as_na option is deprecated and will be removed in a future version. Convert inf values to NaN before operating instead.\n",
      "  with pd.option_context('mode.use_inf_as_na', True):\n"
     ]
    },
    {
     "name": "stdout",
     "output_type": "stream",
     "text": [
      "Combined plots for monthly_inhand_salary saved in: univariate_analysis\\monthly_inhand_salary\\monthly_inhand_salary_univariate_analysis.png\n",
      "\n",
      "Performing Univariate Analysis for: num_bank_accounts\n"
     ]
    },
    {
     "name": "stderr",
     "output_type": "stream",
     "text": [
      "c:\\Users\\Client\\anaconda3\\Nouveau dossier\\Lib\\site-packages\\seaborn\\_oldcore.py:1119: FutureWarning: use_inf_as_na option is deprecated and will be removed in a future version. Convert inf values to NaN before operating instead.\n",
      "  with pd.option_context('mode.use_inf_as_na', True):\n",
      "c:\\Users\\Client\\anaconda3\\Nouveau dossier\\Lib\\site-packages\\seaborn\\_oldcore.py:1119: FutureWarning: use_inf_as_na option is deprecated and will be removed in a future version. Convert inf values to NaN before operating instead.\n",
      "  with pd.option_context('mode.use_inf_as_na', True):\n"
     ]
    },
    {
     "name": "stdout",
     "output_type": "stream",
     "text": [
      "Combined plots for num_bank_accounts saved in: univariate_analysis\\num_bank_accounts\\num_bank_accounts_univariate_analysis.png\n",
      "\n",
      "Performing Univariate Analysis for: num_credit_card\n"
     ]
    },
    {
     "name": "stderr",
     "output_type": "stream",
     "text": [
      "c:\\Users\\Client\\anaconda3\\Nouveau dossier\\Lib\\site-packages\\seaborn\\_oldcore.py:1119: FutureWarning: use_inf_as_na option is deprecated and will be removed in a future version. Convert inf values to NaN before operating instead.\n",
      "  with pd.option_context('mode.use_inf_as_na', True):\n",
      "c:\\Users\\Client\\anaconda3\\Nouveau dossier\\Lib\\site-packages\\seaborn\\_oldcore.py:1119: FutureWarning: use_inf_as_na option is deprecated and will be removed in a future version. Convert inf values to NaN before operating instead.\n",
      "  with pd.option_context('mode.use_inf_as_na', True):\n"
     ]
    },
    {
     "name": "stdout",
     "output_type": "stream",
     "text": [
      "Combined plots for num_credit_card saved in: univariate_analysis\\num_credit_card\\num_credit_card_univariate_analysis.png\n",
      "\n",
      "Performing Univariate Analysis for: interest_rate\n"
     ]
    },
    {
     "name": "stderr",
     "output_type": "stream",
     "text": [
      "c:\\Users\\Client\\anaconda3\\Nouveau dossier\\Lib\\site-packages\\seaborn\\_oldcore.py:1119: FutureWarning: use_inf_as_na option is deprecated and will be removed in a future version. Convert inf values to NaN before operating instead.\n",
      "  with pd.option_context('mode.use_inf_as_na', True):\n",
      "c:\\Users\\Client\\anaconda3\\Nouveau dossier\\Lib\\site-packages\\seaborn\\_oldcore.py:1119: FutureWarning: use_inf_as_na option is deprecated and will be removed in a future version. Convert inf values to NaN before operating instead.\n",
      "  with pd.option_context('mode.use_inf_as_na', True):\n"
     ]
    },
    {
     "name": "stdout",
     "output_type": "stream",
     "text": [
      "Combined plots for interest_rate saved in: univariate_analysis\\interest_rate\\interest_rate_univariate_analysis.png\n",
      "\n",
      "Performing Univariate Analysis for: num_of_loan\n"
     ]
    },
    {
     "name": "stderr",
     "output_type": "stream",
     "text": [
      "c:\\Users\\Client\\anaconda3\\Nouveau dossier\\Lib\\site-packages\\seaborn\\_oldcore.py:1119: FutureWarning: use_inf_as_na option is deprecated and will be removed in a future version. Convert inf values to NaN before operating instead.\n",
      "  with pd.option_context('mode.use_inf_as_na', True):\n",
      "c:\\Users\\Client\\anaconda3\\Nouveau dossier\\Lib\\site-packages\\seaborn\\_oldcore.py:1119: FutureWarning: use_inf_as_na option is deprecated and will be removed in a future version. Convert inf values to NaN before operating instead.\n",
      "  with pd.option_context('mode.use_inf_as_na', True):\n"
     ]
    },
    {
     "name": "stdout",
     "output_type": "stream",
     "text": [
      "Combined plots for num_of_loan saved in: univariate_analysis\\num_of_loan\\num_of_loan_univariate_analysis.png\n",
      "\n",
      "Performing Univariate Analysis for: delay_from_due_date\n"
     ]
    },
    {
     "name": "stderr",
     "output_type": "stream",
     "text": [
      "c:\\Users\\Client\\anaconda3\\Nouveau dossier\\Lib\\site-packages\\seaborn\\_oldcore.py:1119: FutureWarning: use_inf_as_na option is deprecated and will be removed in a future version. Convert inf values to NaN before operating instead.\n",
      "  with pd.option_context('mode.use_inf_as_na', True):\n",
      "c:\\Users\\Client\\anaconda3\\Nouveau dossier\\Lib\\site-packages\\seaborn\\_oldcore.py:1119: FutureWarning: use_inf_as_na option is deprecated and will be removed in a future version. Convert inf values to NaN before operating instead.\n",
      "  with pd.option_context('mode.use_inf_as_na', True):\n"
     ]
    },
    {
     "name": "stdout",
     "output_type": "stream",
     "text": [
      "Combined plots for delay_from_due_date saved in: univariate_analysis\\delay_from_due_date\\delay_from_due_date_univariate_analysis.png\n",
      "\n",
      "Performing Univariate Analysis for: num_of_delayed_payment\n"
     ]
    },
    {
     "name": "stderr",
     "output_type": "stream",
     "text": [
      "c:\\Users\\Client\\anaconda3\\Nouveau dossier\\Lib\\site-packages\\seaborn\\_oldcore.py:1119: FutureWarning: use_inf_as_na option is deprecated and will be removed in a future version. Convert inf values to NaN before operating instead.\n",
      "  with pd.option_context('mode.use_inf_as_na', True):\n",
      "c:\\Users\\Client\\anaconda3\\Nouveau dossier\\Lib\\site-packages\\seaborn\\_oldcore.py:1119: FutureWarning: use_inf_as_na option is deprecated and will be removed in a future version. Convert inf values to NaN before operating instead.\n",
      "  with pd.option_context('mode.use_inf_as_na', True):\n"
     ]
    },
    {
     "name": "stdout",
     "output_type": "stream",
     "text": [
      "Combined plots for num_of_delayed_payment saved in: univariate_analysis\\num_of_delayed_payment\\num_of_delayed_payment_univariate_analysis.png\n",
      "\n",
      "Performing Univariate Analysis for: changed_credit_limit\n"
     ]
    },
    {
     "name": "stderr",
     "output_type": "stream",
     "text": [
      "c:\\Users\\Client\\anaconda3\\Nouveau dossier\\Lib\\site-packages\\seaborn\\_oldcore.py:1119: FutureWarning: use_inf_as_na option is deprecated and will be removed in a future version. Convert inf values to NaN before operating instead.\n",
      "  with pd.option_context('mode.use_inf_as_na', True):\n",
      "c:\\Users\\Client\\anaconda3\\Nouveau dossier\\Lib\\site-packages\\seaborn\\_oldcore.py:1119: FutureWarning: use_inf_as_na option is deprecated and will be removed in a future version. Convert inf values to NaN before operating instead.\n",
      "  with pd.option_context('mode.use_inf_as_na', True):\n"
     ]
    },
    {
     "name": "stdout",
     "output_type": "stream",
     "text": [
      "Combined plots for changed_credit_limit saved in: univariate_analysis\\changed_credit_limit\\changed_credit_limit_univariate_analysis.png\n",
      "\n",
      "Performing Univariate Analysis for: num_credit_inquiries\n"
     ]
    },
    {
     "name": "stderr",
     "output_type": "stream",
     "text": [
      "c:\\Users\\Client\\anaconda3\\Nouveau dossier\\Lib\\site-packages\\seaborn\\_oldcore.py:1119: FutureWarning: use_inf_as_na option is deprecated and will be removed in a future version. Convert inf values to NaN before operating instead.\n",
      "  with pd.option_context('mode.use_inf_as_na', True):\n",
      "c:\\Users\\Client\\anaconda3\\Nouveau dossier\\Lib\\site-packages\\seaborn\\_oldcore.py:1119: FutureWarning: use_inf_as_na option is deprecated and will be removed in a future version. Convert inf values to NaN before operating instead.\n",
      "  with pd.option_context('mode.use_inf_as_na', True):\n"
     ]
    },
    {
     "name": "stdout",
     "output_type": "stream",
     "text": [
      "Combined plots for num_credit_inquiries saved in: univariate_analysis\\num_credit_inquiries\\num_credit_inquiries_univariate_analysis.png\n",
      "\n",
      "Performing Univariate Analysis for: outstanding_debt\n"
     ]
    },
    {
     "name": "stderr",
     "output_type": "stream",
     "text": [
      "c:\\Users\\Client\\anaconda3\\Nouveau dossier\\Lib\\site-packages\\seaborn\\_oldcore.py:1119: FutureWarning: use_inf_as_na option is deprecated and will be removed in a future version. Convert inf values to NaN before operating instead.\n",
      "  with pd.option_context('mode.use_inf_as_na', True):\n",
      "c:\\Users\\Client\\anaconda3\\Nouveau dossier\\Lib\\site-packages\\seaborn\\_oldcore.py:1119: FutureWarning: use_inf_as_na option is deprecated and will be removed in a future version. Convert inf values to NaN before operating instead.\n",
      "  with pd.option_context('mode.use_inf_as_na', True):\n"
     ]
    },
    {
     "name": "stdout",
     "output_type": "stream",
     "text": [
      "Combined plots for outstanding_debt saved in: univariate_analysis\\outstanding_debt\\outstanding_debt_univariate_analysis.png\n",
      "\n",
      "Performing Univariate Analysis for: credit_utilization_ratio\n"
     ]
    }
   ],
   "source": [
    "univariate_analysis(df, base_folder=\"univariate_analysis\")"
   ]
  },
  {
   "cell_type": "markdown",
   "metadata": {},
   "source": [
    "### categorical variables "
   ]
  },
  {
   "cell_type": "code",
   "execution_count": 26,
   "metadata": {},
   "outputs": [
    {
     "name": "stdout",
     "output_type": "stream",
     "text": [
      "                        count  unique                             top   freq\n",
      "id                     150000  150000                          0x1602      1\n",
      "customer_id            150000   12500                       CUS_0xd40     12\n",
      "month                  150000      12                         January  12500\n",
      "name                   135000   10139                          Stevex     66\n",
      "ssn                    141600   12500                     078-73-5990     12\n",
      "occupation             130138      14                          Lawyer   9899\n",
      "type_of_loan           132888    6260                   Not Specified   2112\n",
      "credit_mix             150000       4                        Standard  54858\n",
      "payment_of_min_amount  150000       3                             Yes  78484\n",
      "payment_behaviour      150000       7  Low_spent_Small_value_payments  38207\n",
      "credit_score           100000       3                        Standard  53174\n"
     ]
    }
   ],
   "source": [
    "def categorical_analysis(df):\n",
    "    return print(df.select_dtypes(include='object').describe().T)\n",
    "categorical_analysis(df)"
   ]
  },
  {
   "cell_type": "code",
   "execution_count": 30,
   "metadata": {},
   "outputs": [
    {
     "data": {
      "text/plain": [
       "6261"
      ]
     },
     "execution_count": 30,
     "metadata": {},
     "output_type": "execute_result"
    }
   ],
   "source": [
    "len(df[\"type_of_loan\"].unique())"
   ]
  },
  {
   "cell_type": "code",
   "execution_count": 31,
   "metadata": {},
   "outputs": [
    {
     "name": "stdout",
     "output_type": "stream",
     "text": [
      "\n",
      "Performing Univariate Analysis for: month\n",
      "Saved: univariate_analysis_categorical\\month\\month_univariate_analysis.png\n",
      "\n",
      "Performing Univariate Analysis for: occupation\n",
      "Saved: univariate_analysis_categorical\\occupation\\occupation_univariate_analysis.png\n",
      "\n",
      "Performing Univariate Analysis for: credit_mix\n",
      "Saved: univariate_analysis_categorical\\credit_mix\\credit_mix_univariate_analysis.png\n",
      "\n",
      "Performing Univariate Analysis for: payment_of_min_amount\n",
      "Saved: univariate_analysis_categorical\\payment_of_min_amount\\payment_of_min_amount_univariate_analysis.png\n",
      "\n",
      "Performing Univariate Analysis for: payment_behaviour\n",
      "Saved: univariate_analysis_categorical\\payment_behaviour\\payment_behaviour_univariate_analysis.png\n",
      "\n",
      "Performing Univariate Analysis for: credit_score\n",
      "Saved: univariate_analysis_categorical\\credit_score\\credit_score_univariate_analysis.png\n"
     ]
    }
   ],
   "source": [
    "import os\n",
    "import pandas as pd\n",
    "import seaborn as sns\n",
    "import matplotlib.pyplot as plt\n",
    "\n",
    "def univariate_analysis_categorical(df, base_folder=\"univariate_analysis_categorical\"):\n",
    "    \"\"\"\n",
    "    Perform univariate analysis on categorical variables by generating:\n",
    "    - A count plot (bar chart)\n",
    "    - A pie chart\n",
    "\n",
    "    Parameters:\n",
    "        df (pd.DataFrame): DataFrame to analyze.\n",
    "        base_folder (str): Folder to save the generated images.\n",
    "    \"\"\"\n",
    "    os.makedirs(base_folder, exist_ok=True)  # Create base folder if not exists\n",
    "\n",
    "    # Select categorical columns\n",
    "    # Liste des colonnes à exclure\n",
    "    exclude_cols = {'id', 'customer_id', 'type_of_loan', 'name', 'ssn'}\n",
    "    # Sélection des colonnes catégorielles sans celles à exclure\n",
    "    categorical_cols = [col for col in df.select_dtypes(include=['object', 'category']).columns if col not in exclude_cols]\n",
    "    for col in categorical_cols:\n",
    "        print(f\"\\nPerforming Univariate Analysis for: {col}\")\n",
    "\n",
    "        # Create folder for each variable\n",
    "        col_folder = os.path.join(base_folder, col)\n",
    "        os.makedirs(col_folder, exist_ok=True)\n",
    "\n",
    "        # Drop NaN values for visualization\n",
    "        col_data = df[col].dropna()\n",
    "\n",
    "        # Create figure\n",
    "        fig, axes = plt.subplots(1, 2, figsize=(15, 6))\n",
    "        fig.suptitle(f'Univariate Analysis for {col}', fontsize=16)\n",
    "\n",
    "        # Count Plot (Bar Chart)\n",
    "        sns.countplot(\n",
    "            x=col_data, \n",
    "            order=col_data.value_counts().index,  # Order by frequency\n",
    "            palette=\"viridis\", \n",
    "            ax=axes[0]\n",
    "        )\n",
    "        axes[0].set_title('Count Plot')\n",
    "        axes[0].set_xlabel(col)\n",
    "        axes[0].set_ylabel('Frequency')\n",
    "        plt.xticks(rotation=45)\n",
    "\n",
    "        # Pie Chart\n",
    "        explode_values = [0.05] * len(col_data.unique())  # Small separation between slices\n",
    "        col_data.value_counts().plot.pie(\n",
    "            autopct='%1.1f%%', \n",
    "            colors=sns.color_palette(\"viridis\", len(col_data.unique())),\n",
    "            explode=explode_values,\n",
    "            ax=axes[1]\n",
    "        )\n",
    "        axes[1].set_title('Pie Chart')\n",
    "        axes[1].set_ylabel('')  # Remove y-label for better visualization\n",
    "\n",
    "        # Save the figure\n",
    "        plot_path = os.path.join(col_folder, f\"{col}_univariate_analysis.png\")\n",
    "        plt.savefig(plot_path, bbox_inches='tight')\n",
    "        plt.close()\n",
    "\n",
    "        print(f\"Saved: {plot_path}\")\n",
    "\n",
    "univariate_analysis_categorical(df, base_folder=\"univariate_analysis_categorical\")\n"
   ]
  },
  {
   "cell_type": "markdown",
   "metadata": {},
   "source": [
    "## Multyvarie Analysis"
   ]
  },
  {
   "cell_type": "code",
   "execution_count": 37,
   "metadata": {},
   "outputs": [],
   "source": [
    "target = \"credit_score\""
   ]
  },
  {
   "cell_type": "markdown",
   "metadata": {},
   "source": [
    "### multivariate analysis with respect to the target variable"
   ]
  },
  {
   "cell_type": "code",
   "execution_count": 20,
   "metadata": {},
   "outputs": [
    {
     "name": "stdout",
     "output_type": "stream",
     "text": [
      "credit_score\n",
      "Standard    53.174\n",
      "Poor        28.998\n",
      "Good        17.828\n",
      "Name: proportion, dtype: float64\n"
     ]
    }
   ],
   "source": [
    "print(df[\"credit_score\"].value_counts(normalize=True) * 100)"
   ]
  },
  {
   "cell_type": "code",
   "execution_count": null,
   "metadata": {},
   "outputs": [],
   "source": [
    "import os\n",
    "import pandas as pd\n",
    "import seaborn as sns\n",
    "import matplotlib.pyplot as plt\n",
    "from concurrent.futures import ThreadPoolExecutor\n",
    "\n",
    "def multivariate_analysis(target, df, base_folder=\"multivariate_analysis\", sample_frac=0.2):\n",
    "    \"\"\"\n",
    "    Performs multivariate analysis with respect to the target variable.\n",
    "    Outputs:\n",
    "        - Categorical vs Target: Box plots or count plots.\n",
    "        - Numeric vs Target: Scatter plots with density curves.\n",
    "    \n",
    "    Parameters:\n",
    "        df (pd.DataFrame): The DataFrame to analyze.\n",
    "        target (str): The target variable for comparison.\n",
    "        base_folder (str): Directory to save the analysis images.\n",
    "        sample_frac (float): Fraction of data to sample for faster plotting.\n",
    "    \"\"\"\n",
    "    # Ensure the base folder exists\n",
    "    os.makedirs(base_folder, exist_ok=True)\n",
    "    \n",
    "    # Select categorical and numeric columns\n",
    "    exclude_cols = {'id', 'customer_id', 'type_of_loan', 'name', 'ssn'}\n",
    "    categorical_cols = [col for col in df.select_dtypes(include=['object', 'category']).columns if col not in exclude_cols]\n",
    "    numeric_cols = [col for col in df.select_dtypes(include=['number']).columns if col not in exclude_cols and col != target]\n",
    "    \n",
    "    # --- Categorical vs Target ---\n",
    "    cat_vs_target_folder = os.path.join(base_folder, \"categorical_vs_target\")\n",
    "    os.makedirs(cat_vs_target_folder, exist_ok=True)\n",
    "    \n",
    "    def plot_categorical_vs_target(col):\n",
    "        print(f\"Analyzing Categorical vs Target: {target} vs {col}\")\n",
    "        \n",
    "        plt.figure(figsize=(10, 6))\n",
    "        if pd.api.types.is_numeric_dtype(df[target]):\n",
    "            sns.boxplot(x=col, y=target, data=df)\n",
    "            plt.title(f\"{target} Distribution by {col}\")\n",
    "        else:\n",
    "            sns.countplot(x=col, hue=target, data=df)\n",
    "            plt.title(f\"Count of {col} by {target}\")\n",
    "        plt.xlabel(col)\n",
    "        plt.ylabel(target if pd.api.types.is_numeric_dtype(df[target]) else \"Count\")\n",
    "        \n",
    "        plot_path = os.path.join(cat_vs_target_folder, f\"{target}_vs_{col}.png\")\n",
    "        plt.savefig(plot_path, bbox_inches='tight')\n",
    "        plt.close()\n",
    "        print(f\"Saved: {plot_path}\")\n",
    "    \n",
    "    # Parallelize the plotting for categorical vs target\n",
    "    with ThreadPoolExecutor() as executor:\n",
    "        executor.map(plot_categorical_vs_target, categorical_cols)\n",
    "    \n",
    "    # --- Numeric vs Target ---\n",
    "    num_vs_target_folder = os.path.join(base_folder, \"numeric_vs_target\")\n",
    "    os.makedirs(num_vs_target_folder, exist_ok=True)\n",
    "    \n",
    "    # Sample the data for faster plotting\n",
    "    sampled_df = df.sample(frac=sample_frac, random_state=42)\n",
    "    \n",
    "    def plot_numeric_vs_target(col):\n",
    "        print(f\"Analyzing Numeric vs Target: {target} vs {col}\")\n",
    "        \n",
    "        plt.figure(figsize=(10, 6))\n",
    "        if pd.api.types.is_numeric_dtype(df[target]):\n",
    "            sns.scatterplot(x=target, y=col, data=sampled_df, alpha=0.4, color='purple')\n",
    "            sns.kdeplot(x=target, y=col, data=sampled_df, color=\"red\", levels=3, linewidths=1)\n",
    "            plt.title(f\"{target} vs {col} (Scatter + Density)\")\n",
    "        else:\n",
    "            sns.boxplot(x=target, y=col, data=sampled_df)\n",
    "            plt.title(f\"{col} Distribution by {target}\")\n",
    "        plt.xlabel(target)\n",
    "        plt.ylabel(col)\n",
    "        \n",
    "        plot_path = os.path.join(num_vs_target_folder, f\"{target}_vs_{col}.png\")\n",
    "        plt.savefig(plot_path, bbox_inches='tight')\n",
    "        plt.close()\n",
    "        print(f\"Saved: {plot_path}\")\n",
    "    \n",
    "    # Parallelize the plotting for numeric vs target\n",
    "    with ThreadPoolExecutor() as executor:\n",
    "        executor.map(plot_numeric_vs_target, numeric_cols)\n",
    "    \n",
    "    print(\"\\n Multivariate Analysis Completed Successfully!\")\n"
   ]
  },
  {
   "cell_type": "code",
   "execution_count": 26,
   "metadata": {},
   "outputs": [
    {
     "name": "stdout",
     "output_type": "stream",
     "text": [
      "Analyzing Categorical vs Target: credit_score vs monthAnalyzing Categorical vs Target: credit_score vs occupation\n",
      "\n",
      "Analyzing Categorical vs Target: credit_score vs credit_mix\n",
      "Analyzing Categorical vs Target: credit_score vs payment_of_min_amount\n",
      "Analyzing Categorical vs Target: credit_score vs payment_behaviour\n",
      "Analyzing Categorical vs Target: credit_score vs credit_score\n",
      "Saved: multivariate_analysis\\categorical_vs_target\\credit_score_vs_payment_of_min_amount.png\n",
      "Saved: multivariate_analysis\\categorical_vs_target\\credit_score_vs_credit_mix.png\n",
      "Saved: multivariate_analysis\\categorical_vs_target\\credit_score_vs_payment_behaviour.png\n",
      "Saved: multivariate_analysis\\categorical_vs_target\\credit_score_vs_month.png\n",
      "Saved: multivariate_analysis\\categorical_vs_target\\credit_score_vs_credit_score.png\n",
      "Analyzing Numeric vs Target: credit_score vs age\n",
      "Analyzing Numeric vs Target: credit_score vs annual_income\n",
      "Analyzing Numeric vs Target: credit_score vs monthly_inhand_salary\n",
      "Analyzing Numeric vs Target: credit_score vs num_bank_accounts\n",
      "Analyzing Numeric vs Target: credit_score vs num_credit_card\n",
      "Analyzing Numeric vs Target: credit_score vs interest_rate\n",
      "Analyzing Numeric vs Target: credit_score vs num_of_loan\n",
      "Analyzing Numeric vs Target: credit_score vs delay_from_due_date\n",
      "Saved: multivariate_analysis\\numeric_vs_target\\credit_score_vs_num_bank_accounts.png\n",
      "Analyzing Numeric vs Target: credit_score vs num_of_delayed_payment\n",
      "Saved: multivariate_analysis\\numeric_vs_target\\credit_score_vs_annual_income.png\n",
      "Analyzing Numeric vs Target: credit_score vs changed_credit_limit\n",
      "Saved: multivariate_analysis\\numeric_vs_target\\credit_score_vs_delay_from_due_date.png\n",
      "Analyzing Numeric vs Target: credit_score vs num_credit_inquiries\n",
      "Saved: multivariate_analysis\\numeric_vs_target\\credit_score_vs_age.png\n",
      "Analyzing Numeric vs Target: credit_score vs outstanding_debt\n",
      "Saved: multivariate_analysis\\numeric_vs_target\\credit_score_vs_interest_rate.png\n",
      "Analyzing Numeric vs Target: credit_score vs credit_utilization_ratio\n",
      "Saved: multivariate_analysis\\numeric_vs_target\\credit_score_vs_num_of_loan.png\n",
      "Analyzing Numeric vs Target: credit_score vs credit_history_age\n",
      "Saved: multivariate_analysis\\numeric_vs_target\\credit_score_vs_num_credit_card.png\n",
      "Analyzing Numeric vs Target: credit_score vs total_emi_per_month\n",
      "Saved: multivariate_analysis\\numeric_vs_target\\credit_score_vs_monthly_inhand_salary.png\n",
      "Analyzing Numeric vs Target: credit_score vs amount_invested_monthly\n",
      "Saved: multivariate_analysis\\numeric_vs_target\\credit_score_vs_num_of_delayed_payment.png\n",
      "Analyzing Numeric vs Target: credit_score vs monthly_balance\n",
      "Saved: multivariate_analysis\\numeric_vs_target\\credit_score_vs_changed_credit_limit.png\n",
      "Saved: multivariate_analysis\\numeric_vs_target\\credit_score_vs_num_credit_inquiries.png\n",
      "Saved: multivariate_analysis\\numeric_vs_target\\credit_score_vs_outstanding_debt.png\n",
      "Saved: multivariate_analysis\\numeric_vs_target\\credit_score_vs_credit_utilization_ratio.png\n",
      "Saved: multivariate_analysis\\numeric_vs_target\\credit_score_vs_credit_history_age.png\n",
      "Saved: multivariate_analysis\\numeric_vs_target\\credit_score_vs_total_emi_per_month.png\n",
      "Saved: multivariate_analysis\\numeric_vs_target\\credit_score_vs_amount_invested_monthly.png\n",
      "Saved: multivariate_analysis\\numeric_vs_target\\credit_score_vs_monthly_balance.png\n",
      "\n",
      "✅ Multivariate Analysis Completed Successfully!\n"
     ]
    }
   ],
   "source": [
    "multivariate_analysis(target, df, base_folder=\"multivariate_analysis\", sample_frac=0.2)"
   ]
  },
  {
   "cell_type": "markdown",
   "metadata": {},
   "source": [
    "### Multyvarie Analysis advanced"
   ]
  },
  {
   "cell_type": "code",
   "execution_count": null,
   "metadata": {},
   "outputs": [
    {
     "name": "stdout",
     "output_type": "stream",
     "text": [
      "\n",
      "Creating Scatter Plot: Target=credit_score, Categorical=month, Numerical=age\n"
     ]
    },
    {
     "name": "stderr",
     "output_type": "stream",
     "text": [
      "C:\\Users\\Client\\AppData\\Local\\Temp\\ipykernel_2944\\2783337156.py:50: UserWarning: Creating legend with loc=\"best\" can be slow with large amounts of data.\n",
      "  plt.savefig(plot_path, bbox_inches='tight')\n"
     ]
    },
    {
     "name": "stdout",
     "output_type": "stream",
     "text": [
      "Scatter Plot saved in: scatter_combinations\\credit_score_vs_age_by_month\\credit_score_vs_age_by_month.png\n",
      "\n",
      "Creating Scatter Plot: Target=credit_score, Categorical=month, Numerical=annual_income\n"
     ]
    },
    {
     "name": "stderr",
     "output_type": "stream",
     "text": [
      "C:\\Users\\Client\\AppData\\Local\\Temp\\ipykernel_2944\\2783337156.py:50: UserWarning: Creating legend with loc=\"best\" can be slow with large amounts of data.\n",
      "  plt.savefig(plot_path, bbox_inches='tight')\n"
     ]
    },
    {
     "name": "stdout",
     "output_type": "stream",
     "text": [
      "Scatter Plot saved in: scatter_combinations\\credit_score_vs_annual_income_by_month\\credit_score_vs_annual_income_by_month.png\n",
      "\n",
      "Creating Scatter Plot: Target=credit_score, Categorical=month, Numerical=monthly_inhand_salary\n"
     ]
    },
    {
     "name": "stderr",
     "output_type": "stream",
     "text": [
      "C:\\Users\\Client\\AppData\\Local\\Temp\\ipykernel_2944\\2783337156.py:50: UserWarning: Creating legend with loc=\"best\" can be slow with large amounts of data.\n",
      "  plt.savefig(plot_path, bbox_inches='tight')\n"
     ]
    },
    {
     "name": "stdout",
     "output_type": "stream",
     "text": [
      "Scatter Plot saved in: scatter_combinations\\credit_score_vs_monthly_inhand_salary_by_month\\credit_score_vs_monthly_inhand_salary_by_month.png\n",
      "\n",
      "Creating Scatter Plot: Target=credit_score, Categorical=month, Numerical=num_bank_accounts\n"
     ]
    },
    {
     "name": "stderr",
     "output_type": "stream",
     "text": [
      "C:\\Users\\Client\\AppData\\Local\\Temp\\ipykernel_2944\\2783337156.py:50: UserWarning: Creating legend with loc=\"best\" can be slow with large amounts of data.\n",
      "  plt.savefig(plot_path, bbox_inches='tight')\n"
     ]
    },
    {
     "name": "stdout",
     "output_type": "stream",
     "text": [
      "Scatter Plot saved in: scatter_combinations\\credit_score_vs_num_bank_accounts_by_month\\credit_score_vs_num_bank_accounts_by_month.png\n",
      "\n",
      "Creating Scatter Plot: Target=credit_score, Categorical=month, Numerical=num_credit_card\n"
     ]
    },
    {
     "name": "stderr",
     "output_type": "stream",
     "text": [
      "C:\\Users\\Client\\AppData\\Local\\Temp\\ipykernel_2944\\2783337156.py:50: UserWarning: Creating legend with loc=\"best\" can be slow with large amounts of data.\n",
      "  plt.savefig(plot_path, bbox_inches='tight')\n"
     ]
    },
    {
     "name": "stdout",
     "output_type": "stream",
     "text": [
      "Scatter Plot saved in: scatter_combinations\\credit_score_vs_num_credit_card_by_month\\credit_score_vs_num_credit_card_by_month.png\n",
      "\n",
      "Creating Scatter Plot: Target=credit_score, Categorical=month, Numerical=interest_rate\n"
     ]
    },
    {
     "name": "stderr",
     "output_type": "stream",
     "text": [
      "C:\\Users\\Client\\AppData\\Local\\Temp\\ipykernel_2944\\2783337156.py:50: UserWarning: Creating legend with loc=\"best\" can be slow with large amounts of data.\n",
      "  plt.savefig(plot_path, bbox_inches='tight')\n"
     ]
    },
    {
     "name": "stdout",
     "output_type": "stream",
     "text": [
      "Scatter Plot saved in: scatter_combinations\\credit_score_vs_interest_rate_by_month\\credit_score_vs_interest_rate_by_month.png\n",
      "\n",
      "Creating Scatter Plot: Target=credit_score, Categorical=month, Numerical=num_of_loan\n"
     ]
    },
    {
     "name": "stderr",
     "output_type": "stream",
     "text": [
      "C:\\Users\\Client\\AppData\\Local\\Temp\\ipykernel_2944\\2783337156.py:50: UserWarning: Creating legend with loc=\"best\" can be slow with large amounts of data.\n",
      "  plt.savefig(plot_path, bbox_inches='tight')\n"
     ]
    },
    {
     "name": "stdout",
     "output_type": "stream",
     "text": [
      "Scatter Plot saved in: scatter_combinations\\credit_score_vs_num_of_loan_by_month\\credit_score_vs_num_of_loan_by_month.png\n",
      "\n",
      "Creating Scatter Plot: Target=credit_score, Categorical=month, Numerical=delay_from_due_date\n"
     ]
    },
    {
     "name": "stderr",
     "output_type": "stream",
     "text": [
      "C:\\Users\\Client\\AppData\\Local\\Temp\\ipykernel_2944\\2783337156.py:50: UserWarning: Creating legend with loc=\"best\" can be slow with large amounts of data.\n",
      "  plt.savefig(plot_path, bbox_inches='tight')\n"
     ]
    },
    {
     "name": "stdout",
     "output_type": "stream",
     "text": [
      "Scatter Plot saved in: scatter_combinations\\credit_score_vs_delay_from_due_date_by_month\\credit_score_vs_delay_from_due_date_by_month.png\n",
      "\n",
      "Creating Scatter Plot: Target=credit_score, Categorical=month, Numerical=num_of_delayed_payment\n"
     ]
    },
    {
     "name": "stderr",
     "output_type": "stream",
     "text": [
      "C:\\Users\\Client\\AppData\\Local\\Temp\\ipykernel_2944\\2783337156.py:50: UserWarning: Creating legend with loc=\"best\" can be slow with large amounts of data.\n",
      "  plt.savefig(plot_path, bbox_inches='tight')\n"
     ]
    },
    {
     "name": "stdout",
     "output_type": "stream",
     "text": [
      "Scatter Plot saved in: scatter_combinations\\credit_score_vs_num_of_delayed_payment_by_month\\credit_score_vs_num_of_delayed_payment_by_month.png\n",
      "\n",
      "Creating Scatter Plot: Target=credit_score, Categorical=month, Numerical=changed_credit_limit\n"
     ]
    },
    {
     "name": "stderr",
     "output_type": "stream",
     "text": [
      "C:\\Users\\Client\\AppData\\Local\\Temp\\ipykernel_2944\\2783337156.py:50: UserWarning: Creating legend with loc=\"best\" can be slow with large amounts of data.\n",
      "  plt.savefig(plot_path, bbox_inches='tight')\n"
     ]
    },
    {
     "name": "stdout",
     "output_type": "stream",
     "text": [
      "Scatter Plot saved in: scatter_combinations\\credit_score_vs_changed_credit_limit_by_month\\credit_score_vs_changed_credit_limit_by_month.png\n",
      "\n",
      "Creating Scatter Plot: Target=credit_score, Categorical=month, Numerical=num_credit_inquiries\n"
     ]
    },
    {
     "name": "stderr",
     "output_type": "stream",
     "text": [
      "C:\\Users\\Client\\AppData\\Local\\Temp\\ipykernel_2944\\2783337156.py:50: UserWarning: Creating legend with loc=\"best\" can be slow with large amounts of data.\n",
      "  plt.savefig(plot_path, bbox_inches='tight')\n"
     ]
    },
    {
     "name": "stdout",
     "output_type": "stream",
     "text": [
      "Scatter Plot saved in: scatter_combinations\\credit_score_vs_num_credit_inquiries_by_month\\credit_score_vs_num_credit_inquiries_by_month.png\n",
      "\n",
      "Creating Scatter Plot: Target=credit_score, Categorical=month, Numerical=outstanding_debt\n"
     ]
    },
    {
     "name": "stderr",
     "output_type": "stream",
     "text": [
      "C:\\Users\\Client\\AppData\\Local\\Temp\\ipykernel_2944\\2783337156.py:50: UserWarning: Creating legend with loc=\"best\" can be slow with large amounts of data.\n",
      "  plt.savefig(plot_path, bbox_inches='tight')\n"
     ]
    },
    {
     "name": "stdout",
     "output_type": "stream",
     "text": [
      "Scatter Plot saved in: scatter_combinations\\credit_score_vs_outstanding_debt_by_month\\credit_score_vs_outstanding_debt_by_month.png\n",
      "\n",
      "Creating Scatter Plot: Target=credit_score, Categorical=month, Numerical=credit_utilization_ratio\n"
     ]
    },
    {
     "name": "stderr",
     "output_type": "stream",
     "text": [
      "C:\\Users\\Client\\AppData\\Local\\Temp\\ipykernel_2944\\2783337156.py:50: UserWarning: Creating legend with loc=\"best\" can be slow with large amounts of data.\n",
      "  plt.savefig(plot_path, bbox_inches='tight')\n"
     ]
    },
    {
     "name": "stdout",
     "output_type": "stream",
     "text": [
      "Scatter Plot saved in: scatter_combinations\\credit_score_vs_credit_utilization_ratio_by_month\\credit_score_vs_credit_utilization_ratio_by_month.png\n",
      "\n",
      "Creating Scatter Plot: Target=credit_score, Categorical=month, Numerical=credit_history_age\n",
      "Scatter Plot saved in: scatter_combinations\\credit_score_vs_credit_history_age_by_month\\credit_score_vs_credit_history_age_by_month.png\n",
      "\n",
      "Creating Scatter Plot: Target=credit_score, Categorical=month, Numerical=total_emi_per_month\n"
     ]
    },
    {
     "name": "stderr",
     "output_type": "stream",
     "text": [
      "C:\\Users\\Client\\AppData\\Local\\Temp\\ipykernel_2944\\2783337156.py:50: UserWarning: Creating legend with loc=\"best\" can be slow with large amounts of data.\n",
      "  plt.savefig(plot_path, bbox_inches='tight')\n"
     ]
    },
    {
     "name": "stdout",
     "output_type": "stream",
     "text": [
      "Scatter Plot saved in: scatter_combinations\\credit_score_vs_total_emi_per_month_by_month\\credit_score_vs_total_emi_per_month_by_month.png\n",
      "\n",
      "Creating Scatter Plot: Target=credit_score, Categorical=month, Numerical=amount_invested_monthly\n"
     ]
    },
    {
     "name": "stderr",
     "output_type": "stream",
     "text": [
      "C:\\Users\\Client\\AppData\\Local\\Temp\\ipykernel_2944\\2783337156.py:50: UserWarning: Creating legend with loc=\"best\" can be slow with large amounts of data.\n",
      "  plt.savefig(plot_path, bbox_inches='tight')\n"
     ]
    },
    {
     "name": "stdout",
     "output_type": "stream",
     "text": [
      "Scatter Plot saved in: scatter_combinations\\credit_score_vs_amount_invested_monthly_by_month\\credit_score_vs_amount_invested_monthly_by_month.png\n",
      "\n",
      "Creating Scatter Plot: Target=credit_score, Categorical=month, Numerical=monthly_balance\n"
     ]
    },
    {
     "name": "stderr",
     "output_type": "stream",
     "text": [
      "C:\\Users\\Client\\AppData\\Local\\Temp\\ipykernel_2944\\2783337156.py:50: UserWarning: Creating legend with loc=\"best\" can be slow with large amounts of data.\n",
      "  plt.savefig(plot_path, bbox_inches='tight')\n"
     ]
    },
    {
     "name": "stdout",
     "output_type": "stream",
     "text": [
      "Scatter Plot saved in: scatter_combinations\\credit_score_vs_monthly_balance_by_month\\credit_score_vs_monthly_balance_by_month.png\n",
      "\n",
      "Creating Scatter Plot: Target=credit_score, Categorical=occupation, Numerical=age\n"
     ]
    },
    {
     "name": "stderr",
     "output_type": "stream",
     "text": [
      "C:\\Users\\Client\\AppData\\Local\\Temp\\ipykernel_2944\\2783337156.py:50: UserWarning: Creating legend with loc=\"best\" can be slow with large amounts of data.\n",
      "  plt.savefig(plot_path, bbox_inches='tight')\n"
     ]
    },
    {
     "name": "stdout",
     "output_type": "stream",
     "text": [
      "Scatter Plot saved in: scatter_combinations\\credit_score_vs_age_by_occupation\\credit_score_vs_age_by_occupation.png\n",
      "\n",
      "Creating Scatter Plot: Target=credit_score, Categorical=occupation, Numerical=annual_income\n"
     ]
    },
    {
     "name": "stderr",
     "output_type": "stream",
     "text": [
      "C:\\Users\\Client\\AppData\\Local\\Temp\\ipykernel_2944\\2783337156.py:50: UserWarning: Creating legend with loc=\"best\" can be slow with large amounts of data.\n",
      "  plt.savefig(plot_path, bbox_inches='tight')\n"
     ]
    },
    {
     "name": "stdout",
     "output_type": "stream",
     "text": [
      "Scatter Plot saved in: scatter_combinations\\credit_score_vs_annual_income_by_occupation\\credit_score_vs_annual_income_by_occupation.png\n",
      "\n",
      "Creating Scatter Plot: Target=credit_score, Categorical=occupation, Numerical=monthly_inhand_salary\n"
     ]
    },
    {
     "name": "stderr",
     "output_type": "stream",
     "text": [
      "C:\\Users\\Client\\AppData\\Local\\Temp\\ipykernel_2944\\2783337156.py:50: UserWarning: Creating legend with loc=\"best\" can be slow with large amounts of data.\n",
      "  plt.savefig(plot_path, bbox_inches='tight')\n"
     ]
    },
    {
     "name": "stdout",
     "output_type": "stream",
     "text": [
      "Scatter Plot saved in: scatter_combinations\\credit_score_vs_monthly_inhand_salary_by_occupation\\credit_score_vs_monthly_inhand_salary_by_occupation.png\n",
      "\n",
      "Creating Scatter Plot: Target=credit_score, Categorical=occupation, Numerical=num_bank_accounts\n"
     ]
    },
    {
     "name": "stderr",
     "output_type": "stream",
     "text": [
      "C:\\Users\\Client\\AppData\\Local\\Temp\\ipykernel_2944\\2783337156.py:50: UserWarning: Creating legend with loc=\"best\" can be slow with large amounts of data.\n",
      "  plt.savefig(plot_path, bbox_inches='tight')\n"
     ]
    },
    {
     "name": "stdout",
     "output_type": "stream",
     "text": [
      "Scatter Plot saved in: scatter_combinations\\credit_score_vs_num_bank_accounts_by_occupation\\credit_score_vs_num_bank_accounts_by_occupation.png\n",
      "\n",
      "Creating Scatter Plot: Target=credit_score, Categorical=occupation, Numerical=num_credit_card\n"
     ]
    },
    {
     "name": "stderr",
     "output_type": "stream",
     "text": [
      "C:\\Users\\Client\\AppData\\Local\\Temp\\ipykernel_2944\\2783337156.py:50: UserWarning: Creating legend with loc=\"best\" can be slow with large amounts of data.\n",
      "  plt.savefig(plot_path, bbox_inches='tight')\n"
     ]
    },
    {
     "name": "stdout",
     "output_type": "stream",
     "text": [
      "Scatter Plot saved in: scatter_combinations\\credit_score_vs_num_credit_card_by_occupation\\credit_score_vs_num_credit_card_by_occupation.png\n",
      "\n",
      "Creating Scatter Plot: Target=credit_score, Categorical=occupation, Numerical=interest_rate\n"
     ]
    },
    {
     "name": "stderr",
     "output_type": "stream",
     "text": [
      "C:\\Users\\Client\\AppData\\Local\\Temp\\ipykernel_2944\\2783337156.py:50: UserWarning: Creating legend with loc=\"best\" can be slow with large amounts of data.\n",
      "  plt.savefig(plot_path, bbox_inches='tight')\n"
     ]
    },
    {
     "name": "stdout",
     "output_type": "stream",
     "text": [
      "Scatter Plot saved in: scatter_combinations\\credit_score_vs_interest_rate_by_occupation\\credit_score_vs_interest_rate_by_occupation.png\n",
      "\n",
      "Creating Scatter Plot: Target=credit_score, Categorical=occupation, Numerical=num_of_loan\n"
     ]
    },
    {
     "name": "stderr",
     "output_type": "stream",
     "text": [
      "C:\\Users\\Client\\AppData\\Local\\Temp\\ipykernel_2944\\2783337156.py:50: UserWarning: Creating legend with loc=\"best\" can be slow with large amounts of data.\n",
      "  plt.savefig(plot_path, bbox_inches='tight')\n"
     ]
    },
    {
     "name": "stdout",
     "output_type": "stream",
     "text": [
      "Scatter Plot saved in: scatter_combinations\\credit_score_vs_num_of_loan_by_occupation\\credit_score_vs_num_of_loan_by_occupation.png\n",
      "\n",
      "Creating Scatter Plot: Target=credit_score, Categorical=occupation, Numerical=delay_from_due_date\n"
     ]
    },
    {
     "name": "stderr",
     "output_type": "stream",
     "text": [
      "C:\\Users\\Client\\AppData\\Local\\Temp\\ipykernel_2944\\2783337156.py:50: UserWarning: Creating legend with loc=\"best\" can be slow with large amounts of data.\n",
      "  plt.savefig(plot_path, bbox_inches='tight')\n"
     ]
    },
    {
     "ename": "KeyboardInterrupt",
     "evalue": "",
     "output_type": "error",
     "traceback": [
      "\u001b[1;31m---------------------------------------------------------------------------\u001b[0m",
      "\u001b[1;31mKeyboardInterrupt\u001b[0m                         Traceback (most recent call last)",
      "Cell \u001b[1;32mIn[38], line 54\u001b[0m\n\u001b[0;32m     51\u001b[0m                     plt\u001b[38;5;241m.\u001b[39mclose()\n\u001b[0;32m     53\u001b[0m                     \u001b[38;5;28mprint\u001b[39m(\u001b[38;5;124mf\u001b[39m\u001b[38;5;124m\"\u001b[39m\u001b[38;5;124mScatter Plot saved in: \u001b[39m\u001b[38;5;132;01m{\u001b[39;00mplot_path\u001b[38;5;132;01m}\u001b[39;00m\u001b[38;5;124m\"\u001b[39m)\n\u001b[1;32m---> 54\u001b[0m scatter_plot_combinations(target, df, base_folder\u001b[38;5;241m=\u001b[39m\u001b[38;5;124m\"\u001b[39m\u001b[38;5;124mscatter_combinations\u001b[39m\u001b[38;5;124m\"\u001b[39m)\n",
      "Cell \u001b[1;32mIn[38], line 50\u001b[0m, in \u001b[0;36mscatter_plot_combinations\u001b[1;34m(target, df, base_folder)\u001b[0m\n\u001b[0;32m     48\u001b[0m     os\u001b[38;5;241m.\u001b[39mmakedirs(plot_folder)\n\u001b[0;32m     49\u001b[0m plot_path \u001b[38;5;241m=\u001b[39m os\u001b[38;5;241m.\u001b[39mpath\u001b[38;5;241m.\u001b[39mjoin(plot_folder, \u001b[38;5;124mf\u001b[39m\u001b[38;5;124m\"\u001b[39m\u001b[38;5;132;01m{\u001b[39;00mtarget\u001b[38;5;132;01m}\u001b[39;00m\u001b[38;5;124m_vs_\u001b[39m\u001b[38;5;132;01m{\u001b[39;00mnum_col\u001b[38;5;132;01m}\u001b[39;00m\u001b[38;5;124m_by_\u001b[39m\u001b[38;5;132;01m{\u001b[39;00mcat_col\u001b[38;5;132;01m}\u001b[39;00m\u001b[38;5;124m.png\u001b[39m\u001b[38;5;124m\"\u001b[39m)\n\u001b[1;32m---> 50\u001b[0m plt\u001b[38;5;241m.\u001b[39msavefig(plot_path, bbox_inches\u001b[38;5;241m=\u001b[39m\u001b[38;5;124m'\u001b[39m\u001b[38;5;124mtight\u001b[39m\u001b[38;5;124m'\u001b[39m)\n\u001b[0;32m     51\u001b[0m plt\u001b[38;5;241m.\u001b[39mclose()\n\u001b[0;32m     53\u001b[0m \u001b[38;5;28mprint\u001b[39m(\u001b[38;5;124mf\u001b[39m\u001b[38;5;124m\"\u001b[39m\u001b[38;5;124mScatter Plot saved in: \u001b[39m\u001b[38;5;132;01m{\u001b[39;00mplot_path\u001b[38;5;132;01m}\u001b[39;00m\u001b[38;5;124m\"\u001b[39m)\n",
      "File \u001b[1;32mc:\\Users\\Client\\anaconda3\\Nouveau dossier\\Lib\\site-packages\\matplotlib\\pyplot.py:1120\u001b[0m, in \u001b[0;36msavefig\u001b[1;34m(*args, **kwargs)\u001b[0m\n\u001b[0;32m   1117\u001b[0m \u001b[38;5;66;03m# savefig default implementation has no return, so mypy is unhappy\u001b[39;00m\n\u001b[0;32m   1118\u001b[0m \u001b[38;5;66;03m# presumably this is here because subclasses can return?\u001b[39;00m\n\u001b[0;32m   1119\u001b[0m res \u001b[38;5;241m=\u001b[39m fig\u001b[38;5;241m.\u001b[39msavefig(\u001b[38;5;241m*\u001b[39margs, \u001b[38;5;241m*\u001b[39m\u001b[38;5;241m*\u001b[39mkwargs)  \u001b[38;5;66;03m# type: ignore[func-returns-value]\u001b[39;00m\n\u001b[1;32m-> 1120\u001b[0m fig\u001b[38;5;241m.\u001b[39mcanvas\u001b[38;5;241m.\u001b[39mdraw_idle()  \u001b[38;5;66;03m# Need this if 'transparent=True', to reset colors.\u001b[39;00m\n\u001b[0;32m   1121\u001b[0m \u001b[38;5;28;01mreturn\u001b[39;00m res\n",
      "File \u001b[1;32mc:\\Users\\Client\\anaconda3\\Nouveau dossier\\Lib\\site-packages\\matplotlib\\backend_bases.py:1893\u001b[0m, in \u001b[0;36mFigureCanvasBase.draw_idle\u001b[1;34m(self, *args, **kwargs)\u001b[0m\n\u001b[0;32m   1891\u001b[0m \u001b[38;5;28;01mif\u001b[39;00m \u001b[38;5;129;01mnot\u001b[39;00m \u001b[38;5;28mself\u001b[39m\u001b[38;5;241m.\u001b[39m_is_idle_drawing:\n\u001b[0;32m   1892\u001b[0m     \u001b[38;5;28;01mwith\u001b[39;00m \u001b[38;5;28mself\u001b[39m\u001b[38;5;241m.\u001b[39m_idle_draw_cntx():\n\u001b[1;32m-> 1893\u001b[0m         \u001b[38;5;28mself\u001b[39m\u001b[38;5;241m.\u001b[39mdraw(\u001b[38;5;241m*\u001b[39margs, \u001b[38;5;241m*\u001b[39m\u001b[38;5;241m*\u001b[39mkwargs)\n",
      "File \u001b[1;32mc:\\Users\\Client\\anaconda3\\Nouveau dossier\\Lib\\site-packages\\matplotlib\\backends\\backend_agg.py:388\u001b[0m, in \u001b[0;36mFigureCanvasAgg.draw\u001b[1;34m(self)\u001b[0m\n\u001b[0;32m    385\u001b[0m \u001b[38;5;66;03m# Acquire a lock on the shared font cache.\u001b[39;00m\n\u001b[0;32m    386\u001b[0m \u001b[38;5;28;01mwith\u001b[39;00m (\u001b[38;5;28mself\u001b[39m\u001b[38;5;241m.\u001b[39mtoolbar\u001b[38;5;241m.\u001b[39m_wait_cursor_for_draw_cm() \u001b[38;5;28;01mif\u001b[39;00m \u001b[38;5;28mself\u001b[39m\u001b[38;5;241m.\u001b[39mtoolbar\n\u001b[0;32m    387\u001b[0m       \u001b[38;5;28;01melse\u001b[39;00m nullcontext()):\n\u001b[1;32m--> 388\u001b[0m     \u001b[38;5;28mself\u001b[39m\u001b[38;5;241m.\u001b[39mfigure\u001b[38;5;241m.\u001b[39mdraw(\u001b[38;5;28mself\u001b[39m\u001b[38;5;241m.\u001b[39mrenderer)\n\u001b[0;32m    389\u001b[0m     \u001b[38;5;66;03m# A GUI class may be need to update a window using this draw, so\u001b[39;00m\n\u001b[0;32m    390\u001b[0m     \u001b[38;5;66;03m# don't forget to call the superclass.\u001b[39;00m\n\u001b[0;32m    391\u001b[0m     \u001b[38;5;28msuper\u001b[39m()\u001b[38;5;241m.\u001b[39mdraw()\n",
      "File \u001b[1;32mc:\\Users\\Client\\anaconda3\\Nouveau dossier\\Lib\\site-packages\\matplotlib\\artist.py:95\u001b[0m, in \u001b[0;36m_finalize_rasterization.<locals>.draw_wrapper\u001b[1;34m(artist, renderer, *args, **kwargs)\u001b[0m\n\u001b[0;32m     93\u001b[0m \u001b[38;5;129m@wraps\u001b[39m(draw)\n\u001b[0;32m     94\u001b[0m \u001b[38;5;28;01mdef\u001b[39;00m \u001b[38;5;21mdraw_wrapper\u001b[39m(artist, renderer, \u001b[38;5;241m*\u001b[39margs, \u001b[38;5;241m*\u001b[39m\u001b[38;5;241m*\u001b[39mkwargs):\n\u001b[1;32m---> 95\u001b[0m     result \u001b[38;5;241m=\u001b[39m draw(artist, renderer, \u001b[38;5;241m*\u001b[39margs, \u001b[38;5;241m*\u001b[39m\u001b[38;5;241m*\u001b[39mkwargs)\n\u001b[0;32m     96\u001b[0m     \u001b[38;5;28;01mif\u001b[39;00m renderer\u001b[38;5;241m.\u001b[39m_rasterizing:\n\u001b[0;32m     97\u001b[0m         renderer\u001b[38;5;241m.\u001b[39mstop_rasterizing()\n",
      "File \u001b[1;32mc:\\Users\\Client\\anaconda3\\Nouveau dossier\\Lib\\site-packages\\matplotlib\\artist.py:72\u001b[0m, in \u001b[0;36mallow_rasterization.<locals>.draw_wrapper\u001b[1;34m(artist, renderer)\u001b[0m\n\u001b[0;32m     69\u001b[0m     \u001b[38;5;28;01mif\u001b[39;00m artist\u001b[38;5;241m.\u001b[39mget_agg_filter() \u001b[38;5;129;01mis\u001b[39;00m \u001b[38;5;129;01mnot\u001b[39;00m \u001b[38;5;28;01mNone\u001b[39;00m:\n\u001b[0;32m     70\u001b[0m         renderer\u001b[38;5;241m.\u001b[39mstart_filter()\n\u001b[1;32m---> 72\u001b[0m     \u001b[38;5;28;01mreturn\u001b[39;00m draw(artist, renderer)\n\u001b[0;32m     73\u001b[0m \u001b[38;5;28;01mfinally\u001b[39;00m:\n\u001b[0;32m     74\u001b[0m     \u001b[38;5;28;01mif\u001b[39;00m artist\u001b[38;5;241m.\u001b[39mget_agg_filter() \u001b[38;5;129;01mis\u001b[39;00m \u001b[38;5;129;01mnot\u001b[39;00m \u001b[38;5;28;01mNone\u001b[39;00m:\n",
      "File \u001b[1;32mc:\\Users\\Client\\anaconda3\\Nouveau dossier\\Lib\\site-packages\\matplotlib\\figure.py:3154\u001b[0m, in \u001b[0;36mFigure.draw\u001b[1;34m(self, renderer)\u001b[0m\n\u001b[0;32m   3151\u001b[0m         \u001b[38;5;66;03m# ValueError can occur when resizing a window.\u001b[39;00m\n\u001b[0;32m   3153\u001b[0m \u001b[38;5;28mself\u001b[39m\u001b[38;5;241m.\u001b[39mpatch\u001b[38;5;241m.\u001b[39mdraw(renderer)\n\u001b[1;32m-> 3154\u001b[0m mimage\u001b[38;5;241m.\u001b[39m_draw_list_compositing_images(\n\u001b[0;32m   3155\u001b[0m     renderer, \u001b[38;5;28mself\u001b[39m, artists, \u001b[38;5;28mself\u001b[39m\u001b[38;5;241m.\u001b[39msuppressComposite)\n\u001b[0;32m   3157\u001b[0m \u001b[38;5;28;01mfor\u001b[39;00m sfig \u001b[38;5;129;01min\u001b[39;00m \u001b[38;5;28mself\u001b[39m\u001b[38;5;241m.\u001b[39msubfigs:\n\u001b[0;32m   3158\u001b[0m     sfig\u001b[38;5;241m.\u001b[39mdraw(renderer)\n",
      "File \u001b[1;32mc:\\Users\\Client\\anaconda3\\Nouveau dossier\\Lib\\site-packages\\matplotlib\\image.py:132\u001b[0m, in \u001b[0;36m_draw_list_compositing_images\u001b[1;34m(renderer, parent, artists, suppress_composite)\u001b[0m\n\u001b[0;32m    130\u001b[0m \u001b[38;5;28;01mif\u001b[39;00m not_composite \u001b[38;5;129;01mor\u001b[39;00m \u001b[38;5;129;01mnot\u001b[39;00m has_images:\n\u001b[0;32m    131\u001b[0m     \u001b[38;5;28;01mfor\u001b[39;00m a \u001b[38;5;129;01min\u001b[39;00m artists:\n\u001b[1;32m--> 132\u001b[0m         a\u001b[38;5;241m.\u001b[39mdraw(renderer)\n\u001b[0;32m    133\u001b[0m \u001b[38;5;28;01melse\u001b[39;00m:\n\u001b[0;32m    134\u001b[0m     \u001b[38;5;66;03m# Composite any adjacent images together\u001b[39;00m\n\u001b[0;32m    135\u001b[0m     image_group \u001b[38;5;241m=\u001b[39m []\n",
      "File \u001b[1;32mc:\\Users\\Client\\anaconda3\\Nouveau dossier\\Lib\\site-packages\\matplotlib\\artist.py:72\u001b[0m, in \u001b[0;36mallow_rasterization.<locals>.draw_wrapper\u001b[1;34m(artist, renderer)\u001b[0m\n\u001b[0;32m     69\u001b[0m     \u001b[38;5;28;01mif\u001b[39;00m artist\u001b[38;5;241m.\u001b[39mget_agg_filter() \u001b[38;5;129;01mis\u001b[39;00m \u001b[38;5;129;01mnot\u001b[39;00m \u001b[38;5;28;01mNone\u001b[39;00m:\n\u001b[0;32m     70\u001b[0m         renderer\u001b[38;5;241m.\u001b[39mstart_filter()\n\u001b[1;32m---> 72\u001b[0m     \u001b[38;5;28;01mreturn\u001b[39;00m draw(artist, renderer)\n\u001b[0;32m     73\u001b[0m \u001b[38;5;28;01mfinally\u001b[39;00m:\n\u001b[0;32m     74\u001b[0m     \u001b[38;5;28;01mif\u001b[39;00m artist\u001b[38;5;241m.\u001b[39mget_agg_filter() \u001b[38;5;129;01mis\u001b[39;00m \u001b[38;5;129;01mnot\u001b[39;00m \u001b[38;5;28;01mNone\u001b[39;00m:\n",
      "File \u001b[1;32mc:\\Users\\Client\\anaconda3\\Nouveau dossier\\Lib\\site-packages\\matplotlib\\axes\\_base.py:3070\u001b[0m, in \u001b[0;36m_AxesBase.draw\u001b[1;34m(self, renderer)\u001b[0m\n\u001b[0;32m   3067\u001b[0m \u001b[38;5;28;01mif\u001b[39;00m artists_rasterized:\n\u001b[0;32m   3068\u001b[0m     _draw_rasterized(\u001b[38;5;28mself\u001b[39m\u001b[38;5;241m.\u001b[39mfigure, artists_rasterized, renderer)\n\u001b[1;32m-> 3070\u001b[0m mimage\u001b[38;5;241m.\u001b[39m_draw_list_compositing_images(\n\u001b[0;32m   3071\u001b[0m     renderer, \u001b[38;5;28mself\u001b[39m, artists, \u001b[38;5;28mself\u001b[39m\u001b[38;5;241m.\u001b[39mfigure\u001b[38;5;241m.\u001b[39msuppressComposite)\n\u001b[0;32m   3073\u001b[0m renderer\u001b[38;5;241m.\u001b[39mclose_group(\u001b[38;5;124m'\u001b[39m\u001b[38;5;124maxes\u001b[39m\u001b[38;5;124m'\u001b[39m)\n\u001b[0;32m   3074\u001b[0m \u001b[38;5;28mself\u001b[39m\u001b[38;5;241m.\u001b[39mstale \u001b[38;5;241m=\u001b[39m \u001b[38;5;28;01mFalse\u001b[39;00m\n",
      "File \u001b[1;32mc:\\Users\\Client\\anaconda3\\Nouveau dossier\\Lib\\site-packages\\matplotlib\\image.py:132\u001b[0m, in \u001b[0;36m_draw_list_compositing_images\u001b[1;34m(renderer, parent, artists, suppress_composite)\u001b[0m\n\u001b[0;32m    130\u001b[0m \u001b[38;5;28;01mif\u001b[39;00m not_composite \u001b[38;5;129;01mor\u001b[39;00m \u001b[38;5;129;01mnot\u001b[39;00m has_images:\n\u001b[0;32m    131\u001b[0m     \u001b[38;5;28;01mfor\u001b[39;00m a \u001b[38;5;129;01min\u001b[39;00m artists:\n\u001b[1;32m--> 132\u001b[0m         a\u001b[38;5;241m.\u001b[39mdraw(renderer)\n\u001b[0;32m    133\u001b[0m \u001b[38;5;28;01melse\u001b[39;00m:\n\u001b[0;32m    134\u001b[0m     \u001b[38;5;66;03m# Composite any adjacent images together\u001b[39;00m\n\u001b[0;32m    135\u001b[0m     image_group \u001b[38;5;241m=\u001b[39m []\n",
      "File \u001b[1;32mc:\\Users\\Client\\anaconda3\\Nouveau dossier\\Lib\\site-packages\\matplotlib\\artist.py:72\u001b[0m, in \u001b[0;36mallow_rasterization.<locals>.draw_wrapper\u001b[1;34m(artist, renderer)\u001b[0m\n\u001b[0;32m     69\u001b[0m     \u001b[38;5;28;01mif\u001b[39;00m artist\u001b[38;5;241m.\u001b[39mget_agg_filter() \u001b[38;5;129;01mis\u001b[39;00m \u001b[38;5;129;01mnot\u001b[39;00m \u001b[38;5;28;01mNone\u001b[39;00m:\n\u001b[0;32m     70\u001b[0m         renderer\u001b[38;5;241m.\u001b[39mstart_filter()\n\u001b[1;32m---> 72\u001b[0m     \u001b[38;5;28;01mreturn\u001b[39;00m draw(artist, renderer)\n\u001b[0;32m     73\u001b[0m \u001b[38;5;28;01mfinally\u001b[39;00m:\n\u001b[0;32m     74\u001b[0m     \u001b[38;5;28;01mif\u001b[39;00m artist\u001b[38;5;241m.\u001b[39mget_agg_filter() \u001b[38;5;129;01mis\u001b[39;00m \u001b[38;5;129;01mnot\u001b[39;00m \u001b[38;5;28;01mNone\u001b[39;00m:\n",
      "File \u001b[1;32mc:\\Users\\Client\\anaconda3\\Nouveau dossier\\Lib\\site-packages\\matplotlib\\legend.py:780\u001b[0m, in \u001b[0;36mLegend.draw\u001b[1;34m(self, renderer)\u001b[0m\n\u001b[0;32m    777\u001b[0m     Shadow(\u001b[38;5;28mself\u001b[39m\u001b[38;5;241m.\u001b[39mlegendPatch, \u001b[38;5;241m*\u001b[39m\u001b[38;5;241m*\u001b[39m\u001b[38;5;28mself\u001b[39m\u001b[38;5;241m.\u001b[39m_shadow_props)\u001b[38;5;241m.\u001b[39mdraw(renderer)\n\u001b[0;32m    779\u001b[0m \u001b[38;5;28mself\u001b[39m\u001b[38;5;241m.\u001b[39mlegendPatch\u001b[38;5;241m.\u001b[39mdraw(renderer)\n\u001b[1;32m--> 780\u001b[0m \u001b[38;5;28mself\u001b[39m\u001b[38;5;241m.\u001b[39m_legend_box\u001b[38;5;241m.\u001b[39mdraw(renderer)\n\u001b[0;32m    782\u001b[0m renderer\u001b[38;5;241m.\u001b[39mclose_group(\u001b[38;5;124m'\u001b[39m\u001b[38;5;124mlegend\u001b[39m\u001b[38;5;124m'\u001b[39m)\n\u001b[0;32m    783\u001b[0m \u001b[38;5;28mself\u001b[39m\u001b[38;5;241m.\u001b[39mstale \u001b[38;5;241m=\u001b[39m \u001b[38;5;28;01mFalse\u001b[39;00m\n",
      "File \u001b[1;32mc:\\Users\\Client\\anaconda3\\Nouveau dossier\\Lib\\site-packages\\matplotlib\\artist.py:39\u001b[0m, in \u001b[0;36m_prevent_rasterization.<locals>.draw_wrapper\u001b[1;34m(artist, renderer, *args, **kwargs)\u001b[0m\n\u001b[0;32m     36\u001b[0m     renderer\u001b[38;5;241m.\u001b[39mstop_rasterizing()\n\u001b[0;32m     37\u001b[0m     renderer\u001b[38;5;241m.\u001b[39m_rasterizing \u001b[38;5;241m=\u001b[39m \u001b[38;5;28;01mFalse\u001b[39;00m\n\u001b[1;32m---> 39\u001b[0m \u001b[38;5;28;01mreturn\u001b[39;00m draw(artist, renderer, \u001b[38;5;241m*\u001b[39margs, \u001b[38;5;241m*\u001b[39m\u001b[38;5;241m*\u001b[39mkwargs)\n",
      "File \u001b[1;32mc:\\Users\\Client\\anaconda3\\Nouveau dossier\\Lib\\site-packages\\matplotlib\\offsetbox.py:412\u001b[0m, in \u001b[0;36mOffsetBox.draw\u001b[1;34m(self, renderer)\u001b[0m\n\u001b[0;32m    407\u001b[0m \u001b[38;5;250m\u001b[39m\u001b[38;5;124;03m\"\"\"\u001b[39;00m\n\u001b[0;32m    408\u001b[0m \u001b[38;5;124;03mUpdate the location of children if necessary and draw them\u001b[39;00m\n\u001b[0;32m    409\u001b[0m \u001b[38;5;124;03mto the given *renderer*.\u001b[39;00m\n\u001b[0;32m    410\u001b[0m \u001b[38;5;124;03m\"\"\"\u001b[39;00m\n\u001b[0;32m    411\u001b[0m bbox, offsets \u001b[38;5;241m=\u001b[39m \u001b[38;5;28mself\u001b[39m\u001b[38;5;241m.\u001b[39m_get_bbox_and_child_offsets(renderer)\n\u001b[1;32m--> 412\u001b[0m px, py \u001b[38;5;241m=\u001b[39m \u001b[38;5;28mself\u001b[39m\u001b[38;5;241m.\u001b[39mget_offset(bbox, renderer)\n\u001b[0;32m    413\u001b[0m \u001b[38;5;28;01mfor\u001b[39;00m c, (ox, oy) \u001b[38;5;129;01min\u001b[39;00m \u001b[38;5;28mzip\u001b[39m(\u001b[38;5;28mself\u001b[39m\u001b[38;5;241m.\u001b[39mget_visible_children(), offsets):\n\u001b[0;32m    414\u001b[0m     c\u001b[38;5;241m.\u001b[39mset_offset((px \u001b[38;5;241m+\u001b[39m ox, py \u001b[38;5;241m+\u001b[39m oy))\n",
      "File \u001b[1;32mc:\\Users\\Client\\anaconda3\\Nouveau dossier\\Lib\\site-packages\\matplotlib\\offsetbox.py:60\u001b[0m, in \u001b[0;36m_compat_get_offset.<locals>.get_offset\u001b[1;34m(self, *args, **kwargs)\u001b[0m\n\u001b[0;32m     56\u001b[0m params \u001b[38;5;241m=\u001b[39m _api\u001b[38;5;241m.\u001b[39mselect_matching_signature(sigs, \u001b[38;5;28mself\u001b[39m, \u001b[38;5;241m*\u001b[39margs, \u001b[38;5;241m*\u001b[39m\u001b[38;5;241m*\u001b[39mkwargs)\n\u001b[0;32m     57\u001b[0m bbox \u001b[38;5;241m=\u001b[39m (params[\u001b[38;5;124m\"\u001b[39m\u001b[38;5;124mbbox\u001b[39m\u001b[38;5;124m\"\u001b[39m] \u001b[38;5;28;01mif\u001b[39;00m \u001b[38;5;124m\"\u001b[39m\u001b[38;5;124mbbox\u001b[39m\u001b[38;5;124m\"\u001b[39m \u001b[38;5;129;01min\u001b[39;00m params \u001b[38;5;28;01melse\u001b[39;00m\n\u001b[0;32m     58\u001b[0m         Bbox\u001b[38;5;241m.\u001b[39mfrom_bounds(\u001b[38;5;241m-\u001b[39mparams[\u001b[38;5;124m\"\u001b[39m\u001b[38;5;124mxdescent\u001b[39m\u001b[38;5;124m\"\u001b[39m], \u001b[38;5;241m-\u001b[39mparams[\u001b[38;5;124m\"\u001b[39m\u001b[38;5;124mydescent\u001b[39m\u001b[38;5;124m\"\u001b[39m],\n\u001b[0;32m     59\u001b[0m                          params[\u001b[38;5;124m\"\u001b[39m\u001b[38;5;124mwidth\u001b[39m\u001b[38;5;124m\"\u001b[39m], params[\u001b[38;5;124m\"\u001b[39m\u001b[38;5;124mheight\u001b[39m\u001b[38;5;124m\"\u001b[39m]))\n\u001b[1;32m---> 60\u001b[0m \u001b[38;5;28;01mreturn\u001b[39;00m meth(params[\u001b[38;5;124m\"\u001b[39m\u001b[38;5;124mself\u001b[39m\u001b[38;5;124m\"\u001b[39m], bbox, params[\u001b[38;5;124m\"\u001b[39m\u001b[38;5;124mrenderer\u001b[39m\u001b[38;5;124m\"\u001b[39m])\n",
      "File \u001b[1;32mc:\\Users\\Client\\anaconda3\\Nouveau dossier\\Lib\\site-packages\\matplotlib\\offsetbox.py:312\u001b[0m, in \u001b[0;36mOffsetBox.get_offset\u001b[1;34m(self, bbox, renderer)\u001b[0m\n\u001b[0;32m    297\u001b[0m \u001b[38;5;129m@_compat_get_offset\u001b[39m\n\u001b[0;32m    298\u001b[0m \u001b[38;5;28;01mdef\u001b[39;00m \u001b[38;5;21mget_offset\u001b[39m(\u001b[38;5;28mself\u001b[39m, bbox, renderer):\n\u001b[0;32m    299\u001b[0m \u001b[38;5;250m    \u001b[39m\u001b[38;5;124;03m\"\"\"\u001b[39;00m\n\u001b[0;32m    300\u001b[0m \u001b[38;5;124;03m    Return the offset as a tuple (x, y).\u001b[39;00m\n\u001b[0;32m    301\u001b[0m \n\u001b[1;32m   (...)\u001b[0m\n\u001b[0;32m    309\u001b[0m \u001b[38;5;124;03m    renderer : `.RendererBase` subclass\u001b[39;00m\n\u001b[0;32m    310\u001b[0m \u001b[38;5;124;03m    \"\"\"\u001b[39;00m\n\u001b[0;32m    311\u001b[0m     \u001b[38;5;28;01mreturn\u001b[39;00m (\n\u001b[1;32m--> 312\u001b[0m         \u001b[38;5;28mself\u001b[39m\u001b[38;5;241m.\u001b[39m_offset(bbox\u001b[38;5;241m.\u001b[39mwidth, bbox\u001b[38;5;241m.\u001b[39mheight, \u001b[38;5;241m-\u001b[39mbbox\u001b[38;5;241m.\u001b[39mx0, \u001b[38;5;241m-\u001b[39mbbox\u001b[38;5;241m.\u001b[39my0, renderer)\n\u001b[0;32m    313\u001b[0m         \u001b[38;5;28;01mif\u001b[39;00m \u001b[38;5;28mcallable\u001b[39m(\u001b[38;5;28mself\u001b[39m\u001b[38;5;241m.\u001b[39m_offset)\n\u001b[0;32m    314\u001b[0m         \u001b[38;5;28;01melse\u001b[39;00m \u001b[38;5;28mself\u001b[39m\u001b[38;5;241m.\u001b[39m_offset)\n",
      "File \u001b[1;32mc:\\Users\\Client\\anaconda3\\Nouveau dossier\\Lib\\site-packages\\matplotlib\\legend.py:738\u001b[0m, in \u001b[0;36mLegend._findoffset\u001b[1;34m(self, width, height, xdescent, ydescent, renderer)\u001b[0m\n\u001b[0;32m    735\u001b[0m \u001b[38;5;250m\u001b[39m\u001b[38;5;124;03m\"\"\"Helper function to locate the legend.\"\"\"\u001b[39;00m\n\u001b[0;32m    737\u001b[0m \u001b[38;5;28;01mif\u001b[39;00m \u001b[38;5;28mself\u001b[39m\u001b[38;5;241m.\u001b[39m_loc \u001b[38;5;241m==\u001b[39m \u001b[38;5;241m0\u001b[39m:  \u001b[38;5;66;03m# \"best\".\u001b[39;00m\n\u001b[1;32m--> 738\u001b[0m     x, y \u001b[38;5;241m=\u001b[39m \u001b[38;5;28mself\u001b[39m\u001b[38;5;241m.\u001b[39m_find_best_position(width, height, renderer)\n\u001b[0;32m    739\u001b[0m \u001b[38;5;28;01melif\u001b[39;00m \u001b[38;5;28mself\u001b[39m\u001b[38;5;241m.\u001b[39m_loc \u001b[38;5;129;01min\u001b[39;00m Legend\u001b[38;5;241m.\u001b[39mcodes\u001b[38;5;241m.\u001b[39mvalues():  \u001b[38;5;66;03m# Fixed location.\u001b[39;00m\n\u001b[0;32m    740\u001b[0m     bbox \u001b[38;5;241m=\u001b[39m Bbox\u001b[38;5;241m.\u001b[39mfrom_bounds(\u001b[38;5;241m0\u001b[39m, \u001b[38;5;241m0\u001b[39m, width, height)\n",
      "File \u001b[1;32mc:\\Users\\Client\\anaconda3\\Nouveau dossier\\Lib\\site-packages\\matplotlib\\legend.py:1188\u001b[0m, in \u001b[0;36mLegend._find_best_position\u001b[1;34m(self, width, height, renderer, consider)\u001b[0m\n\u001b[0;32m   1183\u001b[0m badness \u001b[38;5;241m=\u001b[39m \u001b[38;5;241m0\u001b[39m\n\u001b[0;32m   1184\u001b[0m \u001b[38;5;66;03m# XXX TODO: If markers are present, it would be good to take them\u001b[39;00m\n\u001b[0;32m   1185\u001b[0m \u001b[38;5;66;03m# into account when checking vertex overlaps in the next line.\u001b[39;00m\n\u001b[0;32m   1186\u001b[0m badness \u001b[38;5;241m=\u001b[39m (\u001b[38;5;28msum\u001b[39m(legendBox\u001b[38;5;241m.\u001b[39mcount_contains(line\u001b[38;5;241m.\u001b[39mvertices)\n\u001b[0;32m   1187\u001b[0m                \u001b[38;5;28;01mfor\u001b[39;00m line \u001b[38;5;129;01min\u001b[39;00m lines)\n\u001b[1;32m-> 1188\u001b[0m            \u001b[38;5;241m+\u001b[39m legendBox\u001b[38;5;241m.\u001b[39mcount_contains(offsets)\n\u001b[0;32m   1189\u001b[0m            \u001b[38;5;241m+\u001b[39m legendBox\u001b[38;5;241m.\u001b[39mcount_overlaps(bboxes)\n\u001b[0;32m   1190\u001b[0m            \u001b[38;5;241m+\u001b[39m \u001b[38;5;28msum\u001b[39m(line\u001b[38;5;241m.\u001b[39mintersects_bbox(legendBox, filled\u001b[38;5;241m=\u001b[39m\u001b[38;5;28;01mFalse\u001b[39;00m)\n\u001b[0;32m   1191\u001b[0m                  \u001b[38;5;28;01mfor\u001b[39;00m line \u001b[38;5;129;01min\u001b[39;00m lines))\n\u001b[0;32m   1192\u001b[0m \u001b[38;5;28;01mif\u001b[39;00m badness \u001b[38;5;241m==\u001b[39m \u001b[38;5;241m0\u001b[39m:\n\u001b[0;32m   1193\u001b[0m     \u001b[38;5;28;01mreturn\u001b[39;00m l, b\n",
      "File \u001b[1;32mc:\\Users\\Client\\anaconda3\\Nouveau dossier\\Lib\\site-packages\\matplotlib\\transforms.py:580\u001b[0m, in \u001b[0;36mBboxBase.count_contains\u001b[1;34m(self, vertices)\u001b[0m\n\u001b[0;32m    578\u001b[0m \u001b[38;5;28;01mif\u001b[39;00m \u001b[38;5;28mlen\u001b[39m(vertices) \u001b[38;5;241m==\u001b[39m \u001b[38;5;241m0\u001b[39m:\n\u001b[0;32m    579\u001b[0m     \u001b[38;5;28;01mreturn\u001b[39;00m \u001b[38;5;241m0\u001b[39m\n\u001b[1;32m--> 580\u001b[0m vertices \u001b[38;5;241m=\u001b[39m np\u001b[38;5;241m.\u001b[39masarray(vertices)\n\u001b[0;32m    581\u001b[0m \u001b[38;5;28;01mwith\u001b[39;00m np\u001b[38;5;241m.\u001b[39merrstate(invalid\u001b[38;5;241m=\u001b[39m\u001b[38;5;124m'\u001b[39m\u001b[38;5;124mignore\u001b[39m\u001b[38;5;124m'\u001b[39m):\n\u001b[0;32m    582\u001b[0m     \u001b[38;5;28;01mreturn\u001b[39;00m (((\u001b[38;5;28mself\u001b[39m\u001b[38;5;241m.\u001b[39mmin \u001b[38;5;241m<\u001b[39m vertices) \u001b[38;5;241m&\u001b[39m\n\u001b[0;32m    583\u001b[0m              (vertices \u001b[38;5;241m<\u001b[39m \u001b[38;5;28mself\u001b[39m\u001b[38;5;241m.\u001b[39mmax))\u001b[38;5;241m.\u001b[39mall(axis\u001b[38;5;241m=\u001b[39m\u001b[38;5;241m1\u001b[39m)\u001b[38;5;241m.\u001b[39msum())\n",
      "\u001b[1;31mKeyboardInterrupt\u001b[0m: "
     ]
    },
    {
     "name": "stderr",
     "output_type": "stream",
     "text": [
      "c:\\Users\\Client\\anaconda3\\Nouveau dossier\\Lib\\site-packages\\IPython\\core\\pylabtools.py:152: UserWarning: Creating legend with loc=\"best\" can be slow with large amounts of data.\n",
      "  fig.canvas.print_figure(bytes_io, **kw)\n"
     ]
    }
   ],
   "source": [
    "def scatter_plot_combinations(target, df, base_folder=\"scatter_combinations\"):\n",
    "    \"\"\"\n",
    "    Generates scatter plots for all possible combinations between the target variable,\n",
    "    one categorical variable, and one numerical variable.\n",
    "    Outputs:\n",
    "        - Scatter plots showing the relationship between target and numerical variable,\n",
    "        colored by the categories of the categorical variable.\n",
    "    \n",
    "    Parameters:\n",
    "        df (pd.DataFrame): The DataFrame to analyze.\n",
    "        target (str): The target variable for comparison.\n",
    "        base_folder (str): Directory to save the scatter plots.\n",
    "    \"\"\"\n",
    "    # Ensure the base folder exists\n",
    "    if not os.path.exists(base_folder):\n",
    "        os.makedirs(base_folder)\n",
    "    \n",
    "    # Select categorical and numeric columns\n",
    "    exclude_cols = {'id', 'customer_id', 'type_of_loan', 'name', 'ssn'}\n",
    "    categorical_cols = [col for col in df.select_dtypes(include=['object', 'category']).columns if col not in exclude_cols]\n",
    "    numeric_cols = df.select_dtypes(include=['number']).columns\n",
    "    \n",
    "    # Iterate through all combinations of categorical and numerical variables\n",
    "    for cat_col in categorical_cols:\n",
    "        if cat_col != target:  # Skip the target itself\n",
    "            for num_col in numeric_cols:\n",
    "                if num_col != target:  # Skip the target itself\n",
    "                    print(f\"\\nCreating Scatter Plot: Target={target}, Categorical={cat_col}, Numerical={num_col}\")\n",
    "                    \n",
    "                    # Plot\n",
    "                    plt.figure(figsize=(10, 6))\n",
    "                    sns.scatterplot(\n",
    "                        x=num_col, \n",
    "                        y=target, \n",
    "                        hue=cat_col, \n",
    "                        data=df, \n",
    "                        palette=\"viridis\", \n",
    "                        alpha=0.6\n",
    "                    )\n",
    "                    plt.title(f'{target} vs {num_col} by {cat_col}')\n",
    "                    plt.xlabel(num_col)\n",
    "                    plt.ylabel(target)\n",
    "                    plt.legend(title=cat_col)\n",
    "                    \n",
    "                    # Save plot\n",
    "                    plot_folder = os.path.join(base_folder, f\"{target}_vs_{num_col}_by_{cat_col}\")\n",
    "                    if not os.path.exists(plot_folder):\n",
    "                        os.makedirs(plot_folder)\n",
    "                    plot_path = os.path.join(plot_folder, f\"{target}_vs_{num_col}_by_{cat_col}.png\")\n",
    "                    plt.savefig(plot_path, bbox_inches='tight')\n",
    "                    plt.close()\n",
    "                    \n",
    "                    print(f\"Scatter Plot saved in: {plot_path}\")\n",
    "scatter_plot_combinations(target, df, base_folder=\"scatter_combinations\")"
   ]
  },
  {
   "cell_type": "markdown",
   "metadata": {},
   "source": [
    "### correlation matrix "
   ]
  },
  {
   "cell_type": "code",
   "execution_count": 17,
   "metadata": {},
   "outputs": [
    {
     "name": "stdout",
     "output_type": "stream",
     "text": [
      "age                         0\n",
      "annual_income               0\n",
      "monthly_inhand_salary       0\n",
      "num_bank_accounts           0\n",
      "num_credit_card             0\n",
      "interest_rate               0\n",
      "num_of_loan                 0\n",
      "delay_from_due_date         0\n",
      "num_of_delayed_payment      0\n",
      "changed_credit_limit        0\n",
      "num_credit_inquiries        0\n",
      "outstanding_debt            0\n",
      "credit_utilization_ratio    0\n",
      "credit_history_age          0\n",
      "total_emi_per_month         0\n",
      "amount_invested_monthly     0\n",
      "monthly_balance             0\n",
      "dtype: int64\n",
      "Correlation matrix with significance saved in: correlation_analysis\\correlation_matrix_significance.png\n"
     ]
    }
   ],
   "source": [
    "import os\n",
    "import numpy as np\n",
    "import pandas as pd\n",
    "import seaborn as sns\n",
    "import matplotlib.pyplot as plt\n",
    "from scipy.stats import pearsonr\n",
    "\n",
    "# Supprimer les lignes contenant des NaN ou des inf\n",
    "column_headers = df.columns.to_list()\n",
    "quantitative_columns = [col for col in column_headers if df[col].dtype in ['int64', 'float64']]\n",
    "\n",
    "# Nettoyage des valeurs infinies et manquantes\n",
    "cleaned_df = df[quantitative_columns].replace([np.inf, -np.inf], np.nan).dropna()\n",
    "\n",
    "# Vérifier si les valeurs infinies ou NaN ont disparu\n",
    "print(cleaned_df.isna().sum())  # Devrait afficher 0 partout\n",
    "\n",
    "def correlation_and_significance(numeric_df, base_folder=\"correlation_analysis\"):\n",
    "    \"\"\"\n",
    "    Generates a correlation matrix heatmap with significance markers.\n",
    "    \n",
    "    Parameters:\n",
    "        numeric_df (pd.DataFrame): The cleaned DataFrame with numerical variables.\n",
    "        base_folder (str): Directory to save the analysis images.\n",
    "    \"\"\"\n",
    "    # Assurer l'existence du dossier de sauvegarde\n",
    "    if not os.path.exists(base_folder):\n",
    "        os.makedirs(base_folder)\n",
    "    \n",
    "    cols = numeric_df.columns\n",
    "    \n",
    "    # Calculer la matrice de corrélation\n",
    "    corr_matrix = numeric_df.corr()\n",
    "    \n",
    "    # Initialiser la matrice des p-values\n",
    "    p_values = pd.DataFrame(np.ones((len(cols), len(cols))), columns=cols, index=cols)\n",
    "    \n",
    "    # Calculer les p-values pour chaque paire de variables\n",
    "    for row in cols:\n",
    "        for col in cols:\n",
    "            if row != col:\n",
    "                _, p_value = pearsonr(numeric_df[row], numeric_df[col])\n",
    "                p_values.loc[row, col] = p_value\n",
    "    \n",
    "    # --- Affichage de la matrice de corrélation avec significativité ---\n",
    "    plt.figure(figsize=(14, 12))\n",
    "    sns.heatmap(corr_matrix, annot=True, cmap='coolwarm', fmt='.2f', linewidths=0.5)\n",
    "\n",
    "    # Ajouter des marqueurs de significativité\n",
    "    for i in range(len(cols)):\n",
    "        for j in range(len(cols)):\n",
    "            if i != j:  # Ne pas marquer la diagonale\n",
    "                p_val = p_values.iloc[i, j]\n",
    "                x = j + 0.5\n",
    "                y = i + 0.5\n",
    "                \n",
    "                # Vert si significatif (p < 0.05), rouge sinon\n",
    "                color = 'green' if p_val < 0.05 else 'red'\n",
    "                plt.plot(x, y, 'o', color=color)\n",
    "    \n",
    "    plt.title('Correlation Matrix with Significance (Numerical Variables)', fontsize=18)\n",
    "    plt.xticks(rotation=45)\n",
    "    plt.yticks(rotation=0)\n",
    "    plt.tight_layout()\n",
    "    \n",
    "    # Sauvegarde de l'image\n",
    "    corr_plot_path = os.path.join(base_folder, \"correlation_matrix_significance.png\")\n",
    "    plt.savefig(corr_plot_path, bbox_inches='tight')\n",
    "    plt.close()\n",
    "    \n",
    "    print(f\"Correlation matrix with significance saved in: {corr_plot_path}\")\n",
    "\n",
    "# Exécuter la fonction avec les données nettoyées\n",
    "correlation_and_significance(cleaned_df, base_folder=\"correlation_analysis\")\n"
   ]
  },
  {
   "cell_type": "markdown",
   "metadata": {},
   "source": [
    "## Generale Analysis"
   ]
  },
  {
   "cell_type": "code",
   "execution_count": 27,
   "metadata": {},
   "outputs": [
    {
     "data": {
      "text/plain": [
       "Index(['id', 'customer_id', 'month', 'name', 'age', 'ssn', 'occupation',\n",
       "       'annual_income', 'monthly_inhand_salary', 'num_bank_accounts',\n",
       "       'num_credit_card', 'interest_rate', 'num_of_loan', 'type_of_loan',\n",
       "       'delay_from_due_date', 'num_of_delayed_payment', 'changed_credit_limit',\n",
       "       'num_credit_inquiries', 'credit_mix', 'outstanding_debt',\n",
       "       'credit_utilization_ratio', 'credit_history_age',\n",
       "       'payment_of_min_amount', 'total_emi_per_month',\n",
       "       'amount_invested_monthly', 'payment_behaviour', 'monthly_balance',\n",
       "       'credit_score'],\n",
       "      dtype='object')"
      ]
     },
     "execution_count": 27,
     "metadata": {},
     "output_type": "execute_result"
    }
   ],
   "source": [
    "df.columns"
   ]
  },
  {
   "cell_type": "markdown",
   "metadata": {},
   "source": [
    "#### 1. What is the average number of delayed payments per credit score category?"
   ]
  },
  {
   "cell_type": "code",
   "execution_count": 28,
   "metadata": {},
   "outputs": [
    {
     "name": "stderr",
     "output_type": "stream",
     "text": [
      "C:\\Users\\Client\\AppData\\Local\\Temp\\ipykernel_19700\\1606957603.py:1: FutureWarning: The default of observed=False is deprecated and will be changed to True in a future version of pandas. Pass observed=False to retain current behavior or observed=True to adopt the future default and silence this warning.\n",
      "  grouped_data = df.groupby(\"credit_score\")[\"num_of_delayed_payment\"].mean().reset_index()\n"
     ]
    },
    {
     "data": {
      "text/html": [
       "<div>\n",
       "<style scoped>\n",
       "    .dataframe tbody tr th:only-of-type {\n",
       "        vertical-align: middle;\n",
       "    }\n",
       "\n",
       "    .dataframe tbody tr th {\n",
       "        vertical-align: top;\n",
       "    }\n",
       "\n",
       "    .dataframe thead th {\n",
       "        text-align: right;\n",
       "    }\n",
       "</style>\n",
       "<table border=\"1\" class=\"dataframe\">\n",
       "  <thead>\n",
       "    <tr style=\"text-align: right;\">\n",
       "      <th></th>\n",
       "      <th>credit_score</th>\n",
       "      <th>num_of_delayed_payment</th>\n",
       "    </tr>\n",
       "  </thead>\n",
       "  <tbody>\n",
       "    <tr>\n",
       "      <th>0</th>\n",
       "      <td>Good</td>\n",
       "      <td>9.22947</td>\n",
       "    </tr>\n",
       "    <tr>\n",
       "      <th>1</th>\n",
       "      <td>Poor</td>\n",
       "      <td>15.74381</td>\n",
       "    </tr>\n",
       "    <tr>\n",
       "      <th>2</th>\n",
       "      <td>Standard</td>\n",
       "      <td>13.56017</td>\n",
       "    </tr>\n",
       "  </tbody>\n",
       "</table>\n",
       "</div>"
      ],
      "text/plain": [
       "  credit_score  num_of_delayed_payment\n",
       "0         Good                 9.22947\n",
       "1         Poor                15.74381\n",
       "2     Standard                13.56017"
      ]
     },
     "execution_count": 28,
     "metadata": {},
     "output_type": "execute_result"
    }
   ],
   "source": [
    "grouped_data = df.groupby(\"credit_score\")[\"num_of_delayed_payment\"].mean().reset_index()\n",
    "grouped_data"
   ]
  },
  {
   "cell_type": "code",
   "execution_count": 29,
   "metadata": {},
   "outputs": [
    {
     "data": {
      "image/png": "[encoded data removed]",
      "text/plain": [
       "<Figure size 800x500 with 1 Axes>"
      ]
     },
     "metadata": {},
     "output_type": "display_data"
    }
   ],
   "source": [
    "# Visualization\n",
    "plt.figure(figsize=(8,5))\n",
    "plt.bar(grouped_data[\"credit_score\"], grouped_data[\"num_of_delayed_payment\"], color='skyblue')\n",
    "plt.xlabel(\"Credit Score\")\n",
    "plt.ylabel(\"Average Delayed Payments\")\n",
    "plt.title(\"Average Delayed Payments per Credit Score Category\")\n",
    "plt.savefig(\"delayed_payments_credit_score.png\")\n",
    "plt.show()"
   ]
  },
  {
   "cell_type": "markdown",
   "metadata": {},
   "source": [
    "#### 2. What is the relationship between annual income and credit utilization ration\n"
   ]
  },
  {
   "cell_type": "code",
   "execution_count": 30,
   "metadata": {},
   "outputs": [
    {
     "name": "stderr",
     "output_type": "stream",
     "text": [
      "C:\\Users\\Client\\AppData\\Local\\Temp\\ipykernel_19700\\2616346777.py:1: FutureWarning: The default of observed=False is deprecated and will be changed to True in a future version of pandas. Pass observed=False to retain current behavior or observed=True to adopt the future default and silence this warning.\n",
      "  grouped_data = df.groupby(\"credit_score\")[[\"annual_income\", \"credit_utilization_ratio\"]].mean().reset_index()\n"
     ]
    },
    {
     "data": {
      "text/html": [
       "<div>\n",
       "<style scoped>\n",
       "    .dataframe tbody tr th:only-of-type {\n",
       "        vertical-align: middle;\n",
       "    }\n",
       "\n",
       "    .dataframe tbody tr th {\n",
       "        vertical-align: top;\n",
       "    }\n",
       "\n",
       "    .dataframe thead th {\n",
       "        text-align: right;\n",
       "    }\n",
       "</style>\n",
       "<table border=\"1\" class=\"dataframe\">\n",
       "  <thead>\n",
       "    <tr style=\"text-align: right;\">\n",
       "      <th></th>\n",
       "      <th>credit_score</th>\n",
       "      <th>annual_income</th>\n",
       "      <th>credit_utilization_ratio</th>\n",
       "    </tr>\n",
       "  </thead>\n",
       "  <tbody>\n",
       "    <tr>\n",
       "      <th>0</th>\n",
       "      <td>Good</td>\n",
       "      <td>58329.875717</td>\n",
       "      <td>32.685141</td>\n",
       "    </tr>\n",
       "    <tr>\n",
       "      <th>1</th>\n",
       "      <td>Poor</td>\n",
       "      <td>39140.576770</td>\n",
       "      <td>31.986146</td>\n",
       "    </tr>\n",
       "    <tr>\n",
       "      <th>2</th>\n",
       "      <td>Standard</td>\n",
       "      <td>48378.179078</td>\n",
       "      <td>32.296724</td>\n",
       "    </tr>\n",
       "  </tbody>\n",
       "</table>\n",
       "</div>"
      ],
      "text/plain": [
       "  credit_score  annual_income  credit_utilization_ratio\n",
       "0         Good   58329.875717                 32.685141\n",
       "1         Poor   39140.576770                 31.986146\n",
       "2     Standard   48378.179078                 32.296724"
      ]
     },
     "execution_count": 30,
     "metadata": {},
     "output_type": "execute_result"
    }
   ],
   "source": [
    "grouped_data = df.groupby(\"credit_score\")[[\"annual_income\", \"credit_utilization_ratio\"]].mean().reset_index()\n",
    "grouped_data"
   ]
  },
  {
   "cell_type": "code",
   "execution_count": 31,
   "metadata": {},
   "outputs": [
    {
     "data": {
      "image/png": "[encoded data removed]",
      "text/plain": [
       "<Figure size 800x500 with 1 Axes>"
      ]
     },
     "metadata": {},
     "output_type": "display_data"
    }
   ],
   "source": [
    "# Visualization\n",
    "plt.figure(figsize=(8,5))\n",
    "plt.scatter(df[\"annual_income\"], df[\"credit_utilization_ratio\"], alpha=0.5)\n",
    "plt.xlabel(\"Annual Income\")\n",
    "plt.ylabel(\"Credit Utilization Ratio\")\n",
    "plt.title(\"Annual Income vs Credit Utilization Ratio\")\n",
    "plt.savefig(\"income_vs_credit_utilization.png\")\n",
    "plt.show()"
   ]
  },
  {
   "cell_type": "markdown",
   "metadata": {},
   "source": [
    "#### 3. How does occupation affect the number of credit cards owned?"
   ]
  },
  {
   "cell_type": "code",
   "execution_count": 32,
   "metadata": {},
   "outputs": [
    {
     "name": "stderr",
     "output_type": "stream",
     "text": [
      "C:\\Users\\Client\\AppData\\Local\\Temp\\ipykernel_19700\\1869215637.py:1: FutureWarning: The default of observed=False is deprecated and will be changed to True in a future version of pandas. Pass observed=False to retain current behavior or observed=True to adopt the future default and silence this warning.\n",
      "  grouped_data = df.groupby(\"occupation\")[\"num_credit_card\"].mean().reset_index()\n"
     ]
    },
    {
     "data": {
      "text/html": [
       "<div>\n",
       "<style scoped>\n",
       "    .dataframe tbody tr th:only-of-type {\n",
       "        vertical-align: middle;\n",
       "    }\n",
       "\n",
       "    .dataframe tbody tr th {\n",
       "        vertical-align: top;\n",
       "    }\n",
       "\n",
       "    .dataframe thead th {\n",
       "        text-align: right;\n",
       "    }\n",
       "</style>\n",
       "<table border=\"1\" class=\"dataframe\">\n",
       "  <thead>\n",
       "    <tr style=\"text-align: right;\">\n",
       "      <th></th>\n",
       "      <th>occupation</th>\n",
       "      <th>num_credit_card</th>\n",
       "    </tr>\n",
       "  </thead>\n",
       "  <tbody>\n",
       "    <tr>\n",
       "      <th>0</th>\n",
       "      <td>Accountant</td>\n",
       "      <td>5.542748</td>\n",
       "    </tr>\n",
       "    <tr>\n",
       "      <th>1</th>\n",
       "      <td>Architect</td>\n",
       "      <td>5.441780</td>\n",
       "    </tr>\n",
       "    <tr>\n",
       "      <th>2</th>\n",
       "      <td>Developer</td>\n",
       "      <td>5.602281</td>\n",
       "    </tr>\n",
       "    <tr>\n",
       "      <th>3</th>\n",
       "      <td>Doctor</td>\n",
       "      <td>5.485078</td>\n",
       "    </tr>\n",
       "    <tr>\n",
       "      <th>4</th>\n",
       "      <td>Engineer</td>\n",
       "      <td>5.517883</td>\n",
       "    </tr>\n",
       "    <tr>\n",
       "      <th>5</th>\n",
       "      <td>Entrepreneur</td>\n",
       "      <td>5.561281</td>\n",
       "    </tr>\n",
       "    <tr>\n",
       "      <th>6</th>\n",
       "      <td>Journalist</td>\n",
       "      <td>5.567968</td>\n",
       "    </tr>\n",
       "    <tr>\n",
       "      <th>7</th>\n",
       "      <td>Lawyer</td>\n",
       "      <td>5.510467</td>\n",
       "    </tr>\n",
       "    <tr>\n",
       "      <th>8</th>\n",
       "      <td>Manager</td>\n",
       "      <td>5.469297</td>\n",
       "    </tr>\n",
       "    <tr>\n",
       "      <th>9</th>\n",
       "      <td>Mechanic</td>\n",
       "      <td>5.461360</td>\n",
       "    </tr>\n",
       "    <tr>\n",
       "      <th>10</th>\n",
       "      <td>Musician</td>\n",
       "      <td>5.492888</td>\n",
       "    </tr>\n",
       "    <tr>\n",
       "      <th>11</th>\n",
       "      <td>Scientist</td>\n",
       "      <td>5.492821</td>\n",
       "    </tr>\n",
       "    <tr>\n",
       "      <th>12</th>\n",
       "      <td>Teacher</td>\n",
       "      <td>5.603026</td>\n",
       "    </tr>\n",
       "    <tr>\n",
       "      <th>13</th>\n",
       "      <td>Writer</td>\n",
       "      <td>5.567589</td>\n",
       "    </tr>\n",
       "  </tbody>\n",
       "</table>\n",
       "</div>"
      ],
      "text/plain": [
       "      occupation  num_credit_card\n",
       "0     Accountant         5.542748\n",
       "1      Architect         5.441780\n",
       "2      Developer         5.602281\n",
       "3         Doctor         5.485078\n",
       "4       Engineer         5.517883\n",
       "5   Entrepreneur         5.561281\n",
       "6     Journalist         5.567968\n",
       "7         Lawyer         5.510467\n",
       "8        Manager         5.469297\n",
       "9       Mechanic         5.461360\n",
       "10      Musician         5.492888\n",
       "11     Scientist         5.492821\n",
       "12       Teacher         5.603026\n",
       "13        Writer         5.567589"
      ]
     },
     "execution_count": 32,
     "metadata": {},
     "output_type": "execute_result"
    }
   ],
   "source": [
    "grouped_data = df.groupby(\"occupation\")[\"num_credit_card\"].mean().reset_index()\n",
    "grouped_data"
   ]
  },
  {
   "cell_type": "code",
   "execution_count": 33,
   "metadata": {},
   "outputs": [
    {
     "data": {
      "image/png": "[encoded data removed]",
      "text/plain": [
       "<Figure size 1000x500 with 1 Axes>"
      ]
     },
     "metadata": {},
     "output_type": "display_data"
    }
   ],
   "source": [
    "# Visualization\n",
    "plt.figure(figsize=(10,5))\n",
    "plt.barh(grouped_data[\"occupation\"], grouped_data[\"num_credit_card\"], color='orange')\n",
    "plt.xlabel(\"Average Number of Credit Cards\")\n",
    "plt.ylabel(\"Occupation\")\n",
    "plt.title(\"Occupation vs Number of Credit Cards\")\n",
    "plt.savefig(\"occupation_vs_credit_cards.png\")\n",
    "plt.show()"
   ]
  },
  {
   "cell_type": "markdown",
   "metadata": {},
   "source": [
    "#### 4. What factors contribute most to a high outstanding debt?"
   ]
  },
  {
   "cell_type": "code",
   "execution_count": 34,
   "metadata": {},
   "outputs": [
    {
     "data": {
      "text/html": [
       "<div>\n",
       "<style scoped>\n",
       "    .dataframe tbody tr th:only-of-type {\n",
       "        vertical-align: middle;\n",
       "    }\n",
       "\n",
       "    .dataframe tbody tr th {\n",
       "        vertical-align: top;\n",
       "    }\n",
       "\n",
       "    .dataframe thead th {\n",
       "        text-align: right;\n",
       "    }\n",
       "</style>\n",
       "<table border=\"1\" class=\"dataframe\">\n",
       "  <thead>\n",
       "    <tr style=\"text-align: right;\">\n",
       "      <th></th>\n",
       "      <th>outstanding_debt</th>\n",
       "      <th>annual_income</th>\n",
       "      <th>num_credit_card</th>\n",
       "      <th>total_emi_per_month</th>\n",
       "      <th>credit_utilization_ratio</th>\n",
       "    </tr>\n",
       "  </thead>\n",
       "  <tbody>\n",
       "    <tr>\n",
       "      <th>outstanding_debt</th>\n",
       "      <td>1.000000</td>\n",
       "      <td>-0.237411</td>\n",
       "      <td>0.433479</td>\n",
       "      <td>0.133504</td>\n",
       "      <td>-0.069900</td>\n",
       "    </tr>\n",
       "    <tr>\n",
       "      <th>annual_income</th>\n",
       "      <td>-0.237411</td>\n",
       "      <td>1.000000</td>\n",
       "      <td>-0.192994</td>\n",
       "      <td>0.396645</td>\n",
       "      <td>0.141484</td>\n",
       "    </tr>\n",
       "    <tr>\n",
       "      <th>num_credit_card</th>\n",
       "      <td>0.433479</td>\n",
       "      <td>-0.192994</td>\n",
       "      <td>1.000000</td>\n",
       "      <td>0.100902</td>\n",
       "      <td>-0.055385</td>\n",
       "    </tr>\n",
       "    <tr>\n",
       "      <th>total_emi_per_month</th>\n",
       "      <td>0.133504</td>\n",
       "      <td>0.396645</td>\n",
       "      <td>0.100902</td>\n",
       "      <td>1.000000</td>\n",
       "      <td>0.009846</td>\n",
       "    </tr>\n",
       "    <tr>\n",
       "      <th>credit_utilization_ratio</th>\n",
       "      <td>-0.069900</td>\n",
       "      <td>0.141484</td>\n",
       "      <td>-0.055385</td>\n",
       "      <td>0.009846</td>\n",
       "      <td>1.000000</td>\n",
       "    </tr>\n",
       "  </tbody>\n",
       "</table>\n",
       "</div>"
      ],
      "text/plain": [
       "                          outstanding_debt  annual_income  num_credit_card  \\\n",
       "outstanding_debt                  1.000000      -0.237411         0.433479   \n",
       "annual_income                    -0.237411       1.000000        -0.192994   \n",
       "num_credit_card                   0.433479      -0.192994         1.000000   \n",
       "total_emi_per_month               0.133504       0.396645         0.100902   \n",
       "credit_utilization_ratio         -0.069900       0.141484        -0.055385   \n",
       "\n",
       "                          total_emi_per_month  credit_utilization_ratio  \n",
       "outstanding_debt                     0.133504                 -0.069900  \n",
       "annual_income                        0.396645                  0.141484  \n",
       "num_credit_card                      0.100902                 -0.055385  \n",
       "total_emi_per_month                  1.000000                  0.009846  \n",
       "credit_utilization_ratio             0.009846                  1.000000  "
      ]
     },
     "execution_count": 34,
     "metadata": {},
     "output_type": "execute_result"
    }
   ],
   "source": [
    "correlation_matrix = df[[\"outstanding_debt\", \"annual_income\", \"num_credit_card\", \"total_emi_per_month\", \"credit_utilization_ratio\"]].corr()\n",
    "correlation_matrix"
   ]
  },
  {
   "cell_type": "markdown",
   "metadata": {},
   "source": [
    "#### 5. What is the impact of credit history age on credit score?"
   ]
  },
  {
   "cell_type": "code",
   "execution_count": 35,
   "metadata": {},
   "outputs": [
    {
     "name": "stderr",
     "output_type": "stream",
     "text": [
      "C:\\Users\\Client\\AppData\\Local\\Temp\\ipykernel_19700\\3092509104.py:1: FutureWarning: The default of observed=False is deprecated and will be changed to True in a future version of pandas. Pass observed=False to retain current behavior or observed=True to adopt the future default and silence this warning.\n",
      "  grouped_data = df.groupby(\"credit_score\")[\"credit_history_age\"].mean().reset_index()\n"
     ]
    },
    {
     "data": {
      "text/html": [
       "<div>\n",
       "<style scoped>\n",
       "    .dataframe tbody tr th:only-of-type {\n",
       "        vertical-align: middle;\n",
       "    }\n",
       "\n",
       "    .dataframe tbody tr th {\n",
       "        vertical-align: top;\n",
       "    }\n",
       "\n",
       "    .dataframe thead th {\n",
       "        text-align: right;\n",
       "    }\n",
       "</style>\n",
       "<table border=\"1\" class=\"dataframe\">\n",
       "  <thead>\n",
       "    <tr style=\"text-align: right;\">\n",
       "      <th></th>\n",
       "      <th>credit_score</th>\n",
       "      <th>credit_history_age</th>\n",
       "    </tr>\n",
       "  </thead>\n",
       "  <tbody>\n",
       "    <tr>\n",
       "      <th>0</th>\n",
       "      <td>Good</td>\n",
       "      <td>26.0</td>\n",
       "    </tr>\n",
       "    <tr>\n",
       "      <th>1</th>\n",
       "      <td>Poor</td>\n",
       "      <td>26.0</td>\n",
       "    </tr>\n",
       "    <tr>\n",
       "      <th>2</th>\n",
       "      <td>Standard</td>\n",
       "      <td>26.0</td>\n",
       "    </tr>\n",
       "  </tbody>\n",
       "</table>\n",
       "</div>"
      ],
      "text/plain": [
       "  credit_score  credit_history_age\n",
       "0         Good                26.0\n",
       "1         Poor                26.0\n",
       "2     Standard                26.0"
      ]
     },
     "execution_count": 35,
     "metadata": {},
     "output_type": "execute_result"
    }
   ],
   "source": [
    "grouped_data = df.groupby(\"credit_score\")[\"credit_history_age\"].mean().reset_index()\n",
    "grouped_data"
   ]
  },
  {
   "cell_type": "code",
   "execution_count": 36,
   "metadata": {},
   "outputs": [
    {
     "data": {
      "image/png": "[encoded data removed]",
      "text/plain": [
       "<Figure size 800x500 with 1 Axes>"
      ]
     },
     "metadata": {},
     "output_type": "display_data"
    }
   ],
   "source": [
    "# Visualization\n",
    "plt.figure(figsize=(8,5))\n",
    "plt.bar(grouped_data[\"credit_score\"], grouped_data[\"credit_history_age\"], color='green')\n",
    "plt.xlabel(\"Credit Score\")\n",
    "plt.ylabel(\"Average Credit History Age\")\n",
    "plt.title(\"Credit History Age vs Credit Score\")\n",
    "plt.savefig(\"credit_history_vs_credit_score.png\")\n",
    "plt.show()"
   ]
  },
  {
   "cell_type": "markdown",
   "metadata": {},
   "source": [
    "#### 6. Does having multiple bank accounts affect monthly balance?"
   ]
  },
  {
   "cell_type": "code",
   "execution_count": 37,
   "metadata": {},
   "outputs": [
    {
     "data": {
      "text/html": [
       "<div>\n",
       "<style scoped>\n",
       "    .dataframe tbody tr th:only-of-type {\n",
       "        vertical-align: middle;\n",
       "    }\n",
       "\n",
       "    .dataframe tbody tr th {\n",
       "        vertical-align: top;\n",
       "    }\n",
       "\n",
       "    .dataframe thead th {\n",
       "        text-align: right;\n",
       "    }\n",
       "</style>\n",
       "<table border=\"1\" class=\"dataframe\">\n",
       "  <thead>\n",
       "    <tr style=\"text-align: right;\">\n",
       "      <th></th>\n",
       "      <th>num_bank_accounts</th>\n",
       "      <th>monthly_balance</th>\n",
       "    </tr>\n",
       "  </thead>\n",
       "  <tbody>\n",
       "    <tr>\n",
       "      <th>0</th>\n",
       "      <td>0</td>\n",
       "      <td>397.482266</td>\n",
       "    </tr>\n",
       "    <tr>\n",
       "      <th>1</th>\n",
       "      <td>1</td>\n",
       "      <td>391.479463</td>\n",
       "    </tr>\n",
       "    <tr>\n",
       "      <th>2</th>\n",
       "      <td>2</td>\n",
       "      <td>396.255426</td>\n",
       "    </tr>\n",
       "    <tr>\n",
       "      <th>3</th>\n",
       "      <td>3</td>\n",
       "      <td>381.892709</td>\n",
       "    </tr>\n",
       "    <tr>\n",
       "      <th>4</th>\n",
       "      <td>4</td>\n",
       "      <td>379.297454</td>\n",
       "    </tr>\n",
       "    <tr>\n",
       "      <th>5</th>\n",
       "      <td>5</td>\n",
       "      <td>373.122709</td>\n",
       "    </tr>\n",
       "    <tr>\n",
       "      <th>6</th>\n",
       "      <td>6</td>\n",
       "      <td>333.730520</td>\n",
       "    </tr>\n",
       "    <tr>\n",
       "      <th>7</th>\n",
       "      <td>7</td>\n",
       "      <td>333.020761</td>\n",
       "    </tr>\n",
       "    <tr>\n",
       "      <th>8</th>\n",
       "      <td>8</td>\n",
       "      <td>335.728512</td>\n",
       "    </tr>\n",
       "    <tr>\n",
       "      <th>9</th>\n",
       "      <td>9</td>\n",
       "      <td>293.026128</td>\n",
       "    </tr>\n",
       "    <tr>\n",
       "      <th>10</th>\n",
       "      <td>10</td>\n",
       "      <td>283.964596</td>\n",
       "    </tr>\n",
       "    <tr>\n",
       "      <th>11</th>\n",
       "      <td>11</td>\n",
       "      <td>310.008574</td>\n",
       "    </tr>\n",
       "  </tbody>\n",
       "</table>\n",
       "</div>"
      ],
      "text/plain": [
       "    num_bank_accounts  monthly_balance\n",
       "0                   0       397.482266\n",
       "1                   1       391.479463\n",
       "2                   2       396.255426\n",
       "3                   3       381.892709\n",
       "4                   4       379.297454\n",
       "5                   5       373.122709\n",
       "6                   6       333.730520\n",
       "7                   7       333.020761\n",
       "8                   8       335.728512\n",
       "9                   9       293.026128\n",
       "10                 10       283.964596\n",
       "11                 11       310.008574"
      ]
     },
     "execution_count": 37,
     "metadata": {},
     "output_type": "execute_result"
    }
   ],
   "source": [
    "grouped_data = df.groupby(\"num_bank_accounts\")[\"monthly_balance\"].mean().reset_index()\n",
    "grouped_data"
   ]
  },
  {
   "cell_type": "code",
   "execution_count": 38,
   "metadata": {},
   "outputs": [
    {
     "data": {
      "image/png": "[encoded data removed]",
      "text/plain": [
       "<Figure size 800x500 with 1 Axes>"
      ]
     },
     "metadata": {},
     "output_type": "display_data"
    }
   ],
   "source": [
    "# Visualization\n",
    "plt.figure(figsize=(8,5))\n",
    "plt.plot(grouped_data[\"num_bank_accounts\"], grouped_data[\"monthly_balance\"], marker='o', linestyle='-')\n",
    "plt.xlabel(\"Number of Bank Accounts\")\n",
    "plt.ylabel(\"Average Monthly Balance\")\n",
    "plt.title(\"Impact of Bank Accounts on Monthly Balance\")\n",
    "plt.savefig(\"bank_accounts_vs_balance.png\")\n",
    "plt.show()"
   ]
  },
  {
   "cell_type": "markdown",
   "metadata": {},
   "source": [
    "## feature eng "
   ]
  },
  {
   "cell_type": "markdown",
   "metadata": {},
   "source": [
    "#### sss"
   ]
  },
  {
   "cell_type": "code",
   "execution_count": 39,
   "metadata": {},
   "outputs": [
    {
     "data": {
      "text/plain": [
       "credit_score\n",
       "Standard    103174\n",
       "Poor         28998\n",
       "Good         17828\n",
       "Name: count, dtype: int64"
      ]
     },
     "execution_count": 39,
     "metadata": {},
     "output_type": "execute_result"
    }
   ],
   "source": [
    "df[\"credit_score\"].value_counts()"
   ]
  },
  {
   "cell_type": "code",
   "execution_count": 40,
   "metadata": {},
   "outputs": [
    {
     "data": {
      "text/plain": [
       "credit_score_encoded\n",
       "1    103174\n",
       "0     28998\n",
       "2     17828\n",
       "Name: count, dtype: int64"
      ]
     },
     "execution_count": 40,
     "metadata": {},
     "output_type": "execute_result"
    }
   ],
   "source": [
    "# Mapping avec lambda\n",
    "df[\"credit_score_encoded\"] = df[\"credit_score\"].apply(lambda x: 0 if x == \"Poor\" else (1 if x == \"Standard\" else 2))\n",
    "\n",
    "df[\"credit_score_encoded\"].value_counts()"
   ]
  },
  {
   "cell_type": "code",
   "execution_count": 41,
   "metadata": {},
   "outputs": [],
   "source": [
    "df[\"cos_credit_score\"] = np.cos(df[\"credit_score_encoded\"].astype(float))\n",
    "df[\"sin_credit_score\"] = np.sin(df[\"credit_score_encoded\"].astype(float))\n",
    "df[\"Mean_credit_score\"] = df[\"credit_score_encoded\"].astype(float).mean()\n",
    "df[\"Max_credit_score\"] = df[\"credit_score_encoded\"].astype(float).max()\n",
    "df[\"Min_credit_score\"] = df[\"credit_score_encoded\"].astype(float).min()\n",
    "df[\"Std_credit_score\"] = df[\"credit_score_encoded\"].astype(float).std()\n"
   ]
  },
  {
   "cell_type": "markdown",
   "metadata": {},
   "source": [
    "#### Financial Stability Features"
   ]
  },
  {
   "cell_type": "code",
   "execution_count": 55,
   "metadata": {},
   "outputs": [],
   "source": [
    "# Debt-to-Income Ratio\n",
    "df['debt_to_income'] = df['outstanding_debt'] / df['annual_income']\n",
    "\n",
    "# Savings Ratio\n",
    "df['savings_ratio'] = (df['monthly_inhand_salary'] - df['total_emi_per_month'] - df['amount_invested_monthly']) / df['monthly_inhand_salary']\n",
    "\n",
    "# EMI Burden\n",
    "df['emi_burden'] = df['total_emi_per_month'] / df['monthly_inhand_salary']"
   ]
  },
  {
   "cell_type": "markdown",
   "metadata": {},
   "source": [
    "#### Credit Behavior Features"
   ]
  },
  {
   "cell_type": "code",
   "execution_count": 56,
   "metadata": {},
   "outputs": [],
   "source": [
    "# Payment Delay Trend (assuming you have historical monthly data)\n",
    "df['payment_delay_trend'] = df.groupby('customer_id')['delay_from_due_date'].transform(lambda x: x.diff().mean())\n",
    "\n",
    "# Credit Utilization Buckets\n",
    "df['credit_utilization_category'] = pd.cut(df['credit_utilization_ratio'],\n",
    "                                        bins=[0, 0.3, 0.7, 1, float('inf')],\n",
    "                                        labels=['low', 'medium', 'high', 'very_high'])\n",
    "\n",
    "# Credit Limit Change Frequency\n",
    "df['credit_limit_change_freq'] = df.groupby('customer_id')['changed_credit_limit'].transform('count') / df.groupby('customer_id')['month'].transform('nunique')"
   ]
  },
  {
   "cell_type": "markdown",
   "metadata": {},
   "source": [
    "#### Loan and Account Features"
   ]
  },
  {
   "cell_type": "code",
   "execution_count": 61,
   "metadata": {},
   "outputs": [],
   "source": [
    "# Loan-to-Credit Ratio\n",
    "df['loan_to_credit_ratio'] = df['num_of_loan'] / (df['num_bank_accounts'] + df['num_credit_card'] + 1)\n",
    "\n",
    "# Average Interest Rate Across Products\n",
    "df['avg_interest_rate'] = (df['interest_rate'] * df['num_of_loan'] + \n",
    "                          df['num_credit_card'] * 15) / (df['num_of_loan'] + df['num_credit_card'] + 1e-6)"
   ]
  },
  {
   "cell_type": "markdown",
   "metadata": {},
   "source": [
    "#### Temporal Features"
   ]
  },
  {
   "cell_type": "code",
   "execution_count": 65,
   "metadata": {},
   "outputs": [],
   "source": [
    "# Définir les bornes et les labels\n",
    "bins = [0, 18, 30, 40, 50, 60, 70, 80, 100]  # Intervalles\n",
    "labels = ['0-18', '19-30', '31-40', '41-50', '51-60', '61-70', '71-80', '81-100']  # Catégories\n",
    "\n",
    "# Appliquer le découpage\n",
    "df['age_category'] = pd.cut(df['age'], bins=bins, labels=labels, right=True)\n"
   ]
  },
  {
   "cell_type": "markdown",
   "metadata": {},
   "source": [
    "####  Behavioral Features"
   ]
  },
  {
   "cell_type": "code",
   "execution_count": 66,
   "metadata": {},
   "outputs": [],
   "source": [
    "payment_behavior_map = {\n",
    "    'Low_spent_Small_value_payments': 0,\n",
    "    'High_spent_Medium_value_payments': 1,\n",
    "    'Low_spent_Medium_value_payments': 2,\n",
    "    'High_spent_Large_value_payments': 3,\n",
    "    'High_spent_Small_value_payments': 4,\n",
    "    'Low_spent_Large_value_payments': 5\n",
    "}\n",
    "\n",
    "# Appliquer l'encodage avec gestion des valeurs inconnues\n",
    "df['payment_behaviour_encoded'] = df['payment_behaviour'].astype(str).map(payment_behavior_map)\n",
    "\n",
    "# Remplacer les valeurs inconnues par 'other' (ou une autre valeur par défaut)\n",
    "df['payment_behaviour_encoded'] = df['payment_behaviour_encoded'].fillna(6).astype(int)\n"
   ]
  },
  {
   "cell_type": "code",
   "execution_count": 67,
   "metadata": {},
   "outputs": [
    {
     "data": {
      "text/plain": [
       "id                             0\n",
       "customer_id                    0\n",
       "month                          0\n",
       "name                           0\n",
       "age                            0\n",
       "ssn                            0\n",
       "occupation                     0\n",
       "annual_income                  0\n",
       "monthly_inhand_salary          0\n",
       "num_bank_accounts              0\n",
       "num_credit_card                0\n",
       "interest_rate                  0\n",
       "num_of_loan                    0\n",
       "type_of_loan                   0\n",
       "delay_from_due_date            0\n",
       "num_of_delayed_payment         0\n",
       "changed_credit_limit           0\n",
       "num_credit_inquiries           0\n",
       "credit_mix                     0\n",
       "outstanding_debt               0\n",
       "credit_utilization_ratio       0\n",
       "credit_history_age             0\n",
       "payment_of_min_amount          0\n",
       "total_emi_per_month            0\n",
       "amount_invested_monthly        0\n",
       "payment_behaviour              0\n",
       "monthly_balance                0\n",
       "credit_score                   0\n",
       "credit_score_encoded           0\n",
       "cos_credit_score               0\n",
       "sin_credit_score               0\n",
       "Mean_credit_score              0\n",
       "Max_credit_score               0\n",
       "Min_credit_score               0\n",
       "Std_credit_score               0\n",
       "debt_to_income                 0\n",
       "savings_ratio                  0\n",
       "emi_burden                     0\n",
       "payment_delay_trend            0\n",
       "credit_utilization_category    0\n",
       "credit_limit_change_freq       0\n",
       "loan_to_credit_ratio           0\n",
       "avg_interest_rate              0\n",
       "age_category                   0\n",
       "payment_behaviour_encoded      0\n",
       "dtype: int64"
      ]
     },
     "execution_count": 67,
     "metadata": {},
     "output_type": "execute_result"
    }
   ],
   "source": [
    "df.isna().sum()"
   ]
  },
  {
   "cell_type": "markdown",
   "metadata": {},
   "source": [
    "#### Risk Indicators"
   ]
  },
  {
   "cell_type": "code",
   "execution_count": 68,
   "metadata": {},
   "outputs": [],
   "source": [
    "# Delinquency Score\n",
    "df['delinquency_score'] = (df['num_of_delayed_payment'] * 0.4 + \n",
    "                          df['delay_from_due_date'] * 0.3 + \n",
    "                          (df['credit_mix'] == 'Bad') * 0.3)\n",
    "\n",
    "# Credit Inquiry Intensity\n",
    "df['inquiry_intensity'] = df['num_credit_inquiries'] / df.groupby('customer_id')['month'].transform('nunique')"
   ]
  },
  {
   "cell_type": "markdown",
   "metadata": {},
   "source": [
    "## model "
   ]
  },
  {
   "cell_type": "markdown",
   "metadata": {},
   "source": [
    "### encode"
   ]
  },
  {
   "cell_type": "code",
   "execution_count": 69,
   "metadata": {},
   "outputs": [
    {
     "name": "stdout",
     "output_type": "stream",
     "text": [
      "14 \n",
      " ['id', 'customer_id', 'month', 'name', 'ssn', 'occupation', 'type_of_loan', 'credit_mix', 'payment_of_min_amount', 'payment_behaviour', 'credit_score', 'credit_score_encoded', 'credit_utilization_category', 'age_category']\n"
     ]
    }
   ],
   "source": [
    "def get_object_columns(df):\n",
    "    \"\"\"\n",
    "    Returns a list of column names with 'object' data type in a DataFrame.\n",
    "    \n",
    "    Parameters:\n",
    "        df (pd.DataFrame): The DataFrame to analyze.\n",
    "    \n",
    "    Returns:\n",
    "        list: List of column names with 'object' type.\n",
    "    \"\"\"\n",
    "    return df.select_dtypes(include=['category','object']).columns.tolist()\n",
    "\n",
    "# ----- Example Usage -----\n",
    "# df = pd.read_csv('your_file.csv')\n",
    "object_columns = get_object_columns(df)\n",
    "print(len(object_columns), \"\\n\", object_columns)"
   ]
  },
  {
   "cell_type": "code",
   "execution_count": 70,
   "metadata": {},
   "outputs": [],
   "source": [
    "df.set_index(['id', 'customer_id', 'name', 'ssn','type_of_loan'], inplace=True)"
   ]
  },
  {
   "cell_type": "code",
   "execution_count": 71,
   "metadata": {},
   "outputs": [
    {
     "name": "stdout",
     "output_type": "stream",
     "text": [
      "[WARNING] Column 'id' not found in DataFrame.\n",
      "[WARNING] Column 'customer_id' not found in DataFrame.\n",
      "\n",
      "[INFO] Label Encoding for 'month': {'April': 0, 'August': 1, 'December': 2, 'February': 3, 'January': 4, 'July': 5, 'June': 6, 'March': 7, 'May': 8, 'November': 9, 'October': 10, 'September': 11}\n",
      "[WARNING] Column 'name' not found in DataFrame.\n",
      "[WARNING] Column 'ssn' not found in DataFrame.\n",
      "\n",
      "[INFO] Label Encoding for 'occupation': {'Accountant': 0, 'Architect': 1, 'Developer': 2, 'Doctor': 3, 'Engineer': 4, 'Entrepreneur': 5, 'Journalist': 6, 'Lawyer': 7, 'Manager': 8, 'Mechanic': 9, 'Musician': 10, 'Scientist': 11, 'Teacher': 12, 'Writer': 13}\n",
      "[WARNING] Column 'type_of_loan' not found in DataFrame.\n",
      "\n",
      "[INFO] Label Encoding for 'credit_mix': {'Bad': 0, 'Good': 1, 'Standard': 2, '_': 3}\n",
      "\n",
      "[INFO] Label Encoding for 'payment_of_min_amount': {'NM': 0, 'No': 1, 'Yes': 2}\n",
      "\n",
      "[INFO] Label Encoding for 'payment_behaviour': {'!@9#%8': 0, 'High_spent_Large_value_payments': 1, 'High_spent_Medium_value_payments': 2, 'High_spent_Small_value_payments': 3, 'Low_spent_Large_value_payments': 4, 'Low_spent_Medium_value_payments': 5, 'Low_spent_Small_value_payments': 6}\n",
      "\n",
      "[INFO] Label Encoding for 'credit_score': {'Good': 0, 'Poor': 1, 'Standard': 2}\n",
      "\n",
      "[INFO] Label Encoding for 'credit_score_encoded': {0: 0, 1: 1, 2: 2}\n",
      "\n",
      "[INFO] Label Encoding for 'credit_utilization_category': {'very_high': 0}\n",
      "\n",
      "[INFO] Label Encoding for 'age_category': {'0-18': 0, '19-30': 1, '31-40': 2, '41-50': 3, '51-60': 4}\n"
     ]
    }
   ],
   "source": [
    "from sklearn.preprocessing import LabelEncoder\n",
    "\n",
    "def label_encode_columns(df, columns=object_columns, verbose=True):\n",
    "    \"\"\"\n",
    "    Performs Label Encoding on specified categorical columns.\n",
    "    \n",
    "    Parameters:\n",
    "        df (pd.DataFrame): The DataFrame to encode.\n",
    "        columns (list): List of column names to be label encoded.\n",
    "        verbose (bool): If True, displays the label mappings.\n",
    "        \n",
    "    Returns:\n",
    "        pd.DataFrame: DataFrame with encoded columns.\n",
    "    \"\"\"\n",
    "    # Loop through the specified columns and encode them\n",
    "    for col in columns:\n",
    "        if col in df.columns:\n",
    "            le = LabelEncoder()\n",
    "            df[col] = le.fit_transform(df[col])\n",
    "            \n",
    "            # Display label mapping\n",
    "            if verbose:\n",
    "                mapping = dict(zip(le.classes_, le.transform(le.classes_)))\n",
    "                print(f\"\\n[INFO] Label Encoding for '{col}': {mapping}\")\n",
    "        else:\n",
    "            print(f\"[WARNING] Column '{col}' not found in DataFrame.\")\n",
    "    \n",
    "    return df\n",
    "df=label_encode_columns(df, columns=object_columns, verbose=True)"
   ]
  },
  {
   "cell_type": "markdown",
   "metadata": {},
   "source": [
    "### target variable"
   ]
  },
  {
   "cell_type": "code",
   "execution_count": 72,
   "metadata": {},
   "outputs": [],
   "source": [
    "from sklearn.model_selection import train_test_split\n",
    "x= df.drop(columns='credit_score')\n",
    "y= df['credit_score']"
   ]
  },
  {
   "cell_type": "markdown",
   "metadata": {},
   "source": [
    "### data split "
   ]
  },
  {
   "cell_type": "code",
   "execution_count": 73,
   "metadata": {},
   "outputs": [],
   "source": [
    "x_train,x_test,y_train,y_test= train_test_split(x,y,test_size=0.2,random_state=20)"
   ]
  },
  {
   "cell_type": "code",
   "execution_count": 74,
   "metadata": {},
   "outputs": [],
   "source": [
    "from sklearn.model_selection import train_test_split\n",
    "from sklearn.linear_model import LinearRegression\n",
    "from sklearn.metrics import mean_squared_error, mean_absolute_error, r2_score\n",
    "from sklearn.preprocessing import StandardScaler\n",
    "import time\n",
    "import numpy as np"
   ]
  },
  {
   "cell_type": "code",
   "execution_count": 75,
   "metadata": {},
   "outputs": [],
   "source": [
    "# Initialize the scaler\n",
    "scaler = StandardScaler()\n",
    "\n",
    "# Fit and transform only the selected columns\n",
    "x_train = scaler.fit_transform(x_train)\n",
    "x_test  = scaler.fit_transform(x_test)\n",
    "#x_t[columns_to_scale] = scaler.fit_transform(x_t[columns_to_scale])\n",
    "#x_te[columns_to_scale] = scaler.fit_transform(x_te[columns_to_scale])"
   ]
  },
  {
   "cell_type": "markdown",
   "metadata": {},
   "source": [
    "### linear regression"
   ]
  },
  {
   "cell_type": "code",
   "execution_count": 76,
   "metadata": {},
   "outputs": [
    {
     "name": "stdout",
     "output_type": "stream",
     "text": [
      "Linear Regression Model Performance:\n",
      "\n",
      " Training Set:\n",
      "  - MSE: 0.0000\n",
      "  - RMSE: 0.0000\n",
      "  - MAE: 0.0000\n",
      "  - R² Score: 1.0000\n",
      "  - Training Time: 0.7081 seconds\n",
      "\n",
      " Testing Set:\n",
      "  - MSE: 0.0000\n",
      "  - RMSE: 0.0012\n",
      "  - MAE: 0.0010\n",
      "  - R² Score: 1.0000\n",
      "  - Prediction Time: 0.02052 seconds\n"
     ]
    }
   ],
   "source": [
    "import time\n",
    "import numpy as np\n",
    "from sklearn.linear_model import LinearRegression\n",
    "from sklearn.metrics import mean_squared_error, mean_absolute_error, r2_score\n",
    "\n",
    "# Initialiser le modèle de régression linéaire\n",
    "model = LinearRegression()\n",
    "\n",
    "# Timing du processus d'entraînement\n",
    "training_start = time.perf_counter()\n",
    "model.fit(x_train, y_train)\n",
    "training_end = time.perf_counter()\n",
    "\n",
    "# Timing du processus de prédiction\n",
    "prediction_start = time.perf_counter()\n",
    "y_pred_train = model.predict(x_train)\n",
    "y_pred_test = model.predict(x_test)\n",
    "prediction_end = time.perf_counter()\n",
    "\n",
    "# Calcul des métriques de régression\n",
    "mse_train = mean_squared_error(y_train, y_pred_train)\n",
    "mse_test = mean_squared_error(y_test, y_pred_test)\n",
    "\n",
    "rmse_train = np.sqrt(mse_train)\n",
    "rmse_test = np.sqrt(mse_test)\n",
    "\n",
    "mae_train = mean_absolute_error(y_train, y_pred_train)\n",
    "mae_test = mean_absolute_error(y_test, y_pred_test)\n",
    "\n",
    "r2_train = r2_score(y_train, y_pred_train)\n",
    "r2_test = r2_score(y_test, y_pred_test)\n",
    "\n",
    "# Temps d'exécution\n",
    "train_time = training_end - training_start\n",
    "prediction_time = prediction_end - prediction_start\n",
    "\n",
    "# Affichage des résultats\n",
    "print(\"Linear Regression Model Performance:\")\n",
    "\n",
    "print(\"\\n Training Set:\")\n",
    "print(f\"  - MSE: {mse_train:.4f}\")\n",
    "print(f\"  - RMSE: {rmse_train:.4f}\")\n",
    "print(f\"  - MAE: {mae_train:.4f}\")\n",
    "print(f\"  - R² Score: {r2_train:.4f}\")\n",
    "print(f\"  - Training Time: {train_time:.4f} seconds\")\n",
    "\n",
    "print(\"\\n Testing Set:\")\n",
    "print(f\"  - MSE: {mse_test:.4f}\")\n",
    "print(f\"  - RMSE: {rmse_test:.4f}\")\n",
    "print(f\"  - MAE: {mae_test:.4f}\")\n",
    "print(f\"  - R² Score: {r2_test:.4f}\")\n",
    "print(f\"  - Prediction Time: {prediction_time:.5f} seconds\")\n"
   ]
  },
  {
   "cell_type": "markdown",
   "metadata": {},
   "source": [
    "### classification"
   ]
  },
  {
   "cell_type": "markdown",
   "metadata": {},
   "source": [
    "#### XGBOOST "
   ]
  },
  {
   "cell_type": "code",
   "execution_count": 77,
   "metadata": {},
   "outputs": [
    {
     "name": "stdout",
     "output_type": "stream",
     "text": [
      "\n",
      " XGBoost Regression Model Performance:\n",
      "\n",
      "Training Set:\n",
      "  - RMSE: 0.0000\n",
      "  - MAE: 0.0000\n",
      "  - R² Score: 1.0000\n",
      "  - Training Time: 2.7209 seconds\n",
      "\n",
      "Testing Set:\n",
      "  - RMSE: 0.8360\n",
      "  - MAE: 0.7567\n",
      "  - R² Score: -0.4452\n",
      "  - Prediction Time: 0.14443 seconds\n"
     ]
    }
   ],
   "source": [
    "import time\n",
    "import numpy as np\n",
    "import pandas as pd\n",
    "import xgboost as xgb\n",
    "from sklearn.metrics import mean_squared_error, mean_absolute_error, r2_score\n",
    "from sklearn.model_selection import train_test_split\n",
    "# Convertir en DMatrix\n",
    "dtrain = xgb.DMatrix(x_train, label=y_train)\n",
    "dtest = xgb.DMatrix(x_test, label=y_test)\n",
    "\n",
    "\n",
    "# Define XGBoost parameters\n",
    "params = {\n",
    "    \"objective\": \"reg:squarederror\",  # Regression objective\n",
    "    \"eval_metric\": \"rmse\",  # Evaluation metric\n",
    "    \"eta\": 0.1,  # Learning rate\n",
    "    \"max_depth\": 6,  # Tree depth\n",
    "    \"subsample\": 0.8,  # Row sampling\n",
    "    \"colsample_bytree\": 0.8,  # Feature sampling\n",
    "    \"lambda\": 1.0,  # L2 regularization\n",
    "}\n",
    "\n",
    "# Timing the training process\n",
    "training_start = time.perf_counter()\n",
    "xgb_model = xgb.train(params, dtrain, num_boost_round=100)\n",
    "training_end = time.perf_counter()\n",
    "\n",
    "# Timing the prediction process\n",
    "prediction_start = time.perf_counter()\n",
    "y_pred_train = xgb_model.predict(dtrain)\n",
    "y_pred_test = xgb_model.predict(dtest)\n",
    "prediction_end = time.perf_counter()\n",
    "\n",
    "# Compute metrics\n",
    "rmse_train = np.sqrt(mean_squared_error(y_train, y_pred_train))\n",
    "rmse_test = np.sqrt(mean_squared_error(y_test, y_pred_test))\n",
    "\n",
    "mae_train = mean_absolute_error(y_train, y_pred_train)\n",
    "mae_test = mean_absolute_error(y_test, y_pred_test)\n",
    "\n",
    "r2_train = r2_score(y_train, y_pred_train)\n",
    "r2_test = r2_score(y_test, y_pred_test)\n",
    "\n",
    "train_time = training_end - training_start\n",
    "prediction_time = prediction_end - prediction_start\n",
    "\n",
    "# Output results\n",
    "print(\"\\n XGBoost Regression Model Performance:\")\n",
    "\n",
    "print(\"\\nTraining Set:\")\n",
    "print(f\"  - RMSE: {rmse_train:.4f}\")\n",
    "print(f\"  - MAE: {mae_train:.4f}\")\n",
    "print(f\"  - R² Score: {r2_train:.4f}\")\n",
    "print(f\"  - Training Time: {train_time:.4f} seconds\")\n",
    "\n",
    "print(\"\\nTesting Set:\")\n",
    "print(f\"  - RMSE: {rmse_test:.4f}\")\n",
    "print(f\"  - MAE: {mae_test:.4f}\")\n",
    "print(f\"  - R² Score: {r2_test:.4f}\")\n",
    "print(f\"  - Prediction Time: {prediction_time:.5f} seconds\")\n"
   ]
  },
  {
   "cell_type": "markdown",
   "metadata": {},
   "source": [
    "#### logistic regression "
   ]
  },
  {
   "cell_type": "code",
   "execution_count": 78,
   "metadata": {},
   "outputs": [
    {
     "name": "stdout",
     "output_type": "stream",
     "text": [
      "Logistic Regression Model Performance:\n",
      "\n",
      " Training Set:\n",
      "  - Accuracy: 1.0000\n",
      "  - Precision: 1.0000\n",
      "  - Recall: 1.0000\n",
      "  - F1 Score: 1.0000\n",
      "  - Training Time: 2.4677 seconds\n",
      "\n",
      " Testing Set:\n",
      "  - Accuracy: 1.0000\n",
      "  - Precision: 1.0000\n",
      "  - Recall: 1.0000\n",
      "  - F1 Score: 1.0000\n",
      "  - Prediction Time: 0.17663 seconds\n",
      "\n",
      " Confusion Matrix:\n",
      "[[ 3575     0     0]\n",
      " [    0  5797     0]\n",
      " [    0     0 20628]]\n"
     ]
    }
   ],
   "source": [
    "import time\n",
    "from sklearn.linear_model import LogisticRegression\n",
    "from sklearn.metrics import accuracy_score, precision_score, recall_score, f1_score, confusion_matrix\n",
    "from sklearn.metrics import mean_squared_error, mean_absolute_error, r2_score\n",
    "# Initialize Logistic Regression model\n",
    "clf = LogisticRegression(max_iter=1000)\n",
    "\n",
    "# Timing the training process\n",
    "training_start = time.perf_counter()\n",
    "clf.fit(x_train, y_train)\n",
    "training_end = time.perf_counter()\n",
    "\n",
    "# Timing the prediction process\n",
    "prediction_start = time.perf_counter()\n",
    "y_pred_train = clf.predict(x_train)\n",
    "y_pred_test = clf.predict(x_test)\n",
    "prediction_end = time.perf_counter()\n",
    "\n",
    "# Compute classification metrics\n",
    "accuracy_train = accuracy_score(y_train, y_pred_train)\n",
    "accuracy_test = accuracy_score(y_test, y_pred_test)\n",
    "\n",
    "precision_train = precision_score(y_train, y_pred_train, average='weighted')\n",
    "precision_test = precision_score(y_test, y_pred_test, average='weighted')\n",
    "\n",
    "recall_train = recall_score(y_train, y_pred_train, average='weighted')\n",
    "recall_test = recall_score(y_test, y_pred_test, average='weighted')\n",
    "f1_train = f1_score(y_train, y_pred_train, average='weighted')\n",
    "f1_test = f1_score(y_test, y_pred_test, average='weighted')\n",
    "# Time metrics\n",
    "train_time = training_end - training_start\n",
    "prediction_time = prediction_end - prediction_start\n",
    "# Output metrics\n",
    "print(\"Logistic Regression Model Performance:\")\n",
    "\n",
    "print(\"\\n Training Set:\")\n",
    "print(f\"  - Accuracy: {accuracy_train:.4f}\")\n",
    "print(f\"  - Precision: {precision_train:.4f}\")\n",
    "print(f\"  - Recall: {recall_train:.4f}\")\n",
    "print(f\"  - F1 Score: {f1_train:.4f}\")\n",
    "print(f\"  - Training Time: {train_time:.4f} seconds\")\n",
    "\n",
    "print(\"\\n Testing Set:\")\n",
    "print(f\"  - Accuracy: {accuracy_test:.4f}\")\n",
    "print(f\"  - Precision: {precision_test:.4f}\")\n",
    "print(f\"  - Recall: {recall_test:.4f}\")\n",
    "print(f\"  - F1 Score: {f1_test:.4f}\")\n",
    "print(f\"  - Prediction Time: {prediction_time:.5f} seconds\")\n",
    "\n",
    "# Confusion Matrix\n",
    "print(\"\\n Confusion Matrix:\")\n",
    "print(confusion_matrix(y_test, y_pred_test))"
   ]
  }
 ],
 "metadata": {
  "kernelspec": {
   "display_name": "base",
   "language": "python",
   "name": "python3"
  },
  "language_info": {
   "codemirror_mode": {
    "name": "ipython",
    "version": 3
   },
   "file_extension": ".py",
   "mimetype": "text/x-python",
   "name": "python",
   "nbconvert_exporter": "python",
   "pygments_lexer": "ipython3",
   "version": "3.11.7"
  }
 },
 "nbformat": 4,
 "nbformat_minor": 2
}
